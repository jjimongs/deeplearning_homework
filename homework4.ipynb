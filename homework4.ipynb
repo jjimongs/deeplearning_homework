{
 "cells": [
  {
   "cell_type": "code",
   "execution_count": 3,
   "id": "initial_id",
   "metadata": {},
   "outputs": [],
   "source": [
    "%%capture\n",
    "!pip install wandb -qU"
   ]
  },
  {
   "cell_type": "code",
   "execution_count": 4,
   "id": "21f226fc",
   "metadata": {},
   "outputs": [
    {
     "data": {
      "text/plain": [
       "True"
      ]
     },
     "execution_count": 4,
     "metadata": {},
     "output_type": "execute_result"
    }
   ],
   "source": [
    "# Log in to your W&B account\n",
    "import wandb\n",
    "wandb.login()"
   ]
  },
  {
   "cell_type": "markdown",
   "id": "7cfb01e4",
   "metadata": {},
   "source": [
    "# [ 문제 1 ] 수업 자료에서 제시하고 있는 다음 코드들을 Backend AI로 옮겨 실행하고 각 결과를 Backend AI 내에 잘 정리하여 제시하기"
   ]
  },
  {
   "cell_type": "markdown",
   "id": "1302059b",
   "metadata": {},
   "source": [
    "## _01_code/_15_lstm_and_its_application/g_crypto_currency_regression_train_lstm.py"
   ]
  },
  {
   "cell_type": "code",
   "execution_count": 5,
   "id": "18fad008",
   "metadata": {},
   "outputs": [
    {
     "name": "stderr",
     "output_type": "stream",
     "text": [
      "/usr/local/lib/python3.10/dist-packages/pydantic/main.py:314: UserWarning: Pydantic serializer warnings:\n",
      "  Expected `list[str]` but got `tuple` - serialized value may not be as expected\n",
      "  return self.__pydantic_serializer__.to_python(\n"
     ]
    },
    {
     "data": {
      "text/html": [
       "Tracking run with wandb version 0.19.1"
      ],
      "text/plain": [
       "<IPython.core.display.HTML object>"
      ]
     },
     "metadata": {},
     "output_type": "display_data"
    },
    {
     "data": {
      "text/html": [
       "Run data is saved locally in <code>/home/work/homework/link_dl/_02_homeworks/homework_3/wandb/run-20241220_060624-jmtowoiv</code>"
      ],
      "text/plain": [
       "<IPython.core.display.HTML object>"
      ]
     },
     "metadata": {},
     "output_type": "display_data"
    },
    {
     "data": {
      "text/html": [
       "Syncing run <strong><a href='https://wandb.ai/jissu02/lstm_regression_btc_krw/runs/jmtowoiv' target=\"_blank\">2024-12-20_06-06-24</a></strong> to <a href='https://wandb.ai/jissu02/lstm_regression_btc_krw' target=\"_blank\">Weights & Biases</a> (<a href='https://wandb.me/developer-guide' target=\"_blank\">docs</a>)<br>"
      ],
      "text/plain": [
       "<IPython.core.display.HTML object>"
      ]
     },
     "metadata": {},
     "output_type": "display_data"
    },
    {
     "data": {
      "text/html": [
       " View project at <a href='https://wandb.ai/jissu02/lstm_regression_btc_krw' target=\"_blank\">https://wandb.ai/jissu02/lstm_regression_btc_krw</a>"
      ],
      "text/plain": [
       "<IPython.core.display.HTML object>"
      ]
     },
     "metadata": {},
     "output_type": "display_data"
    },
    {
     "data": {
      "text/html": [
       " View run at <a href='https://wandb.ai/jissu02/lstm_regression_btc_krw/runs/jmtowoiv' target=\"_blank\">https://wandb.ai/jissu02/lstm_regression_btc_krw/runs/jmtowoiv</a>"
      ],
      "text/plain": [
       "<IPython.core.display.HTML object>"
      ]
     },
     "metadata": {},
     "output_type": "display_data"
    },
    {
     "name": "stdout",
     "output_type": "stream",
     "text": [
      "Training on device cuda:0.\n",
      "[Epoch   1] T_loss: 6.19989, V_loss: 13.51782, Early stopping is stated! | T_time: 00:00:00, T_speed: 0.005\n",
      "[Epoch  30] T_loss: 2.96197, V_loss: 6.44334, V_loss decreased (13.51782 --> 6.44334). Saving model... | T_time: 00:00:01, T_speed: 0.075\n",
      "[Epoch  60] T_loss: 0.27746, V_loss: 0.05926, V_loss decreased (6.44334 --> 0.05926). Saving model... | T_time: 00:00:02, T_speed: 0.092\n",
      "[Epoch  90] T_loss: 0.11513, V_loss: 0.03337, V_loss decreased (0.05926 --> 0.03337). Saving model... | T_time: 00:00:03, T_speed: 0.125\n",
      "[Epoch 120] T_loss: 0.08398, V_loss: 0.02895, V_loss decreased (0.03337 --> 0.02895). Saving model... | T_time: 00:00:04, T_speed: 0.153\n",
      "[Epoch 150] T_loss: 0.06773, V_loss: 0.02472, V_loss decreased (0.02895 --> 0.02472). Saving model... | T_time: 00:00:05, T_speed: 0.174\n",
      "[Epoch 180] T_loss: 0.05612, V_loss: 0.02558, Early stopping counter: 1 out of 30 | T_time: 00:00:07, T_speed: 1.559\n",
      "[Epoch 210] T_loss: 0.04758, V_loss: 0.02899, Early stopping counter: 2 out of 30 | T_time: 00:00:08, T_speed: 0.393\n",
      "[Epoch 240] T_loss: 0.04263, V_loss: 0.02927, Early stopping counter: 3 out of 30 | T_time: 00:00:09, T_speed: 0.258\n",
      "[Epoch 270] T_loss: 0.03853, V_loss: 0.02964, Early stopping counter: 4 out of 30 | T_time: 00:00:11, T_speed: 1.581\n",
      "[Epoch 300] T_loss: 0.03390, V_loss: 0.02454, V_loss decreased (0.02472 --> 0.02454). Saving model... | T_time: 00:00:12, T_speed: 0.534\n",
      "[Epoch 330] T_loss: 0.03129, V_loss: 0.02029, V_loss decreased (0.02454 --> 0.02029). Saving model... | T_time: 00:00:13, T_speed: 0.337\n",
      "[Epoch 360] T_loss: 0.03023, V_loss: 0.01882, V_loss decreased (0.02029 --> 0.01882). Saving model... | T_time: 00:00:15, T_speed: 0.907\n",
      "[Epoch 390] T_loss: 0.02809, V_loss: 0.01715, V_loss decreased (0.01882 --> 0.01715). Saving model... | T_time: 00:00:16, T_speed: 0.598\n",
      "[Epoch 420] T_loss: 0.02724, V_loss: 0.01593, V_loss decreased (0.01715 --> 0.01593). Saving model... | T_time: 00:00:18, T_speed: 6.058\n",
      "[Epoch 450] T_loss: 0.02586, V_loss: 0.01532, V_loss decreased (0.01593 --> 0.01532). Saving model... | T_time: 00:00:19, T_speed: 1.406\n",
      "[Epoch 480] T_loss: 0.02516, V_loss: 0.01505, V_loss decreased (0.01532 --> 0.01505). Saving model... | T_time: 00:00:20, T_speed: 0.627\n",
      "[Epoch 510] T_loss: 0.02398, V_loss: 0.01523, Early stopping counter: 1 out of 30 | T_time: 00:00:22, T_speed: 3.037\n",
      "[Epoch 540] T_loss: 0.02350, V_loss: 0.01378, V_loss decreased (0.01505 --> 0.01378). Saving model... | T_time: 00:00:23, T_speed: 0.991\n",
      "[Epoch 570] T_loss: 0.02273, V_loss: 0.01409, Early stopping counter: 1 out of 30 | T_time: 00:00:24, T_speed: 0.730\n",
      "[Epoch 600] T_loss: 0.02162, V_loss: 0.01307, V_loss decreased (0.01378 --> 0.01307). Saving model... | T_time: 00:00:26, T_speed: 3.774\n",
      "[Epoch 630] T_loss: 0.02085, V_loss: 0.01260, V_loss decreased (0.01307 --> 0.01260). Saving model... | T_time: 00:00:27, T_speed: 1.163\n",
      "[Epoch 660] T_loss: 0.02023, V_loss: 0.01213, V_loss decreased (0.01260 --> 0.01213). Saving model... | T_time: 00:00:28, T_speed: 0.849\n",
      "[Epoch 690] T_loss: 0.02051, V_loss: 0.01247, Early stopping counter: 1 out of 30 | T_time: 00:00:30, T_speed: 4.200\n",
      "[Epoch 720] T_loss: 0.01938, V_loss: 0.01180, V_loss decreased (0.01213 --> 0.01180). Saving model... | T_time: 00:00:31, T_speed: 1.343\n",
      "[Epoch 750] T_loss: 0.01901, V_loss: 0.01085, V_loss decreased (0.01180 --> 0.01085). Saving model... | T_time: 00:00:32, T_speed: 0.943\n",
      "[Epoch 780] T_loss: 0.01842, V_loss: 0.01119, Early stopping counter: 1 out of 30 | T_time: 00:00:34, T_speed: 4.217\n",
      "[Epoch 810] T_loss: 0.01749, V_loss: 0.01090, Early stopping counter: 2 out of 30 | T_time: 00:00:35, T_speed: 1.906\n",
      "[Epoch 840] T_loss: 0.01775, V_loss: 0.01103, Early stopping counter: 3 out of 30 | T_time: 00:00:36, T_speed: 1.020\n",
      "[Epoch 870] T_loss: 0.01692, V_loss: 0.00979, V_loss decreased (0.01085 --> 0.00979). Saving model... | T_time: 00:00:38, T_speed: 20.961\n",
      "[Epoch 900] T_loss: 0.01708, V_loss: 0.01093, Early stopping counter: 1 out of 30 | T_time: 00:00:39, T_speed: 2.066\n",
      "[Epoch 930] T_loss: 0.01661, V_loss: 0.01034, Early stopping counter: 2 out of 30 | T_time: 00:00:40, T_speed: 1.131\n",
      "[Epoch 960] T_loss: 0.01559, V_loss: 0.00982, Early stopping counter: 3 out of 30 | T_time: 00:00:42, T_speed: 4.417\n",
      "[Epoch 990] T_loss: 0.01547, V_loss: 0.00944, V_loss decreased (0.00979 --> 0.00944). Saving model... | T_time: 00:00:43, T_speed: 2.246\n",
      "[Epoch 1020] T_loss: 0.01519, V_loss: 0.00910, V_loss decreased (0.00944 --> 0.00910). Saving model... | T_time: 00:00:44, T_speed: 1.220\n",
      "[Epoch 1050] T_loss: 0.01486, V_loss: 0.00875, V_loss decreased (0.00910 --> 0.00875). Saving model... | T_time: 00:00:46, T_speed: 4.278\n",
      "[Epoch 1080] T_loss: 0.01412, V_loss: 0.00892, Early stopping counter: 1 out of 30 | T_time: 00:00:47, T_speed: 2.246\n",
      "[Epoch 1110] T_loss: 0.01391, V_loss: 0.00904, Early stopping counter: 2 out of 30 | T_time: 00:00:48, T_speed: 1.316\n",
      "[Epoch 1140] T_loss: 0.01403, V_loss: 0.00868, V_loss decreased (0.00875 --> 0.00868). Saving model... | T_time: 00:00:50, T_speed: 17.859\n",
      "[Epoch 1170] T_loss: 0.01352, V_loss: 0.00931, Early stopping counter: 1 out of 30 | T_time: 00:00:51, T_speed: 2.563\n",
      "[Epoch 1200] T_loss: 0.01330, V_loss: 0.00818, V_loss decreased (0.00868 --> 0.00818). Saving model... | T_time: 00:00:52, T_speed: 1.461\n",
      "[Epoch 1230] T_loss: 0.01284, V_loss: 0.00831, Early stopping counter: 1 out of 30 | T_time: 00:00:54, T_speed: 29.375\n",
      "[Epoch 1260] T_loss: 0.01327, V_loss: 0.00958, Early stopping counter: 2 out of 30 | T_time: 00:00:55, T_speed: 2.922\n",
      "[Epoch 1290] T_loss: 0.01334, V_loss: 0.00772, V_loss decreased (0.00818 --> 0.00772). Saving model... | T_time: 00:00:56, T_speed: 1.611\n",
      "[Epoch 1320] T_loss: 0.01281, V_loss: 0.00840, Early stopping counter: 1 out of 30 | T_time: 00:00:58, T_speed: 27.252\n",
      "[Epoch 1350] T_loss: 0.01251, V_loss: 0.01081, Early stopping counter: 2 out of 30 | T_time: 00:00:59, T_speed: 3.287\n",
      "[Epoch 1380] T_loss: 0.01229, V_loss: 0.00868, Early stopping counter: 3 out of 30 | T_time: 00:01:00, T_speed: 2.221\n",
      "[Epoch 1410] T_loss: 0.01181, V_loss: 0.00849, Early stopping counter: 4 out of 30 | T_time: 00:01:01, T_speed: 1.418\n",
      "[Epoch 1440] T_loss: 0.01195, V_loss: 0.00849, Early stopping counter: 5 out of 30 | T_time: 00:01:03, T_speed: 3.761\n",
      "[Epoch 1470] T_loss: 0.01197, V_loss: 0.00970, Early stopping counter: 6 out of 30 | T_time: 00:01:04, T_speed: 1.955\n",
      "[Epoch 1500] T_loss: 0.01174, V_loss: 0.00797, Early stopping counter: 7 out of 30 | T_time: 00:01:05, T_speed: 1.580\n",
      "[Epoch 1530] T_loss: 0.01148, V_loss: 0.00850, Early stopping counter: 8 out of 30 | T_time: 00:01:07, T_speed: 4.957\n",
      "[Epoch 1560] T_loss: 0.01200, V_loss: 0.00840, Early stopping counter: 9 out of 30 | T_time: 00:01:08, T_speed: 2.238\n",
      "[Epoch 1590] T_loss: 0.01148, V_loss: 0.00903, Early stopping counter: 10 out of 30 | T_time: 00:01:09, T_speed: 1.715\n",
      "[Epoch 1620] T_loss: 0.01118, V_loss: 0.00771, V_loss decreased (0.00772 --> 0.00771). Saving model... | T_time: 00:01:11, T_speed: 5.516\n",
      "[Epoch 1650] T_loss: 0.01169, V_loss: 0.00961, Early stopping counter: 1 out of 30 | T_time: 00:01:12, T_speed: 2.416\n",
      "[Epoch 1680] T_loss: 0.01086, V_loss: 0.00862, Early stopping counter: 2 out of 30 | T_time: 00:01:13, T_speed: 1.858\n",
      "[Epoch 1710] T_loss: 0.01112, V_loss: 0.00879, Early stopping counter: 3 out of 30 | T_time: 00:01:15, T_speed: 6.708\n",
      "[Epoch 1740] T_loss: 0.01040, V_loss: 0.00996, Early stopping counter: 4 out of 30 | T_time: 00:01:16, T_speed: 3.567\n",
      "[Epoch 1770] T_loss: 0.01053, V_loss: 0.00897, Early stopping counter: 5 out of 30 | T_time: 00:01:17, T_speed: 2.055\n",
      "[Epoch 1800] T_loss: 0.01015, V_loss: 0.01138, Early stopping counter: 6 out of 30 | T_time: 00:01:19, T_speed: 7.820\n",
      "[Epoch 1830] T_loss: 0.01021, V_loss: 0.01040, Early stopping counter: 7 out of 30 | T_time: 00:01:20, T_speed: 2.930\n",
      "[Epoch 1860] T_loss: 0.01011, V_loss: 0.00938, Early stopping counter: 8 out of 30 | T_time: 00:01:21, T_speed: 2.163\n",
      "[Epoch 1890] T_loss: 0.00996, V_loss: 0.00867, Early stopping counter: 9 out of 30 | T_time: 00:01:23, T_speed: 6.797\n",
      "[Epoch 1920] T_loss: 0.00991, V_loss: 0.00979, Early stopping counter: 10 out of 30 | T_time: 00:01:24, T_speed: 2.680\n",
      "[Epoch 1950] T_loss: 0.00990, V_loss: 0.00812, Early stopping counter: 11 out of 30 | T_time: 00:01:25, T_speed: 2.041\n"
     ]
    },
    {
     "name": "stdout",
     "output_type": "stream",
     "text": [
      "[Epoch 1980] T_loss: 0.00972, V_loss: 0.00773, Early stopping counter: 12 out of 30 | T_time: 00:01:27, T_speed: 5.738\n",
      "[Epoch 2010] T_loss: 0.01005, V_loss: 0.00859, Early stopping counter: 13 out of 30 | T_time: 00:01:28, T_speed: 2.632\n",
      "[Epoch 2040] T_loss: 0.00955, V_loss: 0.00899, Early stopping counter: 14 out of 30 | T_time: 00:01:30, T_speed: 436.270\n",
      "[Epoch 2070] T_loss: 0.00935, V_loss: 0.00701, V_loss decreased (0.00771 --> 0.00701). Saving model... | T_time: 00:01:31, T_speed: 4.538\n",
      "[Epoch 2100] T_loss: 0.00919, V_loss: 0.00766, Early stopping counter: 1 out of 30 | T_time: 00:01:32, T_speed: 2.369\n",
      "[Epoch 2130] T_loss: 0.00927, V_loss: 0.00948, Early stopping counter: 2 out of 30 | T_time: 00:01:34, T_speed: 7.487\n",
      "[Epoch 2160] T_loss: 0.00917, V_loss: 0.01078, Early stopping counter: 3 out of 30 | T_time: 00:01:35, T_speed: 3.879\n",
      "[Epoch 2190] T_loss: 0.00898, V_loss: 0.01091, Early stopping counter: 4 out of 30 | T_time: 00:01:36, T_speed: 2.246\n",
      "[Epoch 2220] T_loss: 0.00859, V_loss: 0.00679, V_loss decreased (0.00701 --> 0.00679). Saving model... | T_time: 00:01:38, T_speed: 5.785\n",
      "[Epoch 2250] T_loss: 0.00872, V_loss: 0.01070, Early stopping counter: 1 out of 30 | T_time: 00:01:39, T_speed: 3.581\n",
      "[Epoch 2280] T_loss: 0.00848, V_loss: 0.00775, Early stopping counter: 2 out of 30 | T_time: 00:01:41, T_speed: 30.126\n",
      "[Epoch 2310] T_loss: 0.00823, V_loss: 0.00798, Early stopping counter: 3 out of 30 | T_time: 00:01:42, T_speed: 4.826\n",
      "[Epoch 2340] T_loss: 0.00841, V_loss: 0.00676, V_loss decreased (0.00679 --> 0.00676). Saving model... | T_time: 00:01:43, T_speed: 3.250\n",
      "[Epoch 2370] T_loss: 0.00835, V_loss: 0.00888, Early stopping counter: 1 out of 30 | T_time: 00:01:45, T_speed: 15.191\n",
      "[Epoch 2400] T_loss: 0.00826, V_loss: 0.00682, Early stopping counter: 2 out of 30 | T_time: 00:01:46, T_speed: 4.191\n",
      "[Epoch 2430] T_loss: 0.00786, V_loss: 0.01148, Early stopping counter: 3 out of 30 | T_time: 00:01:47, T_speed: 2.457\n",
      "[Epoch 2460] T_loss: 0.00763, V_loss: 0.01223, Early stopping counter: 4 out of 30 | T_time: 00:01:49, T_speed: 9.878\n",
      "[Epoch 2490] T_loss: 0.00784, V_loss: 0.01032, Early stopping counter: 5 out of 30 | T_time: 00:01:50, T_speed: 3.753\n",
      "[Epoch 2520] T_loss: 0.00788, V_loss: 0.00982, Early stopping counter: 6 out of 30 | T_time: 00:01:52, T_speed: 24.071\n",
      "[Epoch 2550] T_loss: 0.00801, V_loss: 0.01136, Early stopping counter: 7 out of 30 | T_time: 00:01:53, T_speed: 7.436\n",
      "[Epoch 2580] T_loss: 0.00748, V_loss: 0.00729, Early stopping counter: 8 out of 30 | T_time: 00:01:54, T_speed: 3.406\n",
      "[Epoch 2610] T_loss: 0.00773, V_loss: 0.00586, V_loss decreased (0.00676 --> 0.00586). Saving model... | T_time: 00:01:56, T_speed: 14.498\n",
      "[Epoch 2640] T_loss: 0.00731, V_loss: 0.00721, Early stopping counter: 1 out of 30 | T_time: 00:01:57, T_speed: 5.879\n",
      "[Epoch 2670] T_loss: 0.00727, V_loss: 0.00824, Early stopping counter: 2 out of 30 | T_time: 00:01:58, T_speed: 3.121\n",
      "[Epoch 2700] T_loss: 0.00780, V_loss: 0.00952, Early stopping counter: 3 out of 30 | T_time: 00:02:00, T_speed: 9.624\n",
      "[Epoch 2730] T_loss: 0.00730, V_loss: 0.01262, Early stopping counter: 4 out of 30 | T_time: 00:02:01, T_speed: 5.125\n",
      "[Epoch 2760] T_loss: 0.00725, V_loss: 0.00912, Early stopping counter: 5 out of 30 | T_time: 00:02:02, T_speed: 2.946\n",
      "[Epoch 2790] T_loss: 0.00738, V_loss: 0.01089, Early stopping counter: 6 out of 30 | T_time: 00:02:04, T_speed: 8.588\n",
      "[Epoch 2820] T_loss: 0.00692, V_loss: 0.00774, Early stopping counter: 7 out of 30 | T_time: 00:02:05, T_speed: 3.834\n",
      "[Epoch 2850] T_loss: 0.00675, V_loss: 0.00917, Early stopping counter: 8 out of 30 | T_time: 00:02:06, T_speed: 2.918\n",
      "[Epoch 2880] T_loss: 0.00692, V_loss: 0.01150, Early stopping counter: 9 out of 30 | T_time: 00:02:08, T_speed: 7.366\n",
      "[Epoch 2910] T_loss: 0.00683, V_loss: 0.01093, Early stopping counter: 10 out of 30 | T_time: 00:02:09, T_speed: 3.618\n",
      "[Epoch 2940] T_loss: 0.00648, V_loss: 0.01043, Early stopping counter: 11 out of 30 | T_time: 00:02:11, T_speed: 53.297\n",
      "[Epoch 2970] T_loss: 0.00660, V_loss: 0.00849, Early stopping counter: 12 out of 30 | T_time: 00:02:12, T_speed: 6.277\n",
      "[Epoch 3000] T_loss: 0.00633, V_loss: 0.00815, Early stopping counter: 13 out of 30 | T_time: 00:02:13, T_speed: 3.378\n",
      "[Epoch 3030] T_loss: 0.00679, V_loss: 0.01263, Early stopping counter: 14 out of 30 | T_time: 00:02:15, T_speed: 22.539\n",
      "[Epoch 3060] T_loss: 0.00688, V_loss: 0.01090, Early stopping counter: 15 out of 30 | T_time: 00:02:16, T_speed: 5.551\n",
      "[Epoch 3090] T_loss: 0.00651, V_loss: 0.00700, Early stopping counter: 16 out of 30 | T_time: 00:02:17, T_speed: 3.177\n",
      "[Epoch 3120] T_loss: 0.00633, V_loss: 0.00842, Early stopping counter: 17 out of 30 | T_time: 00:02:19, T_speed: 14.575\n",
      "[Epoch 3150] T_loss: 0.00586, V_loss: 0.01008, Early stopping counter: 18 out of 30 | T_time: 00:02:20, T_speed: 4.917\n",
      "[Epoch 3180] T_loss: 0.00626, V_loss: 0.01086, Early stopping counter: 19 out of 30 | T_time: 00:02:22, T_speed: 51.695\n",
      "[Epoch 3210] T_loss: 0.00651, V_loss: 0.00687, Early stopping counter: 20 out of 30 | T_time: 00:02:23, T_speed: 6.890\n",
      "[Epoch 3240] T_loss: 0.00629, V_loss: 0.00873, Early stopping counter: 21 out of 30 | T_time: 00:02:24, T_speed: 4.568\n",
      "[Epoch 3270] T_loss: 0.00592, V_loss: 0.00687, Early stopping counter: 22 out of 30 | T_time: 00:02:26, T_speed: 28.887\n",
      "[Epoch 3300] T_loss: 0.00588, V_loss: 0.01316, Early stopping counter: 23 out of 30 | T_time: 00:02:27, T_speed: 6.403\n",
      "[Epoch 3330] T_loss: 0.00586, V_loss: 0.00921, Early stopping counter: 24 out of 30 | T_time: 00:02:28, T_speed: 4.287\n",
      "[Epoch 3360] T_loss: 0.00632, V_loss: 0.00837, Early stopping counter: 25 out of 30 | T_time: 00:02:30, T_speed: 16.821\n",
      "[Epoch 3390] T_loss: 0.00592, V_loss: 0.01228, Early stopping counter: 26 out of 30 | T_time: 00:02:31, T_speed: 5.474\n",
      "[Epoch 3420] T_loss: 0.00616, V_loss: 0.01202, Early stopping counter: 27 out of 30 | T_time: 00:02:32, T_speed: 3.903\n",
      "[Epoch 3450] T_loss: 0.00556, V_loss: 0.01032, Early stopping counter: 28 out of 30 | T_time: 00:02:34, T_speed: 11.345\n",
      "[Epoch 3480] T_loss: 0.00564, V_loss: 0.00896, Early stopping counter: 29 out of 30 | T_time: 00:02:35, T_speed: 4.760\n",
      "[Epoch 3510] T_loss: 0.00565, V_loss: 0.01100, Early stopping counter: 30 out of 30 *** TRAIN EARLY STOPPED! *** | T_time: 00:02:37, T_speed: 24.841\n",
      "Final training time: 00:02:37\n"
     ]
    },
    {
     "data": {
      "text/html": [],
      "text/plain": [
       "<IPython.core.display.HTML object>"
      ]
     },
     "metadata": {},
     "output_type": "display_data"
    },
    {
     "data": {
      "text/html": [
       "<br>    <style><br>        .wandb-row {<br>            display: flex;<br>            flex-direction: row;<br>            flex-wrap: wrap;<br>            justify-content: flex-start;<br>            width: 100%;<br>        }<br>        .wandb-col {<br>            display: flex;<br>            flex-direction: column;<br>            flex-basis: 100%;<br>            flex: 1;<br>            padding: 10px;<br>        }<br>    </style><br><div class=\"wandb-row\"><div class=\"wandb-col\"><h3>Run history:</h3><br/><table class=\"wandb\"><tr><td>Epoch</td><td>▁▁▁▂▂▂▂▃▃▃▃▃▃▄▄▄▄▄▄▅▅▅▅▅▅▆▆▆▆▆▇▇▇▇▇▇████</td></tr><tr><td>Training loss</td><td>█▄▁▁▁▁▁▁▁▁▁▁▁▁▁▁▁▁▁▁▁▁▁▁▁▁▁▁▁▁▁▁▁▁▁▁▁▁▁▁</td></tr><tr><td>Training speed (epochs/sec.)</td><td>▁▁▁▁▁▁▁▂▂▁▂▁▂▁▁▁▇▂▂▂▃▂▃▂▂▂▂█▅▂▄▂▃▂▂▃▂▅▄▇</td></tr><tr><td>Validation loss</td><td>█▄▄▄▄▂▂▂▂▂▁▁▁▁▂▁▁▁▁▁▁▁▁▁▁▁▁▁▁▂▁▁▂▁▂▁▁▂▁▂</td></tr></table><br/></div><div class=\"wandb-col\"><h3>Run summary:</h3><br/><table class=\"wandb\"><tr><td>Epoch</td><td>3510</td></tr><tr><td>Training loss</td><td>0.00565</td></tr><tr><td>Training speed (epochs/sec.)</td><td>24.84129</td></tr><tr><td>Validation loss</td><td>0.011</td></tr></table><br/></div></div>"
      ],
      "text/plain": [
       "<IPython.core.display.HTML object>"
      ]
     },
     "metadata": {},
     "output_type": "display_data"
    },
    {
     "data": {
      "text/html": [
       " View run <strong style=\"color:#cdcd00\">2024-12-20_06-06-24</strong> at: <a href='https://wandb.ai/jissu02/lstm_regression_btc_krw/runs/jmtowoiv' target=\"_blank\">https://wandb.ai/jissu02/lstm_regression_btc_krw/runs/jmtowoiv</a><br> View project at: <a href='https://wandb.ai/jissu02/lstm_regression_btc_krw' target=\"_blank\">https://wandb.ai/jissu02/lstm_regression_btc_krw</a><br>Synced 5 W&B file(s), 0 media file(s), 0 artifact file(s) and 0 other file(s)"
      ],
      "text/plain": [
       "<IPython.core.display.HTML object>"
      ]
     },
     "metadata": {},
     "output_type": "display_data"
    },
    {
     "data": {
      "text/html": [
       "Find logs at: <code>./wandb/run-20241220_060624-jmtowoiv/logs</code>"
      ],
      "text/plain": [
       "<IPython.core.display.HTML object>"
      ]
     },
     "metadata": {},
     "output_type": "display_data"
    }
   ],
   "source": [
    "import torch\n",
    "from torch import nn, optim\n",
    "from torch.utils.data import DataLoader\n",
    "from datetime import datetime\n",
    "import os\n",
    "import wandb\n",
    "from pathlib import Path\n",
    "from easydict import EasyDict\n",
    "\n",
    "BASE_PATH = str(Path(\"__file__\").resolve().parent.parent.parent)  # BASE_PATH: /Users/yhhan/git/link_dl\n",
    "import sys\n",
    "sys.path.append(BASE_PATH)\n",
    "\n",
    "CURRENT_FILE_PATH = os.path.dirname(os.path.abspath(\"__file__\"))\n",
    "CHECKPOINT_FILE_PATH = os.path.join(CURRENT_FILE_PATH, \"checkpoints\")\n",
    "\n",
    "if not os.path.isdir(CHECKPOINT_FILE_PATH):\n",
    "    os.makedirs(os.path.join(CURRENT_FILE_PATH, \"checkpoints\"))\n",
    "\n",
    "from _01_code._14_rnn.g_rnn_trainer import RegressionTrainer\n",
    "from _01_code._03_real_world_data_to_tensors.p_cryptocurrency_dataset_dataloader import get_cryptocurrency_data, \\\n",
    "    CryptoCurrencyDataset\n",
    "\n",
    "def get_config():\n",
    "    return EasyDict({\n",
    "        \"wandb\": True,\n",
    "        \"batch_size\": 2048,\n",
    "        \"epochs\": 10000,\n",
    "        \"learning_rate\": 0.0001,\n",
    "        \"weight_decay\": 0.0,\n",
    "        \"validation_intervals\": 30,\n",
    "        \"early_stop_patience\": 30,\n",
    "        \"early_stop_delta\": 0.000001\n",
    "    })\n",
    "\n",
    "def get_btc_krw_data(sequence_size=21, validation_size=150, test_size=30, is_regression=True):\n",
    "    X_train, X_validation, X_test, y_train, y_validation, y_test, y_train_date, y_validation_date, y_test_date \\\n",
    "        = get_cryptocurrency_data(\n",
    "            sequence_size=sequence_size, validation_size=validation_size, test_size=test_size,\n",
    "            target_column='Close', y_normalizer=1.0e7, is_regression=is_regression\n",
    "        )\n",
    "\n",
    "    train_crypto_currency_dataset = CryptoCurrencyDataset(X=X_train, y=y_train)\n",
    "    validation_crypto_currency_dataset = CryptoCurrencyDataset(X=X_validation, y=y_validation)\n",
    "    test_crypto_currency_dataset = CryptoCurrencyDataset(X=X_test, y=y_test)\n",
    "\n",
    "    train_data_loader = DataLoader(\n",
    "        dataset=train_crypto_currency_dataset, batch_size=wandb.config.batch_size, shuffle=True\n",
    "    )\n",
    "    validation_data_loader = DataLoader(\n",
    "        dataset=validation_crypto_currency_dataset, batch_size=wandb.config.batch_size, shuffle=True\n",
    "    )\n",
    "    test_data_loader = DataLoader(\n",
    "        dataset=test_crypto_currency_dataset, batch_size=len(test_crypto_currency_dataset), shuffle=True\n",
    "    )\n",
    "\n",
    "    return train_data_loader, validation_data_loader, test_data_loader\n",
    "\n",
    "def get_model():\n",
    "    class MyModel(nn.Module):\n",
    "        def __init__(self, n_input, n_output):\n",
    "            super().__init__()\n",
    "            self.lstm = nn.LSTM(input_size=n_input, hidden_size=128, num_layers=2, batch_first=True)\n",
    "            self.fcn = nn.Linear(in_features=128, out_features=n_output)\n",
    "\n",
    "        def forward(self, x):\n",
    "            x, hidden = self.lstm(x)\n",
    "            x = x[:, -1, :]  # x.shape: [32, 128]\n",
    "            x = self.fcn(x)\n",
    "            return x\n",
    "\n",
    "    return MyModel(n_input=5, n_output=1)\n",
    "\n",
    "def main(config):\n",
    "    run_time_str = datetime.now().astimezone().strftime('%Y-%m-%d_%H-%M-%S')\n",
    "    project_name = \"lstm_regression_btc_krw\"\n",
    "    wandb.init(\n",
    "        mode=\"online\" if config.wandb else \"disabled\",\n",
    "        project=project_name,\n",
    "        notes=\"btc_krw experiment with lstm\",\n",
    "        tags=[\"lstm\", \"regression\", \"btc_krw\"],\n",
    "        name=run_time_str,\n",
    "        config=config\n",
    "    )\n",
    "\n",
    "    train_data_loader, validation_data_loader, _ = get_btc_krw_data()\n",
    "    device = torch.device(\"cuda:0\" if torch.cuda.is_available() else \"cpu\")\n",
    "    print(f\"Training on device {device}.\")\n",
    "\n",
    "    model = get_model()\n",
    "    model.to(device)\n",
    "\n",
    "    optimizer = optim.Adam(model.parameters(), lr=config.learning_rate, weight_decay=config.weight_decay)\n",
    "    regression_trainer = RegressionTrainer(\n",
    "        project_name, model, optimizer, train_data_loader, validation_data_loader, None,\n",
    "        run_time_str, wandb, device, CHECKPOINT_FILE_PATH\n",
    "    )\n",
    "    regression_trainer.train_loop()\n",
    "    wandb.finish()\n",
    "\n",
    "if __name__ == \"__main__\":\n",
    "    config = get_config()\n",
    "    main(config)\n"
   ]
  },
  {
   "cell_type": "markdown",
   "id": "cb77126d",
   "metadata": {},
   "source": [
    "## _01_code/_15_lstm_and_its_application/h_crypto_currency_regression_test_lstm.py"
   ]
  },
  {
   "cell_type": "code",
   "execution_count": 9,
   "id": "54ff3329",
   "metadata": {},
   "outputs": [
    {
     "name": "stdout",
     "output_type": "stream",
     "text": [
      "MODEL FILE: /home/work/homework/link_dl/_02_homeworks/homework_3/checkpoints/lstm_regression_btc_krw_checkpoint_latest.pt\n",
      "[TEST DATA]\n",
      " 0: 481.03 <--> 464.58 (Loss:         16.46)\n",
      " 1: 464.78 <--> 466.85 (Loss:          2.07)\n",
      " 2: 441.89 <--> 455.68 (Loss:         13.79)\n",
      " 3: 477.39 <--> 468.41 (Loss:          8.98)\n",
      " 4: 407.48 <--> 444.08 (Loss:         36.60)\n",
      " 5: 399.03 <--> 404.00 (Loss:          4.97)\n",
      " 6: 404.65 <--> 405.02 (Loss:          0.37)\n",
      " 7: 475.69 <--> 462.33 (Loss:         13.36)\n",
      " 8: 483.02 <--> 461.57 (Loss:         21.44)\n",
      " 9: 482.79 <--> 459.89 (Loss:         22.90)\n"
     ]
    },
    {
     "data": {
      "image/png": "[encoded data removed]",
      "text/plain": [
       "<Figure size 600x900 with 3 Axes>"
      ]
     },
     "metadata": {},
     "output_type": "display_data"
    }
   ],
   "source": [
    "import torch\n",
    "import wandb\n",
    "from matplotlib import pyplot as plt\n",
    "from datetime import datetime\n",
    "import os\n",
    "from pathlib import Path\n",
    "from easydict import EasyDict\n",
    "\n",
    "BASE_PATH = str(Path(\"__file__\").resolve().parent.parent.parent)  # BASE_PATH: /Users/yhhan/git/link_dl\n",
    "import sys\n",
    "sys.path.append(BASE_PATH)\n",
    "\n",
    "CURRENT_FILE_PATH = os.path.dirname(os.path.abspath(\"__file__\"))\n",
    "CHECKPOINT_FILE_PATH = os.path.join(CURRENT_FILE_PATH, \"checkpoints\")\n",
    "if not os.path.isdir(CHECKPOINT_FILE_PATH):\n",
    "    os.makedirs(os.path.join(CURRENT_FILE_PATH, \"checkpoints\"))\n",
    "\n",
    "from _01_code._15_lstm_and_its_application.g_crypto_currency_regression_train_lstm import get_model, get_btc_krw_data\n",
    "from _01_code._03_real_world_data_to_tensors.p_cryptocurrency_dataset_dataloader import CryptoCurrencyDataset, get_cryptocurrency_data\n",
    "\n",
    "def get_config():\n",
    "    return EasyDict({\n",
    "        \"wandb\": True,\n",
    "        \"batch_size\": 2048,\n",
    "        \"epochs\": 10000,\n",
    "        \"learning_rate\": 0.0001,\n",
    "        \"weight_decay\": 0.0,\n",
    "        \"validation_intervals\": 30,\n",
    "        \"early_stop_patience\": 30,\n",
    "        \"early_stop_delta\": 0.000001,\n",
    "    })\n",
    "\n",
    "def test(test_model):\n",
    "    _, _, test_data_loader = get_btc_krw_data()\n",
    "\n",
    "    test_model.eval()\n",
    "    y_normalizer = 100\n",
    "\n",
    "    print(\"[TEST DATA]\")\n",
    "    with torch.no_grad():\n",
    "        for test_batch in test_data_loader:\n",
    "            input_test, target_test = test_batch\n",
    "            output_test = test_model(input_test)\n",
    "\n",
    "        for idx, (output, target) in enumerate(zip(output_test, target_test)):\n",
    "            print(\"{0:2}: {1:6,.2f} <--> {2:6,.2f} (Loss: {3:>13,.2f})\".format(\n",
    "                idx,\n",
    "                output.item() * y_normalizer,\n",
    "                target.item() * y_normalizer,\n",
    "                abs(output.squeeze(dim=-1).item() - target.item()) * y_normalizer\n",
    "            ))\n",
    "\n",
    "def predict_all(test_model):\n",
    "    y_normalizer = 100\n",
    "\n",
    "    X_train, X_validation, X_test, y_train, y_validation, y_test, y_train_date, y_validation_date, y_test_date \\\n",
    "        = get_cryptocurrency_data(\n",
    "            sequence_size=10, validation_size=100, test_size=10,\n",
    "            target_column='Close', y_normalizer=1.0e7, is_regression=True\n",
    "        )\n",
    "\n",
    "    train_crypto_currency_dataset = CryptoCurrencyDataset(X=X_train, y=y_train)\n",
    "    validation_crypto_currency_dataset = CryptoCurrencyDataset(X=X_validation, y=y_validation)\n",
    "    test_crypto_currency_dataset = CryptoCurrencyDataset(X=X_test, y=y_test)\n",
    "\n",
    "    dataset_list = [train_crypto_currency_dataset, validation_crypto_currency_dataset, test_crypto_currency_dataset]\n",
    "    dataset_labels = [\"train\", \"validation\", \"test\"]\n",
    "    num = 0\n",
    "    fig, axs = plt.subplots(3, 1, figsize=(6, 9))\n",
    "\n",
    "    for i in range(3):\n",
    "        X = []\n",
    "        TARGET_Y = []\n",
    "        PREDICTION_Y = []\n",
    "        for data in dataset_list[i]:\n",
    "            input, target = data\n",
    "            prediction = test_model(input.unsqueeze(0)).squeeze(-1).squeeze(-1)\n",
    "\n",
    "            X.append(num)\n",
    "            TARGET_Y.append(target.item() * y_normalizer)\n",
    "            PREDICTION_Y.append(prediction.item() * y_normalizer)\n",
    "\n",
    "            num += 1\n",
    "\n",
    "        axs[i].plot(X, TARGET_Y, label='target')\n",
    "        axs[i].plot(X, PREDICTION_Y, label='prediction')\n",
    "        axs[i].set_title(dataset_labels[i])\n",
    "        axs[i].legend()\n",
    "\n",
    "    plt.tight_layout()\n",
    "    plt.show()\n",
    "\n",
    "def main(config):\n",
    "    run_time_str = datetime.now().astimezone().strftime('%Y-%m-%d_%H-%M-%S')\n",
    "    project_name = \"lstm_regression_btc_krw\"\n",
    "    wandb.init(\n",
    "        mode=\"online\",\n",
    "        project=project_name,\n",
    "        notes=\"btc_krw experiment with lstm\",\n",
    "        tags=[\"lstm\", \"regression\", \"btc_krw\"],\n",
    "        name=run_time_str,\n",
    "        config=config\n",
    "    )\n",
    "\n",
    "    test_model = get_model()\n",
    "    latest_file_path = os.path.join(CHECKPOINT_FILE_PATH, f\"{project_name}_checkpoint_latest.pt\")\n",
    "    print(\"MODEL FILE: {0}\".format(latest_file_path))\n",
    "    test_model.load_state_dict(torch.load(latest_file_path, map_location=torch.device('cpu')))\n",
    "\n",
    "    test(test_model)\n",
    "    predict_all(test_model)\n",
    "\n",
    "if __name__ == \"__main__\":\n",
    "    config = get_config()\n",
    "    main(config)\n"
   ]
  },
  {
   "cell_type": "markdown",
   "id": "72c6941e",
   "metadata": {},
   "source": [
    "## _01_code/_15_lstm_and_its_application/i_crypto_currency_classification_train_lstm.py"
   ]
  },
  {
   "cell_type": "code",
   "execution_count": 48,
   "id": "0205e4cd",
   "metadata": {},
   "outputs": [
    {
     "name": "stderr",
     "output_type": "stream",
     "text": [
      "/usr/local/lib/python3.10/dist-packages/pydantic/main.py:314: UserWarning: Pydantic serializer warnings:\n",
      "  Expected `list[str]` but got `tuple` - serialized value may not be as expected\n",
      "  return self.__pydantic_serializer__.to_python(\n"
     ]
    },
    {
     "data": {
      "text/html": [
       "Tracking run with wandb version 0.19.1"
      ],
      "text/plain": [
       "<IPython.core.display.HTML object>"
      ]
     },
     "metadata": {},
     "output_type": "display_data"
    },
    {
     "data": {
      "text/html": [
       "Run data is saved locally in <code>/home/work/homework/link_dl/_02_homeworks/homework_3/wandb/run-20241220_063036-0g03omy7</code>"
      ],
      "text/plain": [
       "<IPython.core.display.HTML object>"
      ]
     },
     "metadata": {},
     "output_type": "display_data"
    },
    {
     "data": {
      "text/html": [
       "Syncing run <strong><a href='https://wandb.ai/jissu02/lstm_classification_btc_krw/runs/0g03omy7' target=\"_blank\">2024-12-20_06-30-36</a></strong> to <a href='https://wandb.ai/jissu02/lstm_classification_btc_krw' target=\"_blank\">Weights & Biases</a> (<a href='https://wandb.me/developer-guide' target=\"_blank\">docs</a>)<br>"
      ],
      "text/plain": [
       "<IPython.core.display.HTML object>"
      ]
     },
     "metadata": {},
     "output_type": "display_data"
    },
    {
     "data": {
      "text/html": [
       " View project at <a href='https://wandb.ai/jissu02/lstm_classification_btc_krw' target=\"_blank\">https://wandb.ai/jissu02/lstm_classification_btc_krw</a>"
      ],
      "text/plain": [
       "<IPython.core.display.HTML object>"
      ]
     },
     "metadata": {},
     "output_type": "display_data"
    },
    {
     "data": {
      "text/html": [
       " View run at <a href='https://wandb.ai/jissu02/lstm_classification_btc_krw/runs/0g03omy7' target=\"_blank\">https://wandb.ai/jissu02/lstm_classification_btc_krw/runs/0g03omy7</a>"
      ],
      "text/plain": [
       "<IPython.core.display.HTML object>"
      ]
     },
     "metadata": {},
     "output_type": "display_data"
    },
    {
     "name": "stdout",
     "output_type": "stream",
     "text": [
      "{'wandb': True, 'batch_size': 2048, 'epochs': 10000, 'learning_rate': 0.0001, 'weight_decay': 0.0, 'validation_intervals': 30, 'early_stop_patience': 30, 'early_stop_delta': 1e-06}\n",
      "{'wandb': True, 'batch_size': 2048, 'epochs': 10000, 'learning_rate': 0.0001, 'weight_decay': 0.0, 'validation_intervals': 30, 'early_stop_patience': 30, 'early_stop_delta': 1e-06}\n",
      "Training on device cuda:0.\n",
      "[Epoch   1] T_loss: 0.69383, T_accuracy: 47.1980 | V_loss: 0.69325, V_accuracy: 49.0000 | Early stopping is stated! | T_time: 00:00:00, T_speed: 0.000\n",
      "[Epoch  30] T_loss: 0.69092, T_accuracy: 53.1445 | V_loss: 0.69263, V_accuracy: 51.0000 | V_loss decreased (0.69325 --> 0.69263). Saving model... | T_time: 00:00:01, T_speed: 30.000\n",
      "[Epoch  60] T_loss: 0.68946, T_accuracy: 53.1756 | V_loss: 0.69262, V_accuracy: 51.0000 | V_loss decreased (0.69263 --> 0.69262). Saving model... | T_time: 00:00:03, T_speed: 20.000\n",
      "[Epoch  90] T_loss: 0.69000, T_accuracy: 53.1445 | V_loss: 0.69258, V_accuracy: 51.0000 | V_loss decreased (0.69262 --> 0.69258). Saving model... | T_time: 00:00:04, T_speed: 22.500\n",
      "[Epoch 120] T_loss: 0.69033, T_accuracy: 53.6426 | V_loss: 0.69262, V_accuracy: 51.0000 | Early stopping counter: 1 out of 30 | T_time: 00:00:06, T_speed: 20.000\n",
      "[Epoch 150] T_loss: 0.69038, T_accuracy: 53.1445 | V_loss: 0.69260, V_accuracy: 51.0000 | Early stopping counter: 2 out of 30 | T_time: 00:00:08, T_speed: 18.750\n",
      "[Epoch 180] T_loss: 0.69049, T_accuracy: 53.2379 | V_loss: 0.69257, V_accuracy: 51.0000 | V_loss decreased (0.69258 --> 0.69257). Saving model... | T_time: 00:00:09, T_speed: 20.000\n",
      "[Epoch 210] T_loss: 0.69042, T_accuracy: 53.1756 | V_loss: 0.69258, V_accuracy: 51.0000 | Early stopping counter: 1 out of 30 | T_time: 00:00:11, T_speed: 19.091\n",
      "[Epoch 240] T_loss: 0.69020, T_accuracy: 53.1445 | V_loss: 0.69259, V_accuracy: 51.0000 | Early stopping counter: 2 out of 30 | T_time: 00:00:13, T_speed: 18.462\n",
      "[Epoch 270] T_loss: 0.69080, T_accuracy: 53.3935 | V_loss: 0.69261, V_accuracy: 51.0000 | Early stopping counter: 3 out of 30 | T_time: 00:00:14, T_speed: 19.286\n",
      "[Epoch 300] T_loss: 0.69071, T_accuracy: 53.4558 | V_loss: 0.69267, V_accuracy: 51.0000 | Early stopping counter: 4 out of 30 | T_time: 00:00:16, T_speed: 18.750\n",
      "[Epoch 330] T_loss: 0.69035, T_accuracy: 53.6737 | V_loss: 0.69289, V_accuracy: 55.0000 | Early stopping counter: 5 out of 30 | T_time: 00:00:17, T_speed: 19.412\n",
      "[Epoch 360] T_loss: 0.69017, T_accuracy: 53.7049 | V_loss: 0.69373, V_accuracy: 48.0000 | Early stopping counter: 6 out of 30 | T_time: 00:00:19, T_speed: 18.947\n",
      "[Epoch 390] T_loss: 0.68865, T_accuracy: 53.4869 | V_loss: 0.69465, V_accuracy: 49.0000 | Early stopping counter: 7 out of 30 | T_time: 00:00:21, T_speed: 18.571\n",
      "[Epoch 420] T_loss: 0.68959, T_accuracy: 53.5492 | V_loss: 0.69443, V_accuracy: 49.0000 | Early stopping counter: 8 out of 30 | T_time: 00:00:22, T_speed: 19.091\n",
      "[Epoch 450] T_loss: 0.68846, T_accuracy: 53.6737 | V_loss: 0.69461, V_accuracy: 49.0000 | Early stopping counter: 9 out of 30 | T_time: 00:00:24, T_speed: 18.750\n",
      "[Epoch 480] T_loss: 0.68821, T_accuracy: 53.6115 | V_loss: 0.69398, V_accuracy: 49.0000 | Early stopping counter: 10 out of 30 | T_time: 00:00:25, T_speed: 19.200\n",
      "[Epoch 510] T_loss: 0.68775, T_accuracy: 53.7983 | V_loss: 0.69364, V_accuracy: 49.0000 | Early stopping counter: 11 out of 30 | T_time: 00:00:27, T_speed: 18.889\n",
      "[Epoch 540] T_loss: 0.68636, T_accuracy: 54.0162 | V_loss: 0.69436, V_accuracy: 49.0000 | Early stopping counter: 12 out of 30 | T_time: 00:00:28, T_speed: 19.286\n",
      "[Epoch 570] T_loss: 0.68580, T_accuracy: 54.0473 | V_loss: 0.69319, V_accuracy: 49.0000 | Early stopping counter: 13 out of 30 | T_time: 00:00:30, T_speed: 19.000\n",
      "[Epoch 600] T_loss: 0.68595, T_accuracy: 54.2653 | V_loss: 0.69336, V_accuracy: 49.0000 | Early stopping counter: 14 out of 30 | T_time: 00:00:32, T_speed: 18.750\n",
      "[Epoch 630] T_loss: 0.68513, T_accuracy: 54.4209 | V_loss: 0.69304, V_accuracy: 50.0000 | Early stopping counter: 15 out of 30 | T_time: 00:00:33, T_speed: 19.091\n",
      "[Epoch 660] T_loss: 0.68326, T_accuracy: 54.5143 | V_loss: 0.69296, V_accuracy: 50.0000 | Early stopping counter: 16 out of 30 | T_time: 00:00:35, T_speed: 18.857\n",
      "[Epoch 690] T_loss: 0.68219, T_accuracy: 54.2653 | V_loss: 0.69272, V_accuracy: 52.0000 | Early stopping counter: 17 out of 30 | T_time: 00:00:37, T_speed: 18.649\n",
      "[Epoch 720] T_loss: 0.68062, T_accuracy: 54.6700 | V_loss: 0.69271, V_accuracy: 51.0000 | Early stopping counter: 18 out of 30 | T_time: 00:00:38, T_speed: 18.947\n",
      "[Epoch 750] T_loss: 0.67907, T_accuracy: 54.9502 | V_loss: 0.69272, V_accuracy: 51.0000 | Early stopping counter: 19 out of 30 | T_time: 00:00:40, T_speed: 18.750\n",
      "[Epoch 780] T_loss: 0.67720, T_accuracy: 54.9191 | V_loss: 0.69298, V_accuracy: 51.0000 | Early stopping counter: 20 out of 30 | T_time: 00:00:41, T_speed: 19.024\n",
      "[Epoch 810] T_loss: 0.67627, T_accuracy: 54.9502 | V_loss: 0.69310, V_accuracy: 51.0000 | Early stopping counter: 21 out of 30 | T_time: 00:00:43, T_speed: 18.837\n",
      "[Epoch 840] T_loss: 0.67536, T_accuracy: 55.0747 | V_loss: 0.69320, V_accuracy: 51.0000 | Early stopping counter: 22 out of 30 | T_time: 00:00:44, T_speed: 19.091\n",
      "[Epoch 870] T_loss: 0.67464, T_accuracy: 54.8879 | V_loss: 0.69342, V_accuracy: 53.0000 | Early stopping counter: 23 out of 30 | T_time: 00:00:46, T_speed: 18.913\n",
      "[Epoch 900] T_loss: 0.67118, T_accuracy: 55.0125 | V_loss: 0.69360, V_accuracy: 52.0000 | Early stopping counter: 24 out of 30 | T_time: 00:00:48, T_speed: 18.750\n",
      "[Epoch 930] T_loss: 0.67246, T_accuracy: 55.2927 | V_loss: 0.69384, V_accuracy: 50.0000 | Early stopping counter: 25 out of 30 | T_time: 00:00:49, T_speed: 18.980\n",
      "[Epoch 960] T_loss: 0.67024, T_accuracy: 55.5729 | V_loss: 0.69426, V_accuracy: 52.0000 | Early stopping counter: 26 out of 30 | T_time: 00:00:51, T_speed: 18.824\n",
      "[Epoch 990] T_loss: 0.67012, T_accuracy: 55.4172 | V_loss: 0.69475, V_accuracy: 48.0000 | Early stopping counter: 27 out of 30 | T_time: 00:00:52, T_speed: 19.038\n",
      "[Epoch 1020] T_loss: 0.66717, T_accuracy: 55.9465 | V_loss: 0.69520, V_accuracy: 47.0000 | Early stopping counter: 28 out of 30 | T_time: 00:00:54, T_speed: 18.889\n",
      "[Epoch 1050] T_loss: 0.66695, T_accuracy: 56.0087 | V_loss: 0.69619, V_accuracy: 46.0000 | Early stopping counter: 29 out of 30 | T_time: 00:00:55, T_speed: 19.091\n",
      "[Epoch 1080] T_loss: 0.66970, T_accuracy: 56.0087 | V_loss: 0.69646, V_accuracy: 46.0000 | Early stopping counter: 30 out of 30 *** TRAIN EARLY STOPPED! *** | T_time: 00:00:57, T_speed: 18.947\n",
      "Final training time: 00:00:57\n"
     ]
    },
    {
     "data": {
      "text/html": [],
      "text/plain": [
       "<IPython.core.display.HTML object>"
      ]
     },
     "metadata": {},
     "output_type": "display_data"
    },
    {
     "data": {
      "text/html": [
       "<br>    <style><br>        .wandb-row {<br>            display: flex;<br>            flex-direction: row;<br>            flex-wrap: wrap;<br>            justify-content: flex-start;<br>            width: 100%;<br>        }<br>        .wandb-col {<br>            display: flex;<br>            flex-direction: column;<br>            flex-basis: 100%;<br>            flex: 1;<br>            padding: 10px;<br>        }<br>    </style><br><div class=\"wandb-row\"><div class=\"wandb-col\"><h3>Run history:</h3><br/><table class=\"wandb\"><tr><td>Epoch</td><td>▁▁▁▂▂▂▂▂▃▃▃▃▃▄▄▄▄▄▄▅▅▅▅▅▆▆▆▆▆▇▇▇▇▇███</td></tr><tr><td>Training accuracy (%)</td><td>▁▆▆▆▆▆▆▆▆▆▆▆▆▆▆▆▆▆▆▆▇▇▇▇▇▇▇▇▇▇▇▇█████</td></tr><tr><td>Training loss</td><td>█▇▇▇▇▇▇▇▇▇▇▇▇▇▇▇▇▆▆▆▆▆▅▅▅▄▄▃▃▃▂▂▂▂▁▁▂</td></tr><tr><td>Training speed (epochs/sec.)</td><td>▁█▆▆▆▅▆▅▅▆▅▆▅▅▅▅▅▅▆▅▅▅▅▅▅▅▅▅▅▅▅▅▅▅▅▅▅</td></tr><tr><td>Validation accuracy (%)</td><td>▃▅▅▅▅▅▅▅▅▅▅█▃▃▃▃▃▃▃▃▃▄▄▆▅▅▅▅▅▆▆▄▆▃▂▁▁</td></tr><tr><td>Validation loss</td><td>▂▁▁▁▁▁▁▁▁▁▁▂▃▅▄▅▄▃▄▂▂▂▂▁▁▁▂▂▂▃▃▃▄▅▆██</td></tr></table><br/></div><div class=\"wandb-col\"><h3>Run summary:</h3><br/><table class=\"wandb\"><tr><td>Epoch</td><td>1080</td></tr><tr><td>Training accuracy (%)</td><td>56.00872</td></tr><tr><td>Training loss</td><td>0.6697</td></tr><tr><td>Training speed (epochs/sec.)</td><td>18.94737</td></tr><tr><td>Validation accuracy (%)</td><td>46</td></tr><tr><td>Validation loss</td><td>0.69646</td></tr></table><br/></div></div>"
      ],
      "text/plain": [
       "<IPython.core.display.HTML object>"
      ]
     },
     "metadata": {},
     "output_type": "display_data"
    },
    {
     "data": {
      "text/html": [
       " View run <strong style=\"color:#cdcd00\">2024-12-20_06-30-36</strong> at: <a href='https://wandb.ai/jissu02/lstm_classification_btc_krw/runs/0g03omy7' target=\"_blank\">https://wandb.ai/jissu02/lstm_classification_btc_krw/runs/0g03omy7</a><br> View project at: <a href='https://wandb.ai/jissu02/lstm_classification_btc_krw' target=\"_blank\">https://wandb.ai/jissu02/lstm_classification_btc_krw</a><br>Synced 5 W&B file(s), 0 media file(s), 0 artifact file(s) and 0 other file(s)"
      ],
      "text/plain": [
       "<IPython.core.display.HTML object>"
      ]
     },
     "metadata": {},
     "output_type": "display_data"
    },
    {
     "data": {
      "text/html": [
       "Find logs at: <code>./wandb/run-20241220_063036-0g03omy7/logs</code>"
      ],
      "text/plain": [
       "<IPython.core.display.HTML object>"
      ]
     },
     "metadata": {},
     "output_type": "display_data"
    }
   ],
   "source": [
    "import torch\n",
    "from torch import nn, optim\n",
    "from datetime import datetime\n",
    "import os\n",
    "import wandb\n",
    "from pathlib import Path\n",
    "from easydict import EasyDict\n",
    "\n",
    "BASE_PATH = str(Path(\"__file__\").resolve().parent.parent.parent)  # BASE_PATH: /Users/yhhan/git/link_dl\n",
    "import sys\n",
    "sys.path.append(BASE_PATH)\n",
    "\n",
    "CURRENT_FILE_PATH = os.path.dirname(os.path.abspath(\"__file__\"))\n",
    "CHECKPOINT_FILE_PATH = os.path.join(CURRENT_FILE_PATH, \"checkpoints\")\n",
    "\n",
    "if not os.path.isdir(CHECKPOINT_FILE_PATH):\n",
    "    os.makedirs(os.path.join(CURRENT_FILE_PATH, \"checkpoints\"))\n",
    "\n",
    "from _01_code._08_fcn_best_practice.c_trainer import ClassificationTrainer\n",
    "from _01_code._15_lstm_and_its_application.g_crypto_currency_regression_train_lstm import get_btc_krw_data\n",
    "\n",
    "def get_config():\n",
    "    return EasyDict({\n",
    "        \"wandb\": True,\n",
    "        \"batch_size\": 2048,\n",
    "        \"epochs\": 10000,\n",
    "        \"learning_rate\": 0.0001,\n",
    "        \"weight_decay\": 0.0,\n",
    "        \"validation_intervals\": 30,\n",
    "        \"early_stop_patience\": 30,\n",
    "        \"early_stop_delta\": 0.000001,\n",
    "    })\n",
    "\n",
    "\n",
    "def get_model():\n",
    "    class MyModel(nn.Module):\n",
    "        def __init__(self, n_input, n_output):\n",
    "            super().__init__()\n",
    "\n",
    "            self.lstm = nn.LSTM(input_size=n_input, hidden_size=256, num_layers=3, batch_first=True)\n",
    "            self.fcn = nn.Linear(in_features=256, out_features=n_output)\n",
    "\n",
    "        def forward(self, x):\n",
    "            x, hidden = self.lstm(x)\n",
    "            x = x[:, -1, :]  # x.shape: [32, 128]\n",
    "            x = self.fcn(x)\n",
    "            return x\n",
    "\n",
    "    return MyModel(n_input=5, n_output=2)\n",
    "\n",
    "def main(config):\n",
    "    run_time_str = datetime.now().astimezone().strftime('%Y-%m-%d_%H-%M-%S')\n",
    "\n",
    "    project_name = \"lstm_classification_btc_krw\"\n",
    "    wandb.init(\n",
    "        mode=\"online\" if config.wandb else \"disabled\",\n",
    "        project=project_name,\n",
    "        notes=\"btc_krw experiment with lstm\",\n",
    "        tags=[\"lstm\", \"classification\", \"btc_krw\"],\n",
    "        name=run_time_str,\n",
    "        config=config\n",
    "    )\n",
    "    print(config)\n",
    "    print(wandb.config)\n",
    "\n",
    "    train_data_loader, validation_data_loader, _ = get_btc_krw_data(is_regression=False)\n",
    "    device = torch.device(\"cuda:0\" if torch.cuda.is_available() else \"cpu\")\n",
    "    print(f\"Training on device {device}.\")\n",
    "\n",
    "    model = get_model()\n",
    "    model.to(device)\n",
    "\n",
    "    optimizer = optim.Adam(model.parameters(), lr=config.learning_rate, weight_decay=config.weight_decay)\n",
    "\n",
    "    classification_trainer = ClassificationTrainer(\n",
    "        project_name, model, optimizer, train_data_loader, validation_data_loader, None,\n",
    "        run_time_str, wandb, device, CHECKPOINT_FILE_PATH\n",
    "    )\n",
    "    classification_trainer.train_loop()\n",
    "\n",
    "    wandb.finish()\n",
    "\n",
    "if __name__ == \"__main__\":\n",
    "    config = get_config()\n",
    "    main(config)\n"
   ]
  },
  {
   "cell_type": "markdown",
   "id": "dd2806e6",
   "metadata": {},
   "source": [
    "## _01_code/_15_lstm_and_its_application/j_crypto_currency_classification_test_lstm.py"
   ]
  },
  {
   "cell_type": "code",
   "execution_count": 49,
   "id": "f303ae57",
   "metadata": {},
   "outputs": [
    {
     "name": "stderr",
     "output_type": "stream",
     "text": [
      "/usr/local/lib/python3.10/dist-packages/pydantic/main.py:314: UserWarning: Pydantic serializer warnings:\n",
      "  Expected `list[str]` but got `tuple` - serialized value may not be as expected\n",
      "  return self.__pydantic_serializer__.to_python(\n"
     ]
    },
    {
     "data": {
      "text/html": [
       "Tracking run with wandb version 0.19.1"
      ],
      "text/plain": [
       "<IPython.core.display.HTML object>"
      ]
     },
     "metadata": {},
     "output_type": "display_data"
    },
    {
     "data": {
      "text/html": [
       "Run data is saved locally in <code>/home/work/homework/link_dl/_02_homeworks/homework_3/wandb/run-20241220_063137-puhsv7ic</code>"
      ],
      "text/plain": [
       "<IPython.core.display.HTML object>"
      ]
     },
     "metadata": {},
     "output_type": "display_data"
    },
    {
     "data": {
      "text/html": [
       "Syncing run <strong><a href='https://wandb.ai/jissu02/lstm_classification_btc_krw/runs/puhsv7ic' target=\"_blank\">2024-12-20_06-31-37</a></strong> to <a href='https://wandb.ai/jissu02/lstm_classification_btc_krw' target=\"_blank\">Weights & Biases</a> (<a href='https://wandb.me/developer-guide' target=\"_blank\">docs</a>)<br>"
      ],
      "text/plain": [
       "<IPython.core.display.HTML object>"
      ]
     },
     "metadata": {},
     "output_type": "display_data"
    },
    {
     "data": {
      "text/html": [
       " View project at <a href='https://wandb.ai/jissu02/lstm_classification_btc_krw' target=\"_blank\">https://wandb.ai/jissu02/lstm_classification_btc_krw</a>"
      ],
      "text/plain": [
       "<IPython.core.display.HTML object>"
      ]
     },
     "metadata": {},
     "output_type": "display_data"
    },
    {
     "data": {
      "text/html": [
       " View run at <a href='https://wandb.ai/jissu02/lstm_classification_btc_krw/runs/puhsv7ic' target=\"_blank\">https://wandb.ai/jissu02/lstm_classification_btc_krw/runs/puhsv7ic</a>"
      ],
      "text/plain": [
       "<IPython.core.display.HTML object>"
      ]
     },
     "metadata": {},
     "output_type": "display_data"
    },
    {
     "name": "stdout",
     "output_type": "stream",
     "text": [
      "MODEL FILE: /home/work/homework/link_dl/_02_homeworks/homework_3/checkpoints/lstm_classification_btc_krw_checkpoint_latest.pt\n",
      "[TEST DATA]\n",
      "TEST RESULTS: 70.000%\n",
      " 0:   0.00 <-->   0.00\n",
      " 1:   0.00 <-->   1.00\n",
      " 2:   1.00 <-->   1.00\n",
      " 3:   0.00 <-->   0.00\n",
      " 4:   0.00 <-->   0.00\n",
      " 5:   1.00 <-->   1.00\n",
      " 6:   0.00 <-->   1.00\n",
      " 7:   1.00 <-->   1.00\n",
      " 8:   1.00 <-->   1.00\n",
      " 9:   0.00 <-->   1.00\n"
     ]
    }
   ],
   "source": [
    "import torch\n",
    "import os\n",
    "from pathlib import Path\n",
    "from datetime import datetime\n",
    "import wandb\n",
    "from easydict import EasyDict\n",
    "\n",
    "BASE_PATH = str(Path(\"__file__\").resolve().parent.parent.parent)  # BASE_PATH: /Users/yhhan/git/link_dl\n",
    "import sys\n",
    "sys.path.append(BASE_PATH)\n",
    "\n",
    "CURRENT_FILE_PATH = os.path.dirname(os.path.abspath(\"__file__\"))\n",
    "CHECKPOINT_FILE_PATH = os.path.join(CURRENT_FILE_PATH, \"checkpoints\")\n",
    "\n",
    "if not os.path.isdir(CHECKPOINT_FILE_PATH):\n",
    "    os.makedirs(os.path.join(CURRENT_FILE_PATH, \"checkpoints\"))\n",
    "\n",
    "from _01_code._15_lstm_and_its_application.g_crypto_currency_regression_train_lstm import get_btc_krw_data\n",
    "from _01_code._15_lstm_and_its_application.i_crypto_currency_classification_train_lstm import get_model\n",
    "\n",
    "def get_config():\n",
    "    return EasyDict({\n",
    "        \"wandb\": True,\n",
    "        \"batch_size\": 2048,\n",
    "        \"epochs\": 10000,\n",
    "        \"learning_rate\": 0.0001,\n",
    "        \"weight_decay\": 0.0,\n",
    "        \"validation_intervals\": 30,\n",
    "        \"early_stop_patience\": 30,\n",
    "        \"early_stop_delta\": 0.000001,\n",
    "    })\n",
    "\n",
    "def test(test_model):\n",
    "    _, _, test_data_loader = get_btc_krw_data(is_regression=False)\n",
    "\n",
    "    test_model.eval()\n",
    "    num_corrects_test = 0\n",
    "    num_tested_samples = 0\n",
    "\n",
    "    print(\"[TEST DATA]\")\n",
    "    with torch.no_grad():\n",
    "        for test_batch in test_data_loader:\n",
    "            input_test, target_test = test_batch\n",
    "            output_test = test_model(input_test)\n",
    "            predicted_test = torch.argmax(output_test, dim=1)\n",
    "            num_corrects_test += torch.sum(torch.eq(predicted_test, target_test))\n",
    "            num_tested_samples += len(input_test)\n",
    "\n",
    "        test_accuracy = 100.0 * num_corrects_test / num_tested_samples\n",
    "        print(f\"TEST RESULTS: {test_accuracy:6.3f}%\")\n",
    "\n",
    "        for idx, (output, target) in enumerate(zip(output_test, target_test)):\n",
    "            print(\"{0:2}: {1:6,.2f} <--> {2:6,.2f}\".format(\n",
    "                idx, torch.argmax(output).item(), target.item()\n",
    "            ))\n",
    "\n",
    "def main(config):\n",
    "    run_time_str = datetime.now().astimezone().strftime('%Y-%m-%d_%H-%M-%S')\n",
    "    project_name = \"lstm_classification_btc_krw\"\n",
    "    \n",
    "    wandb.init(\n",
    "        mode=\"online\" if config.wandb else \"disabled\",\n",
    "        project=project_name,\n",
    "        notes=\"btc_krw experiment with lstm\",\n",
    "        tags=[\"lstm\", \"classification\", \"btc_krw\"],\n",
    "        name=run_time_str,\n",
    "        config=config\n",
    ")\n",
    "\n",
    "\n",
    "    test_model = get_model()\n",
    "\n",
    "    latest_file_path = os.path.join(\n",
    "        CHECKPOINT_FILE_PATH, \"lstm_classification_btc_krw_checkpoint_latest.pt\"\n",
    "    )\n",
    "    print(\"MODEL FILE: {0}\".format(latest_file_path))\n",
    "    test_model.load_state_dict(torch.load(latest_file_path, map_location=torch.device('cpu')))\n",
    "\n",
    "    test(test_model)\n",
    "\n",
    "if __name__ == \"__main__\":\n",
    "    config = get_config()\n",
    "    main(config)"
   ]
  },
  {
   "cell_type": "markdown",
   "id": "b7f5c22e",
   "metadata": {},
   "source": [
    "# [문제 2] 적절한 새로운 모델 구성 및 하이퍼파라미터 찾기"
   ]
  },
  {
   "cell_type": "markdown",
   "id": "7f907dcd",
   "metadata": {},
   "source": [
    "## Classificaition"
   ]
  },
  {
   "cell_type": "code",
   "execution_count": 44,
   "id": "e89dfb20",
   "metadata": {},
   "outputs": [
    {
     "name": "stdout",
     "output_type": "stream",
     "text": [
      "wandb.config: {'wandb': True, 'batch_size': 2048, 'epochs': 10000, 'learning_rate': 0.0001, 'weight_decay': 0.0, 'validation_intervals': 30, 'early_stop_patience': 30, 'early_stop_delta': 1e-06}\n",
      "Training on device cuda:0.\n",
      "[Epoch   1] T_loss: 0.69140, T_accuracy: 52.8020 | V_loss: 0.69320, V_accuracy: 51.0000 | Early stopping is stated! | T_time: 00:00:00, T_speed: 0.000\n",
      "[Epoch  30] T_loss: 0.68980, T_accuracy: 53.0199 | V_loss: 0.69261, V_accuracy: 51.0000 | V_loss decreased (0.69320 --> 0.69261). Saving model... | T_time: 00:00:01, T_speed: 30.000\n",
      "[Epoch  60] T_loss: 0.69115, T_accuracy: 53.0822 | V_loss: 0.69259, V_accuracy: 51.0000 | V_loss decreased (0.69261 --> 0.69259). Saving model... | T_time: 00:00:03, T_speed: 20.000\n",
      "[Epoch  90] T_loss: 0.69004, T_accuracy: 53.1133 | V_loss: 0.69258, V_accuracy: 51.0000 | V_loss decreased (0.69259 --> 0.69258). Saving model... | T_time: 00:00:05, T_speed: 18.000\n",
      "[Epoch 120] T_loss: 0.69024, T_accuracy: 53.1133 | V_loss: 0.69258, V_accuracy: 51.0000 | V_loss decreased (0.69258 --> 0.69258). Saving model... | T_time: 00:00:06, T_speed: 20.000\n",
      "[Epoch 150] T_loss: 0.69006, T_accuracy: 53.1133 | V_loss: 0.69259, V_accuracy: 51.0000 | Early stopping counter: 1 out of 30 | T_time: 00:00:08, T_speed: 18.750\n",
      "[Epoch 180] T_loss: 0.69031, T_accuracy: 53.4558 | V_loss: 0.69262, V_accuracy: 51.0000 | Early stopping counter: 2 out of 30 | T_time: 00:00:10, T_speed: 18.000\n",
      "[Epoch 210] T_loss: 0.68973, T_accuracy: 53.2379 | V_loss: 0.69258, V_accuracy: 51.0000 | Early stopping counter: 3 out of 30 | T_time: 00:00:11, T_speed: 19.091\n",
      "[Epoch 240] T_loss: 0.69041, T_accuracy: 53.2379 | V_loss: 0.69261, V_accuracy: 51.0000 | Early stopping counter: 4 out of 30 | T_time: 00:00:13, T_speed: 18.462\n",
      "[Epoch 270] T_loss: 0.68976, T_accuracy: 53.3624 | V_loss: 0.69277, V_accuracy: 51.0000 | Early stopping counter: 5 out of 30 | T_time: 00:00:14, T_speed: 19.286\n",
      "[Epoch 300] T_loss: 0.68996, T_accuracy: 53.8605 | V_loss: 0.69337, V_accuracy: 46.0000 | Early stopping counter: 6 out of 30 | T_time: 00:00:16, T_speed: 18.750\n",
      "[Epoch 330] T_loss: 0.68896, T_accuracy: 53.4869 | V_loss: 0.69410, V_accuracy: 48.0000 | Early stopping counter: 7 out of 30 | T_time: 00:00:18, T_speed: 18.333\n",
      "[Epoch 360] T_loss: 0.68958, T_accuracy: 53.5181 | V_loss: 0.69539, V_accuracy: 49.0000 | Early stopping counter: 8 out of 30 | T_time: 00:00:19, T_speed: 18.947\n",
      "[Epoch 390] T_loss: 0.68906, T_accuracy: 53.7049 | V_loss: 0.69457, V_accuracy: 49.0000 | Early stopping counter: 9 out of 30 | T_time: 00:00:21, T_speed: 18.571\n",
      "[Epoch 420] T_loss: 0.68908, T_accuracy: 53.5492 | V_loss: 0.69490, V_accuracy: 49.0000 | Early stopping counter: 10 out of 30 | T_time: 00:00:22, T_speed: 19.091\n",
      "[Epoch 450] T_loss: 0.68878, T_accuracy: 53.3624 | V_loss: 0.69385, V_accuracy: 46.0000 | Early stopping counter: 11 out of 30 | T_time: 00:00:24, T_speed: 18.750\n",
      "[Epoch 480] T_loss: 0.68856, T_accuracy: 53.9539 | V_loss: 0.69358, V_accuracy: 50.0000 | Early stopping counter: 12 out of 30 | T_time: 00:00:26, T_speed: 18.462\n",
      "[Epoch 510] T_loss: 0.68738, T_accuracy: 54.1096 | V_loss: 0.69359, V_accuracy: 48.0000 | Early stopping counter: 13 out of 30 | T_time: 00:00:27, T_speed: 18.889\n",
      "[Epoch 540] T_loss: 0.68822, T_accuracy: 53.6115 | V_loss: 0.69313, V_accuracy: 50.0000 | Early stopping counter: 14 out of 30 | T_time: 00:00:29, T_speed: 18.621\n",
      "[Epoch 570] T_loss: 0.68708, T_accuracy: 54.2964 | V_loss: 0.69294, V_accuracy: 50.0000 | Early stopping counter: 15 out of 30 | T_time: 00:00:31, T_speed: 18.387\n",
      "[Epoch 600] T_loss: 0.68562, T_accuracy: 54.4209 | V_loss: 0.69302, V_accuracy: 47.0000 | Early stopping counter: 16 out of 30 | T_time: 00:00:32, T_speed: 18.750\n",
      "[Epoch 630] T_loss: 0.68437, T_accuracy: 54.6389 | V_loss: 0.69288, V_accuracy: 48.0000 | Early stopping counter: 17 out of 30 | T_time: 00:00:34, T_speed: 18.529\n",
      "[Epoch 660] T_loss: 0.68478, T_accuracy: 54.3898 | V_loss: 0.69302, V_accuracy: 51.0000 | Early stopping counter: 18 out of 30 | T_time: 00:00:35, T_speed: 18.857\n",
      "[Epoch 690] T_loss: 0.68427, T_accuracy: 54.3898 | V_loss: 0.69313, V_accuracy: 51.0000 | Early stopping counter: 19 out of 30 | T_time: 00:00:37, T_speed: 18.649\n",
      "[Epoch 720] T_loss: 0.68282, T_accuracy: 54.4832 | V_loss: 0.69328, V_accuracy: 51.0000 | Early stopping counter: 20 out of 30 | T_time: 00:00:39, T_speed: 18.462\n",
      "[Epoch 750] T_loss: 0.68036, T_accuracy: 54.8257 | V_loss: 0.69357, V_accuracy: 50.0000 | Early stopping counter: 21 out of 30 | T_time: 00:00:40, T_speed: 18.750\n",
      "[Epoch 780] T_loss: 0.68006, T_accuracy: 55.1059 | V_loss: 0.69411, V_accuracy: 53.0000 | Early stopping counter: 22 out of 30 | T_time: 00:00:42, T_speed: 18.571\n",
      "[Epoch 810] T_loss: 0.67813, T_accuracy: 55.1681 | V_loss: 0.69385, V_accuracy: 49.0000 | Early stopping counter: 23 out of 30 | T_time: 00:00:44, T_speed: 18.409\n",
      "[Epoch 840] T_loss: 0.67679, T_accuracy: 55.4172 | V_loss: 0.69421, V_accuracy: 50.0000 | Early stopping counter: 24 out of 30 | T_time: 00:00:45, T_speed: 18.667\n",
      "[Epoch 870] T_loss: 0.67373, T_accuracy: 55.4795 | V_loss: 0.69465, V_accuracy: 50.0000 | Early stopping counter: 25 out of 30 | T_time: 00:00:47, T_speed: 18.511\n",
      "[Epoch 900] T_loss: 0.67355, T_accuracy: 55.6040 | V_loss: 0.69528, V_accuracy: 44.0000 | Early stopping counter: 26 out of 30 | T_time: 00:00:48, T_speed: 18.750\n",
      "[Epoch 930] T_loss: 0.67472, T_accuracy: 55.3238 | V_loss: 0.69541, V_accuracy: 44.0000 | Early stopping counter: 27 out of 30 | T_time: 00:00:50, T_speed: 18.600\n",
      "[Epoch 960] T_loss: 0.66941, T_accuracy: 55.9153 | V_loss: 0.69580, V_accuracy: 45.0000 | Early stopping counter: 28 out of 30 | T_time: 00:00:52, T_speed: 18.462\n",
      "[Epoch 990] T_loss: 0.66627, T_accuracy: 56.1644 | V_loss: 0.69710, V_accuracy: 44.0000 | Early stopping counter: 29 out of 30 | T_time: 00:00:53, T_speed: 18.679\n",
      "[Epoch 1020] T_loss: 0.66710, T_accuracy: 56.3823 | V_loss: 0.69705, V_accuracy: 45.0000 | Early stopping counter: 30 out of 30 *** TRAIN EARLY STOPPED! *** | T_time: 00:00:55, T_speed: 18.545\n",
      "Final training time: 00:00:55\n"
     ]
    },
    {
     "data": {
      "text/html": [],
      "text/plain": [
       "<IPython.core.display.HTML object>"
      ]
     },
     "metadata": {},
     "output_type": "display_data"
    },
    {
     "data": {
      "text/html": [
       "<br>    <style><br>        .wandb-row {<br>            display: flex;<br>            flex-direction: row;<br>            flex-wrap: wrap;<br>            justify-content: flex-start;<br>            width: 100%;<br>        }<br>        .wandb-col {<br>            display: flex;<br>            flex-direction: column;<br>            flex-basis: 100%;<br>            flex: 1;<br>            padding: 10px;<br>        }<br>    </style><br><div class=\"wandb-row\"><div class=\"wandb-col\"><h3>Run history:</h3><br/><table class=\"wandb\"><tr><td>Epoch</td><td>▁▁▁▂▂▂▂▂▃▃▃▃▃▄▄▄▄▄▅▅▅▅▆▆▆▆▆▇▇▇▇▇███</td></tr><tr><td>Training accuracy (%)</td><td>▁▁▂▂▂▂▂▂▂▂▃▂▂▃▂▂▃▄▃▄▄▅▄▄▄▅▆▆▆▆▆▆▇██</td></tr><tr><td>Training loss</td><td>███████████▇▇▇▇▇▇▇▇▇▆▆▆▆▆▅▅▄▄▃▃▃▂▁▁</td></tr><tr><td>Training speed (epochs/sec.)</td><td>▁█▆▅▆▅▅▅▅▆▅▅▅▅▅▅▅▅▅▅▅▅▅▅▅▅▅▅▅▅▅▅▅▅▅</td></tr><tr><td>Validation accuracy (%)</td><td>▆▆▆▆▆▆▆▆▆▆▃▄▅▅▅▃▆▄▆▆▃▄▆▆▆▆█▅▆▆▁▁▂▁▂</td></tr><tr><td>Validation loss</td><td>▂▁▁▁▁▁▁▁▁▁▂▃▅▄▅▃▃▃▂▂▂▁▂▂▂▃▃▃▄▄▅▅▆██</td></tr></table><br/></div><div class=\"wandb-col\"><h3>Run summary:</h3><br/><table class=\"wandb\"><tr><td>Epoch</td><td>1020</td></tr><tr><td>Training accuracy (%)</td><td>56.38232</td></tr><tr><td>Training loss</td><td>0.6671</td></tr><tr><td>Training speed (epochs/sec.)</td><td>18.54545</td></tr><tr><td>Validation accuracy (%)</td><td>45</td></tr><tr><td>Validation loss</td><td>0.69705</td></tr></table><br/></div></div>"
      ],
      "text/plain": [
       "<IPython.core.display.HTML object>"
      ]
     },
     "metadata": {},
     "output_type": "display_data"
    },
    {
     "data": {
      "text/html": [
       " View run <strong style=\"color:#cdcd00\">2024-12-20_06-27-16</strong> at: <a href='https://wandb.ai/jissu02/lstm_classification_btc_krw/runs/7hlt16tj' target=\"_blank\">https://wandb.ai/jissu02/lstm_classification_btc_krw/runs/7hlt16tj</a><br> View project at: <a href='https://wandb.ai/jissu02/lstm_classification_btc_krw' target=\"_blank\">https://wandb.ai/jissu02/lstm_classification_btc_krw</a><br>Synced 5 W&B file(s), 0 media file(s), 0 artifact file(s) and 0 other file(s)"
      ],
      "text/plain": [
       "<IPython.core.display.HTML object>"
      ]
     },
     "metadata": {},
     "output_type": "display_data"
    },
    {
     "data": {
      "text/html": [
       "Find logs at: <code>./wandb/run-20241220_062716-7hlt16tj/logs</code>"
      ],
      "text/plain": [
       "<IPython.core.display.HTML object>"
      ]
     },
     "metadata": {},
     "output_type": "display_data"
    }
   ],
   "source": [
    "import torch\n",
    "from torch import nn, optim\n",
    "from datetime import datetime\n",
    "import os\n",
    "import wandb\n",
    "from pathlib import Path\n",
    "from easydict import EasyDict\n",
    "\n",
    "BASE_PATH = str(Path(\"__file__\").resolve().parent.parent.parent)  # BASE_PATH: /Users/yhhan/git/link_dl\n",
    "import sys\n",
    "sys.path.append(BASE_PATH)\n",
    "\n",
    "CURRENT_FILE_PATH = os.path.dirname(os.path.abspath(\"__file__\"))\n",
    "CHECKPOINT_FILE_PATH = os.path.join(CURRENT_FILE_PATH, \"checkpoints\")\n",
    "\n",
    "if not os.path.isdir(CHECKPOINT_FILE_PATH):\n",
    "    os.makedirs(os.path.join(CURRENT_FILE_PATH, \"checkpoints\"))\n",
    "\n",
    "from _01_code._08_fcn_best_practice.c_trainer import ClassificationTrainer\n",
    "from _01_code._15_lstm_and_its_application.g_crypto_currency_regression_train_lstm import get_btc_krw_data\n",
    "\n",
    "\n",
    "# Config 설정\n",
    "def get_config():\n",
    "    return EasyDict({\n",
    "        \"wandb\": True,\n",
    "        \"batch_size\": 2048,\n",
    "        \"epochs\": 10000,\n",
    "        \"learning_rate\": 0.0001,\n",
    "        \"weight_decay\": 0.01, \n",
    "        \"validation_intervals\": 30,\n",
    "        \"early_stop_patience\": 30,\n",
    "        \"early_stop_delta\": 0.00001,\n",
    "    })\n",
    "\n",
    "\n",
    "# 모델 정의\n",
    "def get_model():\n",
    "    class MyModel(nn.Module):\n",
    "        def __init__(self, n_input, n_output):\n",
    "            super().__init__()\n",
    "\n",
    "            self.lstm = nn.LSTM(input_size=n_input, hidden_size=256, num_layers=3, batch_first=True)\n",
    "            self.fcn = nn.Linear(in_features=256, out_features=n_output)\n",
    "\n",
    "        def forward(self, x):\n",
    "            x, hidden = self.lstm(x)\n",
    "            x = x[:, -1, :]  # x.shape: [batch_size, hidden_size]\n",
    "            x = self.fcn(x)\n",
    "            return x\n",
    "\n",
    "    return MyModel(n_input=5, n_output=2)\n",
    "\n",
    "\n",
    "# Main 함수\n",
    "def main(config):\n",
    "    run_time_str = datetime.now().astimezone().strftime('%Y-%m-%d_%H-%M-%S')\n",
    "\n",
    "    # wandb 초기화\n",
    "    project_name = \"hy_lstm_classification_btc_krw\"\n",
    "    wandb.init(\n",
    "        mode=\"online\",\n",
    "        project=project_name,\n",
    "        notes=\"btc_krw experiment with lstm\",\n",
    "        tags=[\"lstm\", \"classification\", \"btc_krw\"],\n",
    "        name=run_time_str,\n",
    "        config=dict(config)  # EasyDict를 dict로 변환\n",
    "    )\n",
    "\n",
    "    # wandb config 확인\n",
    "    print(\"wandb.config:\", dict(wandb.config))\n",
    "\n",
    "    train_data_loader, validation_data_loader, _ = get_btc_krw_data(is_regression=False)\n",
    "    device = torch.device(\"cuda:0\" if torch.cuda.is_available() else \"cpu\")\n",
    "    print(f\"Training on device {device}.\")\n",
    "\n",
    "    model = get_model()\n",
    "    model.to(device)\n",
    "\n",
    "    # 옵티마이저 설정\n",
    "    optimizer = optim.Adam(\n",
    "        model.parameters(),\n",
    "        lr=wandb.config.learning_rate,  # wandb.config에서 학습률 가져옴\n",
    "        \n",
    "    )\n",
    "\n",
    "    # 학습 루프 실행\n",
    "    classification_trainer = ClassificationTrainer(\n",
    "        project_name, model, optimizer, train_data_loader, validation_data_loader, None,\n",
    "        run_time_str, wandb, device, CHECKPOINT_FILE_PATH\n",
    "    )\n",
    "    classification_trainer.train_loop()\n",
    "\n",
    "    wandb.finish()\n",
    "\n",
    "\n",
    "# 실행\n",
    "if __name__ == \"__main__\":\n",
    "    config = get_config()\n",
    "    main(config)\n"
   ]
  },
  {
   "cell_type": "code",
   "execution_count": 52,
   "id": "d3757b37",
   "metadata": {},
   "outputs": [
    {
     "name": "stdout",
     "output_type": "stream",
     "text": [
      "Find logs at: /home/work/homework/link_dl/_02_homeworks/homework_3/wandb/debug-cli.work.log\n",
      "/home/work/homework/link_dl/_02_homeworks/homework_3/wandb/run-20241220_062716-7hlt16tj\n",
      "/usr/local/lib/python3.10/dist-packages/pydantic/main.py:314: UserWarning: Pydantic serializer warnings:\n",
      "  Expected `list[str]` but got `tuple` - serialized value may not be as expected\n",
      "  return self.__pydantic_serializer__.to_python(\n",
      "Syncing: https://wandb.ai/jissu02/lstm_classification_btc_krw/runs/7hlt16tj ... done.\n"
     ]
    }
   ],
   "source": [
    "!wandb sync /home/work/homework/link_dl/_02_homeworks/homework_3/wandb/run-20241220_062716-7hlt16tj"
   ]
  },
  {
   "cell_type": "code",
   "execution_count": 53,
   "id": "e07f117c",
   "metadata": {},
   "outputs": [
    {
     "name": "stdout",
     "output_type": "stream",
     "text": [
      "{\"Training loss\": 0.667095273733139, \"Training accuracy (%)\": 56.38231631382316, \"Training speed (epochs/sec.)\": 18.545454545454547, \"_step\": 34, \"_runtime\": 75.896424072, \"Epoch\": 1020, \"Validation loss\": 0.6970517635345459, \"Validation accuracy (%)\": 45, \"_timestamp\": 1734676112.2867506}"
     ]
    }
   ],
   "source": [
    "cat /home/work/homework/link_dl/_02_homeworks/homework_3/wandb/run-20241220_062716-7hlt16tj/files/wandb-summary.json"
   ]
  },
  {
   "cell_type": "markdown",
   "id": "0b603719",
   "metadata": {},
   "source": [
    "학습한 결과를 wandb로 보려고 하였지만 현재 wandb로 들어가면 \n",
    "No workspace yet\n",
    "\n",
    "This project doesn't currently have workspaces or saved views.\n",
    "\n",
    "Please check back later for updates.\n",
    "\n",
    "이러한 메시지가 뜨고 출력되지 않은 원인을 찾기위해 위와 같이 동기화 명령을 재시도 해보기도 하고, 주요값이 있는지도 확인을 거쳤으나 여전히 동기화되지 않는 현상이 계속되고 있음을 보여 wandb 그래프를 출력하지 못하였다."
   ]
  },
  {
   "cell_type": "markdown",
   "id": "46f84eb1",
   "metadata": {},
   "source": [
    "## classfication test"
   ]
  },
  {
   "cell_type": "code",
   "execution_count": 45,
   "id": "8c7f7849",
   "metadata": {},
   "outputs": [
    {
     "name": "stdout",
     "output_type": "stream",
     "text": [
      "MODEL FILE: /home/work/homework/link_dl/_02_homeworks/homework_3/checkpoints/hy_lstm_classification_btc_krw_checkpoint_latest.pt\n",
      "[TEST DATA]\n",
      "TEST RESULTS: 80.000%\n",
      " 0:   1.00 <-->   1.00\n",
      " 1:   1.00 <-->   1.00\n",
      " 2:   1.00 <-->   1.00\n",
      " 3:   0.00 <-->   0.00\n",
      " 4:   0.00 <-->   0.00\n",
      " 5:   0.00 <-->   1.00\n",
      " 6:   0.00 <-->   0.00\n",
      " 7:   0.00 <-->   1.00\n",
      " 8:   1.00 <-->   1.00\n",
      " 9:   1.00 <-->   1.00\n"
     ]
    }
   ],
   "source": [
    "import torch\n",
    "import os\n",
    "from pathlib import Path\n",
    "from datetime import datetime\n",
    "import wandb\n",
    "from easydict import EasyDict as edict\n",
    "\n",
    "# Base path 설정\n",
    "BASE_PATH = str(Path(\"__file__\").resolve().parent.parent.parent)\n",
    "import sys\n",
    "sys.path.append(BASE_PATH)\n",
    "\n",
    "CURRENT_FILE_PATH = os.path.dirname(os.path.abspath(\"__file__\"))\n",
    "CHECKPOINT_FILE_PATH = os.path.join(CURRENT_FILE_PATH, \"checkpoints\")\n",
    "\n",
    "if not os.path.isdir(CHECKPOINT_FILE_PATH):\n",
    "    os.makedirs(CHECKPOINT_FILE_PATH)\n",
    "\n",
    "from _01_code._15_lstm_and_its_application.g_crypto_currency_regression_train_lstm import get_btc_krw_data\n",
    "from _01_code._15_lstm_and_its_application.i_crypto_currency_classification_train_lstm import get_model\n",
    "\n",
    "\n",
    "def get_args():\n",
    "    args = edict({\n",
    "        \"batch_size\": 1024,\n",
    "        \"epochs\": 1000,\n",
    "        \"learning_rate\": 1e-3,\n",
    "        \"validation_intervals\": 10,\n",
    "        \"early_stop_patience\": 50,\n",
    "        \"early_stop_delta\": 1e-6,\n",
    "    })\n",
    "    return args\n",
    "\n",
    "\n",
    "def test(test_model):\n",
    "    _, _, test_data_loader = get_btc_krw_data(is_regression=False)\n",
    "\n",
    "    test_model.eval()\n",
    "\n",
    "    num_corrects_test = 0\n",
    "    num_tested_samples = 0\n",
    "\n",
    "    print(\"[TEST DATA]\")\n",
    "    with torch.no_grad():\n",
    "        for test_batch in test_data_loader:\n",
    "            input_test, target_test = test_batch\n",
    "\n",
    "            output_test = test_model(input_test)\n",
    "\n",
    "            predicted_test = torch.argmax(output_test, dim=1)\n",
    "            num_corrects_test += torch.sum(torch.eq(predicted_test, target_test))\n",
    "\n",
    "            num_tested_samples += len(input_test)\n",
    "\n",
    "        test_accuracy = 100.0 * num_corrects_test / num_tested_samples\n",
    "\n",
    "        print(f\"TEST RESULTS: {test_accuracy:6.3f}%\")\n",
    "\n",
    "        for idx, (output, target) in enumerate(zip(output_test, target_test)):\n",
    "            print(\"{0:2}: {1:6,.2f} <--> {2:6,.2f}\".format(\n",
    "                idx, torch.argmax(output).item(), target.item()\n",
    "            ))\n",
    "\n",
    "\n",
    "def main():\n",
    "    args = get_args()\n",
    "    run_time_str = datetime.now().astimezone().strftime('%Y-%m-%d_%H-%M-%S')\n",
    "\n",
    "    config = {\n",
    "        'epochs': args.epochs,\n",
    "        'batch_size': args.batch_size,\n",
    "        'validation_intervals': args.validation_intervals,\n",
    "        'learning_rate': args.learning_rate,\n",
    "        'early_stop_patience': args.early_stop_patience,\n",
    "        'early_stop_delta': args.early_stop_delta,\n",
    "    }\n",
    "\n",
    "    project_name = \"hy_lstm_classification_btc_krw\"\n",
    "    wandb.init(\n",
    "        mode=\"disabled\",\n",
    "        project=project_name,\n",
    "        notes=\"btc_krw experiment with lstm\",\n",
    "        tags=[\"lstm\", \"classification\", \"btc_krw\"],\n",
    "        name=run_time_str,\n",
    "        config=config,\n",
    "    )\n",
    "\n",
    "    test_model = get_model()\n",
    "\n",
    "    latest_file_path = os.path.join(\n",
    "        CHECKPOINT_FILE_PATH, f\"{project_name}_checkpoint_latest.pt\"\n",
    "    )\n",
    "    print(\"MODEL FILE: {0}\".format(latest_file_path))\n",
    "    \n",
    "    if os.path.exists(latest_file_path):\n",
    "        test_model.load_state_dict(torch.load(latest_file_path, map_location=torch.device('cpu')))\n",
    "    else:\n",
    "        print(f\"No checkpoint file found at {latest_file_path}\")\n",
    "        return\n",
    "\n",
    "    test(test_model)\n",
    "\n",
    "\n",
    "main()\n"
   ]
  },
  {
   "cell_type": "markdown",
   "id": "57be5b4d",
   "metadata": {},
   "source": [
    "## regression"
   ]
  },
  {
   "cell_type": "code",
   "execution_count": 62,
   "id": "ab051ac6",
   "metadata": {},
   "outputs": [
    {
     "name": "stdout",
     "output_type": "stream",
     "text": [
      "Training on device cuda:0.\n",
      "[Epoch   1] T_loss: 6.25699, V_loss: 13.96365, Early stopping is stated! | T_time: 00:00:00, T_speed: 0.014\n",
      "[Epoch  30] T_loss: 1.98061, V_loss: 2.43307, V_loss decreased (13.96365 --> 2.43307). Saving model... | T_time: 00:00:01, T_speed: 0.050\n",
      "[Epoch  60] T_loss: 0.29660, V_loss: 0.13615, V_loss decreased (2.43307 --> 0.13615). Saving model... | T_time: 00:00:03, T_speed: 0.286\n",
      "[Epoch  90] T_loss: 0.15645, V_loss: 0.04062, V_loss decreased (0.13615 --> 0.04062). Saving model... | T_time: 00:00:04, T_speed: 0.113\n",
      "[Epoch 120] T_loss: 0.12174, V_loss: 0.02761, V_loss decreased (0.04062 --> 0.02761). Saving model... | T_time: 00:00:06, T_speed: 0.208\n",
      "[Epoch 150] T_loss: 0.11265, V_loss: 0.02752, V_loss decreased (0.02761 --> 0.02752). Saving model... | T_time: 00:00:08, T_speed: 0.788\n",
      "[Epoch 180] T_loss: 0.09774, V_loss: 0.02759, Early stopping counter: 1 out of 30 | T_time: 00:00:09, T_speed: 0.181\n",
      "[Epoch 210] T_loss: 0.08929, V_loss: 0.02638, V_loss decreased (0.02752 --> 0.02638). Saving model... | T_time: 00:00:11, T_speed: 0.369\n",
      "[Epoch 240] T_loss: 0.07786, V_loss: 0.02562, V_loss decreased (0.02638 --> 0.02562). Saving model... | T_time: 00:00:13, T_speed: 0.772\n",
      "[Epoch 270] T_loss: 0.07174, V_loss: 0.03991, Early stopping counter: 1 out of 30 | T_time: 00:00:14, T_speed: 0.312\n",
      "[Epoch 300] T_loss: 0.06687, V_loss: 0.02586, Early stopping counter: 2 out of 30 | T_time: 00:00:16, T_speed: 0.842\n",
      "[Epoch 330] T_loss: 0.06954, V_loss: 0.02220, V_loss decreased (0.02562 --> 0.02220). Saving model... | T_time: 00:00:18, T_speed: 5.693\n",
      "[Epoch 360] T_loss: 0.06613, V_loss: 0.02077, V_loss decreased (0.02220 --> 0.02077). Saving model... | T_time: 00:00:19, T_speed: 0.405\n",
      "[Epoch 390] T_loss: 0.06693, V_loss: 0.02301, Early stopping counter: 1 out of 30 | T_time: 00:00:21, T_speed: 0.542\n",
      "[Epoch 420] T_loss: 0.05901, V_loss: 0.02645, Early stopping counter: 2 out of 30 | T_time: 00:00:23, T_speed: 0.575\n",
      "[Epoch 450] T_loss: 0.05994, V_loss: 0.02079, Early stopping counter: 3 out of 30 | T_time: 00:00:25, T_speed: 0.811\n",
      "[Epoch 480] T_loss: 0.05708, V_loss: 0.02097, Early stopping counter: 4 out of 30 | T_time: 00:00:27, T_speed: 0.866\n",
      "[Epoch 510] T_loss: 0.06334, V_loss: 0.02054, V_loss decreased (0.02077 --> 0.02054). Saving model... | T_time: 00:00:29, T_speed: 1.416\n",
      "[Epoch 540] T_loss: 0.05525, V_loss: 0.01665, V_loss decreased (0.02054 --> 0.01665). Saving model... | T_time: 00:00:31, T_speed: 1.401\n",
      "[Epoch 570] T_loss: 0.05645, V_loss: 0.01533, V_loss decreased (0.01665 --> 0.01533). Saving model... | T_time: 00:00:33, T_speed: 3.140\n",
      "[Epoch 600] T_loss: 0.05520, V_loss: 0.01661, Early stopping counter: 1 out of 30 | T_time: 00:00:34, T_speed: 0.625\n",
      "[Epoch 630] T_loss: 0.05356, V_loss: 0.01887, Early stopping counter: 2 out of 30 | T_time: 00:00:36, T_speed: 0.694\n",
      "[Epoch 660] T_loss: 0.05000, V_loss: 0.01586, Early stopping counter: 3 out of 30 | T_time: 00:00:38, T_speed: 0.920\n",
      "[Epoch 690] T_loss: 0.05339, V_loss: 0.01629, Early stopping counter: 4 out of 30 | T_time: 00:00:40, T_speed: 0.955\n",
      "[Epoch 720] T_loss: 0.05451, V_loss: 0.01539, Early stopping counter: 5 out of 30 | T_time: 00:00:42, T_speed: 1.396\n",
      "[Epoch 750] T_loss: 0.05615, V_loss: 0.01603, Early stopping counter: 6 out of 30 | T_time: 00:00:44, T_speed: 1.472\n",
      "[Epoch 780] T_loss: 0.05635, V_loss: 0.01290, V_loss decreased (0.01533 --> 0.01290). Saving model... | T_time: 00:00:46, T_speed: 2.499\n",
      "[Epoch 810] T_loss: 0.05055, V_loss: 0.01298, Early stopping counter: 1 out of 30 | T_time: 00:00:48, T_speed: 2.439\n",
      "[Epoch 840] T_loss: 0.04878, V_loss: 0.01255, V_loss decreased (0.01290 --> 0.01255). Saving model... | T_time: 00:00:50, T_speed: 6.694\n",
      "[Epoch 870] T_loss: 0.04920, V_loss: 0.01264, Early stopping counter: 1 out of 30 | T_time: 00:00:52, T_speed: 5.484\n",
      "[Epoch 900] T_loss: 0.04866, V_loss: 0.01360, Early stopping counter: 2 out of 30 | T_time: 00:00:53, T_speed: 0.964\n",
      "[Epoch 930] T_loss: 0.04650, V_loss: 0.01184, V_loss decreased (0.01255 --> 0.01184). Saving model... | T_time: 00:00:55, T_speed: 1.051\n",
      "[Epoch 960] T_loss: 0.04627, V_loss: 0.01807, Early stopping counter: 1 out of 30 | T_time: 00:00:57, T_speed: 1.340\n",
      "[Epoch 990] T_loss: 0.04734, V_loss: 0.01440, Early stopping counter: 2 out of 30 | T_time: 00:00:59, T_speed: 1.414\n",
      "[Epoch 1020] T_loss: 0.04857, V_loss: 0.01141, V_loss decreased (0.01184 --> 0.01141). Saving model... | T_time: 00:01:01, T_speed: 2.025\n",
      "[Epoch 1050] T_loss: 0.04488, V_loss: 0.01590, Early stopping counter: 1 out of 30 | T_time: 00:01:03, T_speed: 1.935\n",
      "[Epoch 1080] T_loss: 0.04572, V_loss: 0.01614, Early stopping counter: 2 out of 30 | T_time: 00:01:05, T_speed: 3.044\n",
      "[Epoch 1110] T_loss: 0.04159, V_loss: 0.01102, V_loss decreased (0.01141 --> 0.01102). Saving model... | T_time: 00:01:07, T_speed: 2.873\n",
      "[Epoch 1140] T_loss: 0.04427, V_loss: 0.01234, Early stopping counter: 1 out of 30 | T_time: 00:01:09, T_speed: 5.354\n",
      "[Epoch 1170] T_loss: 0.04691, V_loss: 0.01048, V_loss decreased (0.01102 --> 0.01048). Saving model... | T_time: 00:01:11, T_speed: 5.246\n",
      "[Epoch 1200] T_loss: 0.04333, V_loss: 0.01067, Early stopping counter: 1 out of 30 | T_time: 00:01:13, T_speed: 20.549\n",
      "[Epoch 1230] T_loss: 0.04084, V_loss: 0.01023, V_loss decreased (0.01048 --> 0.01023). Saving model... | T_time: 00:01:14, T_speed: 1.492\n",
      "[Epoch 1260] T_loss: 0.05163, V_loss: 0.01088, Early stopping counter: 1 out of 30 | T_time: 00:01:16, T_speed: 1.619\n",
      "[Epoch 1290] T_loss: 0.04340, V_loss: 0.00982, V_loss decreased (0.01023 --> 0.00982). Saving model... | T_time: 00:01:18, T_speed: 2.290\n",
      "[Epoch 1320] T_loss: 0.04696, V_loss: 0.01091, Early stopping counter: 1 out of 30 | T_time: 00:01:20, T_speed: 2.930\n",
      "[Epoch 1350] T_loss: 0.04260, V_loss: 0.01147, Early stopping counter: 2 out of 30 | T_time: 00:01:22, T_speed: 2.617\n",
      "[Epoch 1380] T_loss: 0.04086, V_loss: 0.00964, V_loss decreased (0.00982 --> 0.00964). Saving model... | T_time: 00:01:24, T_speed: 4.316\n",
      "[Epoch 1410] T_loss: 0.04092, V_loss: 0.01002, Early stopping counter: 1 out of 30 | T_time: 00:01:26, T_speed: 4.402\n",
      "[Epoch 1440] T_loss: 0.03785, V_loss: 0.00946, V_loss decreased (0.00964 --> 0.00946). Saving model... | T_time: 00:01:28, T_speed: 12.808\n",
      "[Epoch 1470] T_loss: 0.04362, V_loss: 0.00918, V_loss decreased (0.00946 --> 0.00918). Saving model... | T_time: 00:01:30, T_speed: 17.342\n",
      "[Epoch 1500] T_loss: 0.04156, V_loss: 0.00913, V_loss decreased (0.00918 --> 0.00913). Saving model... | T_time: 00:01:31, T_speed: 1.677\n",
      "[Epoch 1530] T_loss: 0.03966, V_loss: 0.00929, Early stopping counter: 1 out of 30 | T_time: 00:01:33, T_speed: 2.232\n",
      "[Epoch 1560] T_loss: 0.04330, V_loss: 0.01119, Early stopping counter: 2 out of 30 | T_time: 00:01:35, T_speed: 2.545\n",
      "[Epoch 1590] T_loss: 0.03696, V_loss: 0.00935, Early stopping counter: 3 out of 30 | T_time: 00:01:37, T_speed: 4.223\n",
      "[Epoch 1620] T_loss: 0.04015, V_loss: 0.00857, V_loss decreased (0.00913 --> 0.00857). Saving model... | T_time: 00:01:39, T_speed: 4.679\n",
      "[Epoch 1650] T_loss: 0.04039, V_loss: 0.00841, V_loss decreased (0.00857 --> 0.00841). Saving model... | T_time: 00:01:41, T_speed: 11.030\n",
      "[Epoch 1680] T_loss: 0.03645, V_loss: 0.00907, Early stopping counter: 1 out of 30 | T_time: 00:01:43, T_speed: 10.075\n",
      "[Epoch 1710] T_loss: 0.04398, V_loss: 0.00807, V_loss decreased (0.00841 --> 0.00807). Saving model... | T_time: 00:01:44, T_speed: 1.755\n",
      "[Epoch 1740] T_loss: 0.03948, V_loss: 0.01057, Early stopping counter: 1 out of 30 | T_time: 00:01:47, T_speed: 69.798\n",
      "[Epoch 1770] T_loss: 0.04201, V_loss: 0.00898, Early stopping counter: 2 out of 30 | T_time: 00:01:48, T_speed: 2.102\n",
      "[Epoch 1800] T_loss: 0.03747, V_loss: 0.00882, Early stopping counter: 3 out of 30 | T_time: 00:01:50, T_speed: 2.115\n",
      "[Epoch 1830] T_loss: 0.04128, V_loss: 0.00810, Early stopping counter: 4 out of 30 | T_time: 00:01:52, T_speed: 2.856\n",
      "[Epoch 1860] T_loss: 0.04185, V_loss: 0.01098, Early stopping counter: 5 out of 30 | T_time: 00:01:54, T_speed: 3.197\n",
      "[Epoch 1890] T_loss: 0.03785, V_loss: 0.01032, Early stopping counter: 6 out of 30 | T_time: 00:01:56, T_speed: 5.851\n",
      "[Epoch 1920] T_loss: 0.03733, V_loss: 0.00834, Early stopping counter: 7 out of 30 | T_time: 00:01:58, T_speed: 6.977\n"
     ]
    },
    {
     "name": "stdout",
     "output_type": "stream",
     "text": [
      "[Epoch 1950] T_loss: 0.03818, V_loss: 0.00958, Early stopping counter: 8 out of 30 | T_time: 00:02:00, T_speed: 31.333\n",
      "[Epoch 1980] T_loss: 0.03917, V_loss: 0.00713, V_loss decreased (0.00807 --> 0.00713). Saving model... | T_time: 00:02:02, T_speed: 44.705\n",
      "[Epoch 2010] T_loss: 0.04185, V_loss: 0.00835, Early stopping counter: 1 out of 30 | T_time: 00:02:03, T_speed: 2.300\n",
      "[Epoch 2040] T_loss: 0.03913, V_loss: 0.01015, Early stopping counter: 2 out of 30 | T_time: 00:02:05, T_speed: 2.367\n",
      "[Epoch 2070] T_loss: 0.03550, V_loss: 0.01598, Early stopping counter: 3 out of 30 | T_time: 00:02:07, T_speed: 3.147\n",
      "[Epoch 2100] T_loss: 0.04156, V_loss: 0.00830, Early stopping counter: 4 out of 30 | T_time: 00:02:09, T_speed: 3.374\n",
      "[Epoch 2130] T_loss: 0.03584, V_loss: 0.00989, Early stopping counter: 5 out of 30 | T_time: 00:02:11, T_speed: 5.272\n",
      "[Epoch 2160] T_loss: 0.03508, V_loss: 0.00837, Early stopping counter: 6 out of 30 | T_time: 00:02:13, T_speed: 5.953\n",
      "[Epoch 2190] T_loss: 0.03570, V_loss: 0.00684, V_loss decreased (0.00713 --> 0.00684). Saving model... | T_time: 00:02:15, T_speed: 21.169\n",
      "[Epoch 2220] T_loss: 0.03734, V_loss: 0.00833, Early stopping counter: 1 out of 30 | T_time: 00:02:17, T_speed: 42.246\n",
      "[Epoch 2250] T_loss: 0.03744, V_loss: 0.00745, Early stopping counter: 2 out of 30 | T_time: 00:02:18, T_speed: 2.706\n",
      "[Epoch 2280] T_loss: 0.03749, V_loss: 0.00631, V_loss decreased (0.00684 --> 0.00631). Saving model... | T_time: 00:02:20, T_speed: 3.676\n",
      "[Epoch 2310] T_loss: 0.03749, V_loss: 0.00741, Early stopping counter: 1 out of 30 | T_time: 00:02:22, T_speed: 3.694\n",
      "[Epoch 2340] T_loss: 0.03594, V_loss: 0.01468, Early stopping counter: 2 out of 30 | T_time: 00:02:24, T_speed: 5.814\n",
      "[Epoch 2370] T_loss: 0.03718, V_loss: 0.00739, Early stopping counter: 3 out of 30 | T_time: 00:02:26, T_speed: 6.167\n",
      "[Epoch 2400] T_loss: 0.03717, V_loss: 0.00602, V_loss decreased (0.00631 --> 0.00602). Saving model... | T_time: 00:02:28, T_speed: 12.683\n",
      "[Epoch 2430] T_loss: 0.03524, V_loss: 0.00721, Early stopping counter: 1 out of 30 | T_time: 00:02:30, T_speed: 13.645\n",
      "[Epoch 2460] T_loss: 0.03442, V_loss: 0.00593, V_loss decreased (0.00602 --> 0.00593). Saving model... | T_time: 00:02:31, T_speed: 2.549\n",
      "[Epoch 2490] T_loss: 0.03798, V_loss: 0.00889, Early stopping counter: 1 out of 30 | T_time: 00:02:33, T_speed: 2.613\n",
      "[Epoch 2520] T_loss: 0.03751, V_loss: 0.00639, Early stopping counter: 2 out of 30 | T_time: 00:02:35, T_speed: 3.576\n",
      "[Epoch 2550] T_loss: 0.03449, V_loss: 0.00696, Early stopping counter: 3 out of 30 | T_time: 00:02:37, T_speed: 3.968\n",
      "[Epoch 2580] T_loss: 0.03544, V_loss: 0.00655, Early stopping counter: 4 out of 30 | T_time: 00:02:39, T_speed: 6.115\n",
      "[Epoch 2610] T_loss: 0.03593, V_loss: 0.00632, Early stopping counter: 5 out of 30 | T_time: 00:02:41, T_speed: 6.848\n",
      "[Epoch 2640] T_loss: 0.03673, V_loss: 0.01692, Early stopping counter: 6 out of 30 | T_time: 00:02:43, T_speed: 14.357\n",
      "[Epoch 2670] T_loss: 0.03820, V_loss: 0.00839, Early stopping counter: 7 out of 30 | T_time: 00:02:45, T_speed: 17.254\n",
      "[Epoch 2700] T_loss: 0.03542, V_loss: 0.00558, V_loss decreased (0.00593 --> 0.00558). Saving model... | T_time: 00:02:46, T_speed: 2.783\n",
      "[Epoch 2730] T_loss: 0.03688, V_loss: 0.00555, V_loss decreased (0.00558 --> 0.00555). Saving model... | T_time: 00:02:49, T_speed: 90.788\n",
      "[Epoch 2760] T_loss: 0.03408, V_loss: 0.00655, Early stopping counter: 1 out of 30 | T_time: 00:02:51, T_speed: 45.105\n",
      "[Epoch 2790] T_loss: 0.03338, V_loss: 0.00685, Early stopping counter: 2 out of 30 | T_time: 00:02:52, T_speed: 3.182\n",
      "[Epoch 2820] T_loss: 0.03564, V_loss: 0.00760, Early stopping counter: 3 out of 30 | T_time: 00:02:54, T_speed: 3.280\n",
      "[Epoch 2850] T_loss: 0.03335, V_loss: 0.00702, Early stopping counter: 4 out of 30 | T_time: 00:02:56, T_speed: 4.484\n",
      "[Epoch 2880] T_loss: 0.03296, V_loss: 0.00827, Early stopping counter: 5 out of 30 | T_time: 00:02:58, T_speed: 4.617\n",
      "[Epoch 2910] T_loss: 0.03631, V_loss: 0.00953, Early stopping counter: 6 out of 30 | T_time: 00:03:00, T_speed: 6.743\n",
      "[Epoch 2940] T_loss: 0.03422, V_loss: 0.00518, V_loss decreased (0.00555 --> 0.00518). Saving model... | T_time: 00:03:02, T_speed: 6.225\n",
      "[Epoch 2970] T_loss: 0.03697, V_loss: 0.00518, Early stopping counter: 1 out of 30 | T_time: 00:03:04, T_speed: 9.785\n",
      "[Epoch 3000] T_loss: 0.03339, V_loss: 0.02011, Early stopping counter: 2 out of 30 | T_time: 00:03:06, T_speed: 28.372\n",
      "[Epoch 3030] T_loss: 0.03065, V_loss: 0.00620, Early stopping counter: 3 out of 30 | T_time: 00:03:08, T_speed: 26.299\n",
      "[Epoch 3060] T_loss: 0.03562, V_loss: 0.01087, Early stopping counter: 4 out of 30 | T_time: 00:03:09, T_speed: 3.285\n",
      "[Epoch 3090] T_loss: 0.03303, V_loss: 0.00522, Early stopping counter: 5 out of 30 | T_time: 00:03:11, T_speed: 3.223\n",
      "[Epoch 3120] T_loss: 0.03588, V_loss: 0.00877, Early stopping counter: 6 out of 30 | T_time: 00:03:13, T_speed: 4.057\n",
      "[Epoch 3150] T_loss: 0.03417, V_loss: 0.00523, Early stopping counter: 7 out of 30 | T_time: 00:03:15, T_speed: 4.502\n",
      "[Epoch 3180] T_loss: 0.03329, V_loss: 0.00513, V_loss decreased (0.00518 --> 0.00513). Saving model... | T_time: 00:03:17, T_speed: 6.881\n",
      "[Epoch 3210] T_loss: 0.03357, V_loss: 0.00498, V_loss decreased (0.00513 --> 0.00498). Saving model... | T_time: 00:03:19, T_speed: 6.448\n",
      "[Epoch 3240] T_loss: 0.03201, V_loss: 0.00503, Early stopping counter: 1 out of 30 | T_time: 00:03:21, T_speed: 9.764\n",
      "[Epoch 3270] T_loss: 0.03287, V_loss: 0.01367, Early stopping counter: 2 out of 30 | T_time: 00:03:23, T_speed: 9.798\n",
      "[Epoch 3300] T_loss: 0.03251, V_loss: 0.00582, Early stopping counter: 3 out of 30 | T_time: 00:03:25, T_speed: 22.003\n",
      "[Epoch 3330] T_loss: 0.03239, V_loss: 0.00578, Early stopping counter: 4 out of 30 | T_time: 00:03:27, T_speed: 23.167\n",
      "[Epoch 3360] T_loss: 0.03391, V_loss: 0.00571, Early stopping counter: 5 out of 30 | T_time: 00:03:28, T_speed: 3.557\n",
      "[Epoch 3390] T_loss: 0.03312, V_loss: 0.01019, Early stopping counter: 6 out of 30 | T_time: 00:03:30, T_speed: 3.546\n",
      "[Epoch 3420] T_loss: 0.03699, V_loss: 0.00658, Early stopping counter: 7 out of 30 | T_time: 00:03:32, T_speed: 4.376\n",
      "[Epoch 3450] T_loss: 0.03405, V_loss: 0.00484, V_loss decreased (0.00498 --> 0.00484). Saving model... | T_time: 00:03:34, T_speed: 4.562\n",
      "[Epoch 3480] T_loss: 0.03031, V_loss: 0.00682, Early stopping counter: 1 out of 30 | T_time: 00:03:36, T_speed: 6.506\n",
      "[Epoch 3510] T_loss: 0.03319, V_loss: 0.00594, Early stopping counter: 2 out of 30 | T_time: 00:03:38, T_speed: 6.751\n",
      "[Epoch 3540] T_loss: 0.03319, V_loss: 0.00706, Early stopping counter: 3 out of 30 | T_time: 00:03:40, T_speed: 10.624\n",
      "[Epoch 3570] T_loss: 0.03038, V_loss: 0.00497, Early stopping counter: 4 out of 30 | T_time: 00:03:42, T_speed: 10.706\n",
      "[Epoch 3600] T_loss: 0.03490, V_loss: 0.00548, Early stopping counter: 5 out of 30 | T_time: 00:03:44, T_speed: 26.719\n",
      "[Epoch 3630] T_loss: 0.03142, V_loss: 0.00614, Early stopping counter: 6 out of 30 | T_time: 00:03:46, T_speed: 25.686\n",
      "[Epoch 3660] T_loss: 0.03514, V_loss: 0.00836, Early stopping counter: 7 out of 30 | T_time: 00:03:47, T_speed: 3.908\n",
      "[Epoch 3690] T_loss: 0.03023, V_loss: 0.00550, Early stopping counter: 8 out of 30 | T_time: 00:03:49, T_speed: 3.930\n",
      "[Epoch 3720] T_loss: 0.03145, V_loss: 0.00500, Early stopping counter: 9 out of 30 | T_time: 00:03:51, T_speed: 4.892\n",
      "[Epoch 3750] T_loss: 0.03756, V_loss: 0.00487, Early stopping counter: 10 out of 30 | T_time: 00:03:53, T_speed: 4.794\n",
      "[Epoch 3780] T_loss: 0.03526, V_loss: 0.00689, Early stopping counter: 11 out of 30 | T_time: 00:03:55, T_speed: 6.743\n",
      "[Epoch 3810] T_loss: 0.02909, V_loss: 0.00602, Early stopping counter: 12 out of 30 | T_time: 00:03:57, T_speed: 7.375\n",
      "[Epoch 3840] T_loss: 0.03404, V_loss: 0.00539, Early stopping counter: 13 out of 30 | T_time: 00:03:59, T_speed: 11.919\n",
      "[Epoch 3870] T_loss: 0.03286, V_loss: 0.00609, Early stopping counter: 14 out of 30 | T_time: 00:04:01, T_speed: 11.495\n",
      "[Epoch 3900] T_loss: 0.03495, V_loss: 0.00912, Early stopping counter: 15 out of 30 | T_time: 00:04:03, T_speed: 23.337\n",
      "[Epoch 3930] T_loss: 0.02947, V_loss: 0.00835, Early stopping counter: 16 out of 30 | T_time: 00:04:05, T_speed: 21.837\n",
      "[Epoch 3960] T_loss: 0.03015, V_loss: 0.00583, Early stopping counter: 17 out of 30 | T_time: 00:04:07, T_speed: 256.477\n"
     ]
    },
    {
     "name": "stdout",
     "output_type": "stream",
     "text": [
      "[Epoch 3990] T_loss: 0.02910, V_loss: 0.00678, Early stopping counter: 18 out of 30 | T_time: 00:04:09, T_speed: 188.751\n",
      "[Epoch 4020] T_loss: 0.03167, V_loss: 0.00498, Early stopping counter: 19 out of 30 | T_time: 00:04:10, T_speed: 4.396\n",
      "[Epoch 4050] T_loss: 0.02882, V_loss: 0.00559, Early stopping counter: 20 out of 30 | T_time: 00:04:12, T_speed: 4.079\n",
      "[Epoch 4080] T_loss: 0.03127, V_loss: 0.00791, Early stopping counter: 21 out of 30 | T_time: 00:04:14, T_speed: 5.202\n",
      "[Epoch 4110] T_loss: 0.03028, V_loss: 0.00467, V_loss decreased (0.00484 --> 0.00467). Saving model... | T_time: 00:04:16, T_speed: 5.515\n",
      "[Epoch 4140] T_loss: 0.03330, V_loss: 0.00562, Early stopping counter: 1 out of 30 | T_time: 00:04:18, T_speed: 6.980\n",
      "[Epoch 4170] T_loss: 0.03464, V_loss: 0.01453, Early stopping counter: 2 out of 30 | T_time: 00:04:20, T_speed: 7.016\n",
      "[Epoch 4200] T_loss: 0.02959, V_loss: 0.00611, Early stopping counter: 3 out of 30 | T_time: 00:04:22, T_speed: 10.117\n",
      "[Epoch 4230] T_loss: 0.03223, V_loss: 0.01061, Early stopping counter: 4 out of 30 | T_time: 00:04:24, T_speed: 10.303\n",
      "[Epoch 4260] T_loss: 0.02984, V_loss: 0.00474, Early stopping counter: 5 out of 30 | T_time: 00:04:26, T_speed: 20.140\n",
      "[Epoch 4290] T_loss: 0.03413, V_loss: 0.00920, Early stopping counter: 6 out of 30 | T_time: 00:04:28, T_speed: 19.564\n",
      "[Epoch 4320] T_loss: 0.03071, V_loss: 0.00923, Early stopping counter: 7 out of 30 | T_time: 00:04:30, T_speed: 164.240\n",
      "[Epoch 4350] T_loss: 0.03493, V_loss: 0.00482, Early stopping counter: 8 out of 30 | T_time: 00:04:31, T_speed: 4.362\n",
      "[Epoch 4380] T_loss: 0.02883, V_loss: 0.00535, Early stopping counter: 9 out of 30 | T_time: 00:04:33, T_speed: 5.424\n",
      "[Epoch 4410] T_loss: 0.03253, V_loss: 0.00499, Early stopping counter: 10 out of 30 | T_time: 00:04:35, T_speed: 5.749\n",
      "[Epoch 4440] T_loss: 0.03015, V_loss: 0.00468, Early stopping counter: 11 out of 30 | T_time: 00:04:37, T_speed: 8.114\n",
      "[Epoch 4470] T_loss: 0.03346, V_loss: 0.00449, V_loss decreased (0.00467 --> 0.00449). Saving model... | T_time: 00:04:39, T_speed: 7.954\n",
      "[Epoch 4500] T_loss: 0.03041, V_loss: 0.00517, Early stopping counter: 1 out of 30 | T_time: 00:04:41, T_speed: 11.455\n",
      "[Epoch 4530] T_loss: 0.03200, V_loss: 0.00599, Early stopping counter: 2 out of 30 | T_time: 00:04:43, T_speed: 11.107\n",
      "[Epoch 4560] T_loss: 0.03008, V_loss: 0.00603, Early stopping counter: 3 out of 30 | T_time: 00:04:45, T_speed: 21.921\n",
      "[Epoch 4590] T_loss: 0.02998, V_loss: 0.00485, Early stopping counter: 4 out of 30 | T_time: 00:04:47, T_speed: 21.695\n",
      "[Epoch 4620] T_loss: 0.03206, V_loss: 0.00496, Early stopping counter: 5 out of 30 | T_time: 00:04:49, T_speed: 178.110\n",
      "[Epoch 4650] T_loss: 0.03074, V_loss: 0.00496, Early stopping counter: 6 out of 30 | T_time: 00:04:51, T_speed: 200.474\n",
      "[Epoch 4680] T_loss: 0.02838, V_loss: 0.00520, Early stopping counter: 7 out of 30 | T_time: 00:04:52, T_speed: 5.563\n",
      "[Epoch 4710] T_loss: 0.02850, V_loss: 0.00461, Early stopping counter: 8 out of 30 | T_time: 00:04:54, T_speed: 5.904\n",
      "[Epoch 4740] T_loss: 0.03185, V_loss: 0.00497, Early stopping counter: 9 out of 30 | T_time: 00:04:56, T_speed: 8.497\n",
      "[Epoch 4770] T_loss: 0.03154, V_loss: 0.00642, Early stopping counter: 10 out of 30 | T_time: 00:04:58, T_speed: 8.725\n",
      "[Epoch 4800] T_loss: 0.02891, V_loss: 0.00752, Early stopping counter: 11 out of 30 | T_time: 00:05:00, T_speed: 13.682\n",
      "[Epoch 4830] T_loss: 0.03212, V_loss: 0.00441, V_loss decreased (0.00449 --> 0.00441). Saving model... | T_time: 00:05:02, T_speed: 14.126\n",
      "[Epoch 4860] T_loss: 0.03045, V_loss: 0.00460, Early stopping counter: 1 out of 30 | T_time: 00:05:04, T_speed: 29.054\n",
      "[Epoch 4890] T_loss: 0.03055, V_loss: 0.01072, Early stopping counter: 2 out of 30 | T_time: 00:05:06, T_speed: 33.474\n",
      "[Epoch 4920] T_loss: 0.03237, V_loss: 0.00483, Early stopping counter: 3 out of 30 | T_time: 00:05:07, T_speed: 5.144\n",
      "[Epoch 4950] T_loss: 0.03029, V_loss: 0.00812, Early stopping counter: 4 out of 30 | T_time: 00:05:09, T_speed: 5.130\n",
      "[Epoch 4980] T_loss: 0.02909, V_loss: 0.00512, Early stopping counter: 5 out of 30 | T_time: 00:05:11, T_speed: 6.216\n",
      "[Epoch 5010] T_loss: 0.03059, V_loss: 0.00551, Early stopping counter: 6 out of 30 | T_time: 00:05:13, T_speed: 6.137\n",
      "[Epoch 5040] T_loss: 0.03406, V_loss: 0.00445, Early stopping counter: 7 out of 30 | T_time: 00:05:15, T_speed: 8.484\n",
      "[Epoch 5070] T_loss: 0.02853, V_loss: 0.01466, Early stopping counter: 8 out of 30 | T_time: 00:05:17, T_speed: 9.208\n",
      "[Epoch 5100] T_loss: 0.02763, V_loss: 0.01037, Early stopping counter: 9 out of 30 | T_time: 00:05:19, T_speed: 15.289\n",
      "[Epoch 5130] T_loss: 0.02803, V_loss: 0.00629, Early stopping counter: 10 out of 30 | T_time: 00:05:21, T_speed: 14.598\n",
      "[Epoch 5160] T_loss: 0.03016, V_loss: 0.00610, Early stopping counter: 11 out of 30 | T_time: 00:05:23, T_speed: 29.549\n",
      "[Epoch 5190] T_loss: 0.02887, V_loss: 0.00595, Early stopping counter: 12 out of 30 | T_time: 00:05:25, T_speed: 27.818\n",
      "[Epoch 5220] T_loss: 0.02864, V_loss: 0.00566, Early stopping counter: 13 out of 30 | T_time: 00:05:27, T_speed: 262.999\n",
      "[Epoch 5250] T_loss: 0.03056, V_loss: 0.00568, Early stopping counter: 14 out of 30 | T_time: 00:05:29, T_speed: 129.870\n",
      "[Epoch 5280] T_loss: 0.03114, V_loss: 0.00627, Early stopping counter: 15 out of 30 | T_time: 00:05:30, T_speed: 6.208\n",
      "[Epoch 5310] T_loss: 0.02874, V_loss: 0.00956, Early stopping counter: 16 out of 30 | T_time: 00:05:32, T_speed: 6.160\n",
      "[Epoch 5340] T_loss: 0.02957, V_loss: 0.00582, Early stopping counter: 17 out of 30 | T_time: 00:05:34, T_speed: 8.162\n",
      "[Epoch 5370] T_loss: 0.03076, V_loss: 0.00539, Early stopping counter: 18 out of 30 | T_time: 00:05:36, T_speed: 8.991\n",
      "[Epoch 5400] T_loss: 0.02816, V_loss: 0.00485, Early stopping counter: 19 out of 30 | T_time: 00:05:38, T_speed: 15.032\n",
      "[Epoch 5430] T_loss: 0.03082, V_loss: 0.00446, Early stopping counter: 20 out of 30 | T_time: 00:05:40, T_speed: 15.690\n",
      "[Epoch 5460] T_loss: 0.02886, V_loss: 0.00441, Early stopping counter: 21 out of 30 | T_time: 00:05:42, T_speed: 36.443\n",
      "[Epoch 5490] T_loss: 0.02960, V_loss: 0.00448, Early stopping counter: 22 out of 30 | T_time: 00:05:44, T_speed: 41.444\n",
      "[Epoch 5520] T_loss: 0.02696, V_loss: 0.00496, Early stopping counter: 23 out of 30 | T_time: 00:05:45, T_speed: 6.013\n",
      "[Epoch 5550] T_loss: 0.02985, V_loss: 0.00436, V_loss decreased (0.00441 --> 0.00436). Saving model... | T_time: 00:05:47, T_speed: 6.058\n",
      "[Epoch 5580] T_loss: 0.03109, V_loss: 0.00902, Early stopping counter: 1 out of 30 | T_time: 00:05:49, T_speed: 7.442\n",
      "[Epoch 5610] T_loss: 0.02975, V_loss: 0.00552, Early stopping counter: 2 out of 30 | T_time: 00:05:51, T_speed: 7.760\n",
      "[Epoch 5640] T_loss: 0.03049, V_loss: 0.00550, Early stopping counter: 3 out of 30 | T_time: 00:05:53, T_speed: 10.561\n",
      "[Epoch 5670] T_loss: 0.02958, V_loss: 0.00605, Early stopping counter: 4 out of 30 | T_time: 00:05:55, T_speed: 11.231\n",
      "[Epoch 5700] T_loss: 0.02618, V_loss: 0.00776, Early stopping counter: 5 out of 30 | T_time: 00:05:57, T_speed: 20.608\n",
      "[Epoch 5730] T_loss: 0.02635, V_loss: 0.00462, Early stopping counter: 6 out of 30 | T_time: 00:05:59, T_speed: 25.446\n",
      "[Epoch 5760] T_loss: 0.02779, V_loss: 0.01155, Early stopping counter: 7 out of 30 | T_time: 00:06:01, T_speed: 623.039\n",
      "[Epoch 5790] T_loss: 0.02897, V_loss: 0.00472, Early stopping counter: 8 out of 30 | T_time: 00:06:03, T_speed: 256.649\n",
      "[Epoch 5820] T_loss: 0.02794, V_loss: 0.00537, Early stopping counter: 9 out of 30 | T_time: 00:06:04, T_speed: 7.017\n",
      "[Epoch 5850] T_loss: 0.02905, V_loss: 0.00621, Early stopping counter: 10 out of 30 | T_time: 00:06:06, T_speed: 7.262\n",
      "[Epoch 5880] T_loss: 0.02955, V_loss: 0.00494, Early stopping counter: 11 out of 30 | T_time: 00:06:08, T_speed: 9.338\n",
      "[Epoch 5910] T_loss: 0.02956, V_loss: 0.00536, Early stopping counter: 12 out of 30 | T_time: 00:06:10, T_speed: 9.752\n",
      "[Epoch 5940] T_loss: 0.02609, V_loss: 0.00785, Early stopping counter: 13 out of 30 | T_time: 00:06:12, T_speed: 14.279\n",
      "[Epoch 5970] T_loss: 0.02677, V_loss: 0.00606, Early stopping counter: 14 out of 30 | T_time: 00:06:14, T_speed: 15.711\n",
      "[Epoch 6000] T_loss: 0.02773, V_loss: 0.00545, Early stopping counter: 15 out of 30 | T_time: 00:06:16, T_speed: 43.281\n",
      "[Epoch 6030] T_loss: 0.03088, V_loss: 0.00973, Early stopping counter: 16 out of 30 | T_time: 00:06:18, T_speed: 99.919\n"
     ]
    },
    {
     "name": "stdout",
     "output_type": "stream",
     "text": [
      "[Epoch 6060] T_loss: 0.02785, V_loss: 0.00561, Early stopping counter: 17 out of 30 | T_time: 00:06:19, T_speed: 7.029\n",
      "[Epoch 6090] T_loss: 0.02625, V_loss: 0.00441, Early stopping counter: 18 out of 30 | T_time: 00:06:21, T_speed: 7.080\n",
      "[Epoch 6120] T_loss: 0.02490, V_loss: 0.00456, Early stopping counter: 19 out of 30 | T_time: 00:06:23, T_speed: 9.027\n",
      "[Epoch 6150] T_loss: 0.03046, V_loss: 0.00498, Early stopping counter: 20 out of 30 | T_time: 00:06:25, T_speed: 9.150\n",
      "[Epoch 6180] T_loss: 0.02930, V_loss: 0.00467, Early stopping counter: 21 out of 30 | T_time: 00:06:27, T_speed: 13.015\n",
      "[Epoch 6210] T_loss: 0.03113, V_loss: 0.00890, Early stopping counter: 22 out of 30 | T_time: 00:06:29, T_speed: 13.991\n",
      "[Epoch 6240] T_loss: 0.02800, V_loss: 0.00509, Early stopping counter: 23 out of 30 | T_time: 00:06:31, T_speed: 24.415\n",
      "[Epoch 6270] T_loss: 0.03034, V_loss: 0.00659, Early stopping counter: 24 out of 30 | T_time: 00:06:33, T_speed: 25.804\n",
      "[Epoch 6300] T_loss: 0.02670, V_loss: 0.00455, Early stopping counter: 25 out of 30 | T_time: 00:06:35, T_speed: 177.051\n",
      "[Epoch 6330] T_loss: 0.02439, V_loss: 0.00843, Early stopping counter: 26 out of 30 | T_time: 00:06:36, T_speed: 6.452\n",
      "[Epoch 6360] T_loss: 0.02749, V_loss: 0.00505, Early stopping counter: 27 out of 30 | T_time: 00:06:38, T_speed: 8.607\n",
      "[Epoch 6390] T_loss: 0.02836, V_loss: 0.00457, Early stopping counter: 28 out of 30 | T_time: 00:06:40, T_speed: 8.731\n",
      "[Epoch 6420] T_loss: 0.02864, V_loss: 0.00518, Early stopping counter: 29 out of 30 | T_time: 00:06:42, T_speed: 12.178\n",
      "[Epoch 6450] T_loss: 0.02667, V_loss: 0.00900, Early stopping counter: 30 out of 30 *** TRAIN EARLY STOPPED! *** | T_time: 00:06:44, T_speed: 12.534\n",
      "Final training time: 00:06:44\n"
     ]
    },
    {
     "data": {
      "text/html": [],
      "text/plain": [
       "<IPython.core.display.HTML object>"
      ]
     },
     "metadata": {},
     "output_type": "display_data"
    },
    {
     "data": {
      "text/html": [
       "<br>    <style><br>        .wandb-row {<br>            display: flex;<br>            flex-direction: row;<br>            flex-wrap: wrap;<br>            justify-content: flex-start;<br>            width: 100%;<br>        }<br>        .wandb-col {<br>            display: flex;<br>            flex-direction: column;<br>            flex-basis: 100%;<br>            flex: 1;<br>            padding: 10px;<br>        }<br>    </style><br><div class=\"wandb-row\"><div class=\"wandb-col\"><h3>Run history:</h3><br/><table class=\"wandb\"><tr><td>Epoch</td><td>▁▁▁▁▁▂▂▂▂▂▂▃▃▃▄▄▄▄▅▅▅▅▅▅▅▆▆▆▆▆▇▇▇▇▇▇▇███</td></tr><tr><td>Training loss</td><td>█▃▁▁▁▁▁▁▁▁▁▁▁▁▁▁▁▁▁▁▁▁▁▁▁▁▁▁▁▁▁▁▁▁▁▁▁▁▁▁</td></tr><tr><td>Training speed (epochs/sec.)</td><td>▁▁▁▁▁▁▁▁▁▁▁▁▁▁▁▁▁▁▂▁▁▁▂█▁▂▁▁▁█▁▁▂▁▂▁▁▂▁▁</td></tr><tr><td>Validation loss</td><td>▆▆▅▅█▃▃▂▃▂▂▂▂▂▂▂▁▃▂▁▂▁▁▁▁▁▁▁▁▁▂▁▁▁▁▂▁▂▁▁</td></tr></table><br/></div><div class=\"wandb-col\"><h3>Run summary:</h3><br/><table class=\"wandb\"><tr><td>Epoch</td><td>6450</td></tr><tr><td>Training loss</td><td>0.02667</td></tr><tr><td>Training speed (epochs/sec.)</td><td>12.53398</td></tr><tr><td>Validation loss</td><td>0.009</td></tr></table><br/></div></div>"
      ],
      "text/plain": [
       "<IPython.core.display.HTML object>"
      ]
     },
     "metadata": {},
     "output_type": "display_data"
    },
    {
     "data": {
      "text/html": [
       " View run <strong style=\"color:#cdcd00\">2024-12-20_06-41-57</strong> at: <a href='https://wandb.ai/jissu02/hyper_lstm_regression_btc_krw/runs/iaaoj91q' target=\"_blank\">https://wandb.ai/jissu02/hyper_lstm_regression_btc_krw/runs/iaaoj91q</a><br> View project at: <a href='https://wandb.ai/jissu02/hyper_lstm_regression_btc_krw' target=\"_blank\">https://wandb.ai/jissu02/hyper_lstm_regression_btc_krw</a><br>Synced 5 W&B file(s), 0 media file(s), 0 artifact file(s) and 0 other file(s)"
      ],
      "text/plain": [
       "<IPython.core.display.HTML object>"
      ]
     },
     "metadata": {},
     "output_type": "display_data"
    },
    {
     "data": {
      "text/html": [
       "Find logs at: <code>./wandb/run-20241220_064157-iaaoj91q/logs</code>"
      ],
      "text/plain": [
       "<IPython.core.display.HTML object>"
      ]
     },
     "metadata": {},
     "output_type": "display_data"
    }
   ],
   "source": [
    "import torch\n",
    "from torch import nn, optim\n",
    "from torch.utils.data import DataLoader\n",
    "from datetime import datetime\n",
    "import os\n",
    "import wandb\n",
    "from pathlib import Path\n",
    "from easydict import EasyDict\n",
    "\n",
    "BASE_PATH = str(Path(\"__file__\").resolve().parent.parent.parent)  # BASE_PATH: /Users/yhhan/git/link_dl\n",
    "import sys\n",
    "sys.path.append(BASE_PATH)\n",
    "\n",
    "CURRENT_FILE_PATH = os.path.dirname(os.path.abspath(\"__file__\"))\n",
    "CHECKPOINT_FILE_PATH = os.path.join(CURRENT_FILE_PATH, \"checkpoints\")\n",
    "\n",
    "if not os.path.isdir(CHECKPOINT_FILE_PATH):\n",
    "    os.makedirs(os.path.join(CURRENT_FILE_PATH, \"checkpoints\"))\n",
    "\n",
    "from _01_code._14_rnn.g_rnn_trainer import RegressionTrainer\n",
    "from _01_code._03_real_world_data_to_tensors.p_cryptocurrency_dataset_dataloader import get_cryptocurrency_data, \\\n",
    "    CryptoCurrencyDataset\n",
    "\n",
    "\n",
    "def get_config():\n",
    "    return EasyDict({\n",
    "        \"wandb\": True,\n",
    "        \"batch_size\": 2048,\n",
    "        \"epochs\": 10000,\n",
    "        \"learning_rate\": 0.0001,\n",
    "        \"weight_decay\": 0.0,\n",
    "        \"validation_intervals\": 30,\n",
    "        \"early_stop_patience\": 30,\n",
    "        \"early_stop_delta\": 0.000001,\n",
    "        \"dropout\": 0.3, \n",
    "    })\n",
    "\n",
    "\n",
    "\n",
    "# 데이터 로더 설정\n",
    "def get_btc_krw_data(sequence_size=21, validation_size=150, test_size=30, is_regression=True):\n",
    "    X_train, X_validation, X_test, y_train, y_validation, y_test, y_train_date, y_validation_date, y_test_date \\\n",
    "        = get_cryptocurrency_data(\n",
    "            sequence_size=sequence_size, validation_size=validation_size, test_size=test_size,\n",
    "            target_column='Close', y_normalizer=1.0e7, is_regression=is_regression\n",
    "        )\n",
    "\n",
    "    train_crypto_currency_dataset = CryptoCurrencyDataset(X=X_train, y=y_train)\n",
    "    validation_crypto_currency_dataset = CryptoCurrencyDataset(X=X_validation, y=y_validation)\n",
    "    test_crypto_currency_dataset = CryptoCurrencyDataset(X=X_test, y=y_test)\n",
    "\n",
    "    train_data_loader = DataLoader(\n",
    "        dataset=train_crypto_currency_dataset, batch_size=wandb.config.batch_size, shuffle=True\n",
    "    )\n",
    "    validation_data_loader = DataLoader(\n",
    "        dataset=validation_crypto_currency_dataset, batch_size=wandb.config.batch_size, shuffle=True\n",
    "    )\n",
    "    test_data_loader = DataLoader(\n",
    "        dataset=test_crypto_currency_dataset, batch_size=len(test_crypto_currency_dataset), shuffle=True\n",
    "    )\n",
    "\n",
    "    return train_data_loader, validation_data_loader, test_data_loader\n",
    "\n",
    "def get_model(config):\n",
    "    class MyModel(nn.Module):\n",
    "        def __init__(self, n_input, n_output, dropout):\n",
    "            super().__init__()\n",
    "            self.lstm = nn.LSTM(\n",
    "                input_size=n_input,\n",
    "                hidden_size=128,\n",
    "                num_layers=3,\n",
    "                batch_first=True,\n",
    "                dropout=dropout\n",
    "            )\n",
    "            self.dropout = nn.Dropout(p=dropout)  \n",
    "            self.fcn = nn.Linear(in_features=128, out_features=n_output)\n",
    "\n",
    "        def forward(self, x):\n",
    "            x, hidden = self.lstm(x)\n",
    "            x = x[:, -1, :]  \n",
    "            x = self.dropout(x) \n",
    "            x = self.fcn(x)\n",
    "            return x\n",
    "\n",
    "    return MyModel(n_input=5, n_output=1, dropout=config.dropout)  \n",
    "\n",
    "\n",
    "def main(config):\n",
    "    run_time_str = datetime.now().astimezone().strftime('%Y-%m-%d_%H-%M-%S')\n",
    "    project_name = \"hyper_lstm_regression_btc_krw\"\n",
    "    wandb.init(\n",
    "        mode=\"online\",\n",
    "        project=project_name,\n",
    "        notes=\"btc_krw experiment with lstm and dropout\",\n",
    "        tags=[\"lstm\", \"regression\", \"btc_krw\", \"dropout\"],\n",
    "        name=run_time_str,\n",
    "        config=dict(config) \n",
    "    )\n",
    "\n",
    "    train_data_loader, validation_data_loader, _ = get_btc_krw_data()\n",
    "    device = torch.device(\"cuda:0\" if torch.cuda.is_available() else \"cpu\")\n",
    "    print(f\"Training on device {device}.\")\n",
    "\n",
    "    # 모델 초기화\n",
    "    model = get_model(config)\n",
    "    model.to(device)\n",
    "\n",
    "    # 옵티마이저 설정\n",
    "    optimizer = optim.Adam(model.parameters(), lr=config.learning_rate, weight_decay=config.weight_decay)\n",
    "    regression_trainer = RegressionTrainer(\n",
    "        project_name, model, optimizer, train_data_loader, validation_data_loader, None,\n",
    "        run_time_str, wandb, device, CHECKPOINT_FILE_PATH\n",
    "    )\n",
    "    regression_trainer.train_loop()\n",
    "    wandb.finish()\n",
    "\n",
    "\n",
    "if __name__ == \"__main__\":\n",
    "    config = get_config()\n",
    "    main(config)\n",
    "\n"
   ]
  },
  {
   "cell_type": "code",
   "execution_count": null,
   "id": "447f7195",
   "metadata": {},
   "outputs": [
    {
     "name": "stdout",
     "output_type": "stream",
     "text": [
      "MODEL FILE: /home/work/homework/link_dl/_02_homeworks/homework_3/checkpoints/hyper_lstm_regression_btc_krw_checkpoint_latest.pt\n"
     ]
    }
   ],
   "source": [
    "import torch\n",
    "import wandb\n",
    "from matplotlib import pyplot as plt\n",
    "from datetime import datetime\n",
    "import os\n",
    "from pathlib import Path\n",
    "from easydict import EasyDict\n",
    "\n",
    "BASE_PATH = str(Path(\"__file__\").resolve().parent.parent.parent)  # BASE_PATH: /Users/yhhan/git/link_dl\n",
    "import sys\n",
    "sys.path.append(BASE_PATH)\n",
    "\n",
    "CURRENT_FILE_PATH = os.path.dirname(os.path.abspath(\"__file__\"))\n",
    "CHECKPOINT_FILE_PATH = os.path.join(CURRENT_FILE_PATH, \"checkpoints\")\n",
    "if not os.path.isdir(CHECKPOINT_FILE_PATH):\n",
    "    os.makedirs(os.path.join(CURRENT_FILE_PATH, \"checkpoints\"))\n",
    "\n",
    "from _01_code._15_lstm_and_its_application.g_crypto_currency_regression_train_lstm import get_model, get_btc_krw_data\n",
    "\n",
    "def get_config():\n",
    "    return EasyDict({\n",
    "        \"wandb\": True,\n",
    "        \"batch_size\": 2048,\n",
    "        \"epochs\": 10000,\n",
    "        \"learning_rate\": 0.0001,\n",
    "        \"weight_decay\": 0.0,\n",
    "        \"validation_intervals\": 30,\n",
    "        \"early_stop_patience\": 30,\n",
    "        \"early_stop_delta\": 0.000001,\n",
    "        \"dropout\": 0.3,  # Dropout 설정 추가\n",
    "    })\n",
    "\n",
    "def get_model(config):\n",
    "    class MyModel(nn.Module):\n",
    "        def __init__(self, n_input, n_output, dropout):\n",
    "            super().__init__()\n",
    "            self.lstm = nn.LSTM(\n",
    "                input_size=n_input,\n",
    "                hidden_size=128,\n",
    "                num_layers=3,\n",
    "                batch_first=True,\n",
    "                dropout=dropout\n",
    "            )\n",
    "            self.dropout = nn.Dropout(p=dropout)\n",
    "            self.fcn = nn.Linear(in_features=128, out_features=n_output)\n",
    "\n",
    "        def forward(self, x):\n",
    "            x, _ = self.lstm(x)\n",
    "            x = x[:, -1, :]  # 마지막 타임스텝 출력\n",
    "            x = self.dropout(x)\n",
    "            x = self.fcn(x)\n",
    "            return x\n",
    "\n",
    "    return MyModel(n_input=5, n_output=1, dropout=config.dropout)\n",
    "\n",
    "def test(test_model, test_data_loader):\n",
    "    test_model.eval()\n",
    "    y_normalizer = 100\n",
    "\n",
    "    print(\"[TEST DATA]\")\n",
    "    with torch.no_grad():\n",
    "        for test_batch in test_data_loader:\n",
    "            input_test, target_test = test_batch\n",
    "            output_test = test_model(input_test)\n",
    "\n",
    "        for idx, (output, target) in enumerate(zip(output_test, target_test)):\n",
    "            print(\"{0:2}: {1:6,.2f} <--> {2:6,.2f} (Loss: {3:>13,.2f})\".format(\n",
    "                idx,\n",
    "                output.item() * y_normalizer,\n",
    "                target.item() * y_normalizer,\n",
    "                abs(output.squeeze(dim=-1).item() - target.item()) * y_normalizer\n",
    "            ))\n",
    "\n",
    "def predict_all(test_model, y_normalizer=100):\n",
    "    _, _, test_data_loader = get_btc_krw_data()\n",
    "\n",
    "    dataset_list = list(test_data_loader.dataset)  # 테스트 데이터 전체 가져오기\n",
    "    num = 0\n",
    "    fig, axs = plt.subplots(1, 1, figsize=(8, 6))\n",
    "\n",
    "    X = []\n",
    "    TARGET_Y = []\n",
    "    PREDICTION_Y = []\n",
    "\n",
    "    for input_test, target_test in dataset_list:\n",
    "        prediction = test_model(input_test.unsqueeze(0)).squeeze(-1)\n",
    "\n",
    "        X.append(num)\n",
    "        TARGET_Y.append(target_test.item() * y_normalizer)\n",
    "        PREDICTION_Y.append(prediction.item() * y_normalizer)\n",
    "\n",
    "        num += 1\n",
    "\n",
    "    axs.plot(X, TARGET_Y, label='target')\n",
    "    axs.plot(X, PREDICTION_Y, label='prediction')\n",
    "    axs.set_title(\"Test Results\")\n",
    "    axs.legend()\n",
    "\n",
    "    plt.tight_layout()\n",
    "    plt.show()\n",
    "\n",
    "def main(config):\n",
    "    run_time_str = datetime.now().astimezone().strftime('%Y-%m-%d_%H-%M-%S')\n",
    "    project_name = \"hyper_lstm_regression_btc_krw\"\n",
    "    wandb.init(\n",
    "        mode=\"online\",\n",
    "        project=project_name,\n",
    "        notes=\"btc_krw experiment with lstm and dropout\",\n",
    "        tags=[\"lstm\", \"regression\", \"btc_krw\"],\n",
    "        name=run_time_str,\n",
    "        config=dict(config)\n",
    "    )\n",
    "\n",
    "    # 모델 정의\n",
    "    test_model = get_model(config)\n",
    "    latest_file_path = os.path.join(CHECKPOINT_FILE_PATH, f\"{project_name}_checkpoint_latest.pt\")\n",
    "    print(\"MODEL FILE: {0}\".format(latest_file_path))\n",
    "\n",
    "    # 모델 가중치 로드\n",
    "    test_model.load_state_dict(torch.load(latest_file_path, map_location=torch.device('cpu')))\n",
    "\n",
    "    # 데이터 로더 가져오기\n",
    "    _, _, test_data_loader = get_btc_krw_data()\n",
    "\n",
    "    # 테스트 및 예측\n",
    "    test(test_model, test_data_loader)\n",
    "    predict_all(test_model)\n",
    "\n",
    "if __name__ == \"__main__\":\n",
    "    config = get_config()\n",
    "    main(config)\n"
   ]
  },
  {
   "cell_type": "markdown",
   "id": "74aabd3c",
   "metadata": {},
   "source": [
    "과제를 늦게 시작해서 시간 내에 과제를 해결하지 못한점이 너무 아쉽다.\n",
    "기회가 된다면 조금 더 시간을 들여 현 과제를 완벽히 완수하고 싶다."
   ]
  }
 ],
 "metadata": {
  "kernelspec": {
   "display_name": "PyTorch 2.3 (NGC 24.03/Python 3.10) on Backend.AI",
   "language": "python",
   "name": "python3"
  },
  "language_info": {
   "codemirror_mode": {
    "name": "ipython",
    "version": 3
   },
   "file_extension": ".py",
   "mimetype": "text/x-python",
   "name": "python",
   "nbconvert_exporter": "python",
   "pygments_lexer": "ipython3",
   "version": "3.10.12"
  }
 },
 "nbformat": 4,
 "nbformat_minor": 5
}
