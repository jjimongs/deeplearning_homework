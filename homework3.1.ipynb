{
 "cells": [
  {
   "cell_type": "code",
   "execution_count": 1,
   "id": "initial_id",
   "metadata": {},
   "outputs": [],
   "source": [
    "%%capture\n",
    "!pip install wandb -qU"
   ]
  },
  {
   "cell_type": "code",
   "execution_count": 2,
   "id": "a49dfbf6",
   "metadata": {},
   "outputs": [
    {
     "name": "stderr",
     "output_type": "stream",
     "text": [
      "\u001b[34m\u001b[1mwandb\u001b[0m: Using wandb-core as the SDK backend.  Please refer to https://wandb.me/wandb-core for more information.\n",
      "\u001b[34m\u001b[1mwandb\u001b[0m: Currently logged in as: \u001b[33mjissu02\u001b[0m. Use \u001b[1m`wandb login --relogin`\u001b[0m to force relogin\n"
     ]
    },
    {
     "data": {
      "text/plain": [
       "True"
      ]
     },
     "execution_count": 2,
     "metadata": {},
     "output_type": "execute_result"
    }
   ],
   "source": [
    "import wandb\n",
    "wandb.login()"
   ]
  },
  {
   "cell_type": "code",
   "execution_count": 3,
   "id": "78ac00dc",
   "metadata": {},
   "outputs": [],
   "source": [
    "import os\n",
    "from pathlib import Path\n",
    "import torch\n",
    "import wandb\n",
    "from torch import nn\n",
    "from torch import optim\n",
    "from datetime import datetime\n",
    "from pathlib import Path\n",
    "from torch.utils.data import random_split, DataLoader"
   ]
  },
  {
   "cell_type": "markdown",
   "id": "4d0a0bab",
   "metadata": {},
   "source": [
    "# [문제 1] Fashion Mnist 데이터 정규화를 위한 Mean 값과 Std 값 찾기"
   ]
  },
  {
   "cell_type": "code",
   "execution_count": 4,
   "id": "d234be9c",
   "metadata": {},
   "outputs": [],
   "source": [
    "from torch.utils.data import DataLoader, random_split\n",
    "from torchvision import datasets\n",
    "from torchvision.transforms import transforms"
   ]
  },
  {
   "cell_type": "code",
   "execution_count": 5,
   "id": "d73053de",
   "metadata": {},
   "outputs": [],
   "source": [
    "data_path = \".\"\n",
    "\n",
    "f_mnist_train = datasets.FashionMNIST(data_path, train=True, download=True, transform=transforms.ToTensor())\n",
    "f_mnist_train, f_mnist_validation = random_split(f_mnist_train, [55_000, 5_000])"
   ]
  },
  {
   "cell_type": "code",
   "execution_count": 6,
   "id": "8527a175",
   "metadata": {},
   "outputs": [
    {
     "name": "stdout",
     "output_type": "stream",
     "text": [
      "55000 5000\n",
      "<class 'torch.Tensor'>\n",
      "torch.Size([1, 28, 28])\n",
      "tensor(0.) tensor(1.)\n"
     ]
    }
   ],
   "source": [
    "print(len(f_mnist_train), len(f_mnist_validation))  # >>> 55000 5000\n",
    "\n",
    "img_t = f_mnist_train[0][0]\n",
    "label = f_mnist_train[0][1]\n",
    "print(type(img_t))\n",
    "print(img_t.shape)\n",
    "print(img_t.min(), img_t.max())"
   ]
  },
  {
   "cell_type": "code",
   "execution_count": 7,
   "id": "98f75ac0",
   "metadata": {},
   "outputs": [
    {
     "name": "stdout",
     "output_type": "stream",
     "text": [
      "torch.Size([1, 28, 28, 55000])\n",
      "tensor([0.2863])\n",
      "tensor([0.3532])\n"
     ]
    }
   ],
   "source": [
    "imgs = torch.stack([img_t for img_t, _ in f_mnist_train], dim=3)\n",
    "print(imgs.shape)\n",
    "# >>> torch.Size([1, 28, 28, 55000])\n",
    "\n",
    "print(imgs.view(1, -1).mean(dim=-1))\n",
    "print(imgs.view(1, -1).std(dim=-1))"
   ]
  },
  {
   "cell_type": "markdown",
   "id": "35ea68f4",
   "metadata": {},
   "source": [
    "mean = 0.2863, std = 0.3532"
   ]
  },
  {
   "cell_type": "markdown",
   "id": "6ff3af64",
   "metadata": {},
   "source": [
    "# [문제 2] Fashion MNIST 데이터에 대하여 CNN 학습시키기"
   ]
  },
  {
   "cell_type": "markdown",
   "id": "c0eab726",
   "metadata": {},
   "source": [
    "## GET DATA"
   ]
  },
  {
   "cell_type": "code",
   "execution_count": 8,
   "id": "2f8808de",
   "metadata": {},
   "outputs": [
    {
     "name": "stdout",
     "output_type": "stream",
     "text": [
      "Linux\n"
     ]
    }
   ],
   "source": [
    "import os\n",
    "import sys\n",
    "\n",
    "\n",
    "def is_linux():\n",
    "    if sys.platform.startswith(\"linux\"):\n",
    "        return True\n",
    "    else:\n",
    "        return False\n",
    "\n",
    "\n",
    "def is_windows():\n",
    "    if os.name == \"nt\":\n",
    "        return True\n",
    "    else:\n",
    "        return False\n",
    "\n",
    "\n",
    "def is_mac():\n",
    "    if sys.platform == \"darwin\":\n",
    "        return True\n",
    "    else:\n",
    "        return False\n",
    "\n",
    "\n",
    "def get_num_cpu_cores():\n",
    "    import multiprocessing\n",
    "    return multiprocessing.cpu_count()\n",
    "\n",
    "\n",
    "from string import Template\n",
    "\n",
    "class DeltaTemplate(Template):\n",
    "    delimiter = \"%\"\n",
    "\n",
    "    def strfdelta(tdelta, fmt):\n",
    "        d = {\"D\": tdelta.days}\n",
    "        d[\"H\"], rem = divmod(tdelta.seconds, 3600)\n",
    "        d[\"M\"], d[\"S\"] = divmod(rem, 60)\n",
    "        t = DeltaTemplate(fmt)\n",
    "        return t.substitute(**d)\n",
    "\n",
    "\n",
    "def strfdelta(td, fmt):\n",
    "\n",
    "    # Get the timedelta’s sign and absolute number of seconds.\n",
    "    sign = \"-\" if td.days < 0 else \"+\"\n",
    "    secs = abs(td).total_seconds()\n",
    "\n",
    "    # Break the seconds into more readable quantities.\n",
    "    days, rem = divmod(secs, 86400)  # Seconds per day: 24 * 60 * 60\n",
    "    hours, rem = divmod(rem, 3600)  # Seconds per hour: 60 * 60\n",
    "    mins, secs = divmod(rem, 60)\n",
    "\n",
    "    # Format (as per above answers) and return the result string.\n",
    "    t = DeltaTemplate(fmt)\n",
    "    return t.substitute(\n",
    "        s=sign,\n",
    "        D=\"{:d}\".format(int(days)),\n",
    "        H=\"{:02d}\".format(int(hours)),\n",
    "        M=\"{:02d}\".format(int(mins)),\n",
    "        S=\"{:02d}\".format(int(secs)),\n",
    "        )\n",
    "\n",
    "\n",
    "if __name__ == \"__main__\":\n",
    "    if is_linux():\n",
    "        print(\"Linux\")\n",
    "    elif is_windows():\n",
    "        print(\"Windows\")\n",
    "    elif is_mac():\n",
    "        print(\"Mac\")\n",
    "    else:\n",
    "        print(\"<unknown>\")\n"
   ]
  },
  {
   "cell_type": "markdown",
   "id": "dd1df816",
   "metadata": {},
   "source": [
    "### a_fashion_mnist_data.py 코드"
   ]
  },
  {
   "cell_type": "code",
   "execution_count": 9,
   "id": "68c320f9",
   "metadata": {},
   "outputs": [
    {
     "name": "stdout",
     "output_type": "stream",
     "text": [
      "/home/work/DL/link_dl\n"
     ]
    }
   ],
   "source": [
    "BASE_PATH = str(Path(\"__file__\").resolve().parent.parent.parent)  # BASE_PATH: /Users/yhhan/git/link_dl\n",
    "print(BASE_PATH)\n",
    "\n",
    "import sys\n",
    "\n",
    "sys.path.append(BASE_PATH)\n",
    "\n",
    "from _01_code._99_common_utils.utils import get_num_cpu_cores, is_linux, is_windows"
   ]
  },
  {
   "cell_type": "code",
   "execution_count": 10,
   "id": "6881efbc",
   "metadata": {},
   "outputs": [],
   "source": [
    "def get_fashion_mnist_data():\n",
    "    data_path = os.path.join(BASE_PATH, \"_00_data\", \"j_fashion_mnist\")\n",
    "\n",
    "    f_mnist_train = datasets.FashionMNIST(data_path, train=True, download=True, transform=transforms.ToTensor())\n",
    "    f_mnist_train, f_mnist_validation = random_split(f_mnist_train, [55_000, 5_000])\n",
    "\n",
    "    print(\"Num Train Samples: \", len(f_mnist_train))\n",
    "    print(\"Num Validation Samples: \", len(f_mnist_validation))\n",
    "    print(\"Sample Shape: \", f_mnist_train[0][0].shape)  # torch.Size([1, 28, 28])\n",
    "\n",
    "    num_data_loading_workers = get_num_cpu_cores() if is_linux() or is_windows() else 0\n",
    "    print(\"Number of Data Loading Workers:\", num_data_loading_workers)\n",
    "\n",
    "    train_data_loader = DataLoader(\n",
    "        dataset=f_mnist_train, batch_size=wandb.config.batch_size, shuffle=True,\n",
    "        pin_memory=True, num_workers=num_data_loading_workers\n",
    "    )\n",
    "\n",
    "    validation_data_loader = DataLoader(\n",
    "        dataset=f_mnist_validation, batch_size=wandb.config.batch_size,\n",
    "        pin_memory=True, num_workers=num_data_loading_workers\n",
    "    )\n",
    "\n",
    "    f_mnist_transforms = nn.Sequential(\n",
    "        transforms.ConvertImageDtype(torch.float),\n",
    "        transforms.Normalize(mean=0.2863, std=0.3532),   # 값 변경\n",
    "    )\n",
    "\n",
    "    return train_data_loader, validation_data_loader, f_mnist_transforms"
   ]
  },
  {
   "cell_type": "code",
   "execution_count": 11,
   "id": "dd8ebfc6",
   "metadata": {},
   "outputs": [],
   "source": [
    "def get_fashion_mnist_test_data():\n",
    "    data_path = os.path.join(BASE_PATH, \"_00_data\", \"j_fashion_mnist\")\n",
    "\n",
    "    f_mnist_test_images = datasets.FashionMNIST(data_path, train=False, download=True)\n",
    "    f_mnist_test = datasets.FashionMNIST(data_path, train=False, download=True, transform=transforms.ToTensor())\n",
    "\n",
    "    print(\"Num Test Samples: \", len(f_mnist_test))\n",
    "    print(\"Sample Shape: \", f_mnist_test[0][0].shape)  # torch.Size([1, 28, 28])\n",
    "\n",
    "    test_data_loader = DataLoader(dataset=f_mnist_test, batch_size=128, shuffle=False)\n",
    "\n",
    "    f_mnist_transforms = nn.Sequential(\n",
    "        transforms.ConvertImageDtype(torch.float),\n",
    "        transforms.Normalize(mean=0.2863, std=0.3532),\n",
    "    )\n",
    "\n",
    "    return f_mnist_test_images, test_data_loader, f_mnist_transforms"
   ]
  },
  {
   "cell_type": "code",
   "execution_count": 12,
   "id": "b3445414",
   "metadata": {},
   "outputs": [
    {
     "name": "stdout",
     "output_type": "stream",
     "text": [
      "Num Train Samples:  55000\n",
      "Num Validation Samples:  5000\n",
      "Sample Shape:  torch.Size([1, 28, 28])\n",
      "Number of Data Loading Workers: 2\n",
      "\n",
      "Num Test Samples:  10000\n",
      "Sample Shape:  torch.Size([1, 28, 28])\n"
     ]
    }
   ],
   "source": [
    "if __name__ == \"__main__\":\n",
    "    config = {'batch_size': 2048, }\n",
    "    wandb.init(mode=\"disabled\", config=config)\n",
    "\n",
    "    train_data_loader, validation_data_loader, f_mnist_transforms = get_fashion_mnist_data()\n",
    "    print()\n",
    "    f_mnist_test_images, test_data_loader, f_mnist_transforms = get_fashion_mnist_test_data()\n"
   ]
  },
  {
   "cell_type": "markdown",
   "id": "5a609e15",
   "metadata": {},
   "source": [
    "## Train"
   ]
  },
  {
   "cell_type": "markdown",
   "id": "a50dbe72",
   "metadata": {},
   "source": [
    "### ClassificationTrainer"
   ]
  },
  {
   "cell_type": "code",
   "execution_count": 13,
   "id": "8f8a96f4",
   "metadata": {},
   "outputs": [],
   "source": [
    "# 조기 종료\n",
    "class EarlyStopping:\n",
    "  \"\"\"Early stops the training if validation loss doesn't improve after a given patience.\"\"\"\n",
    "  def __init__(self, patience=5, delta=0.0001, project_name=None, checkpoint_file_path=None, run_time_str=None):\n",
    "    self.patience = patience\n",
    "    self.counter = 0\n",
    "    self.delta = delta\n",
    "\n",
    "    self.val_loss_min = None\n",
    "    self.file_path = os.path.join(\n",
    "      checkpoint_file_path, f\"{project_name}_checkpoint_{run_time_str}.pt\"\n",
    "    )\n",
    "    self.latest_file_path = os.path.join(\n",
    "      checkpoint_file_path, f\"{project_name}_checkpoint_latest.pt\"\n",
    "    )\n",
    "\n",
    "  def check_and_save(self, new_validation_loss, model):\n",
    "    early_stop = False\n",
    "\n",
    "    if self.val_loss_min is None:\n",
    "      self.val_loss_min = new_validation_loss\n",
    "      message = f'Early stopping is stated!'\n",
    "    elif new_validation_loss < self.val_loss_min - self.delta:\n",
    "      message = f'V_loss decreased ({self.val_loss_min:6.3f} --> {new_validation_loss:6.3f}). Saving model...'\n",
    "      self.save_checkpoint(new_validation_loss, model)\n",
    "      self.val_loss_min = new_validation_loss\n",
    "      self.counter = 0\n",
    "    else:\n",
    "      self.counter += 1\n",
    "      message = f'Early stopping counter: {self.counter} out of {self.patience}'\n",
    "      if self.counter >= self.patience:\n",
    "        early_stop = True\n",
    "        message += \" *** TRAIN EARLY STOPPED! ***\"\n",
    "\n",
    "    return message, early_stop\n",
    "\n",
    "  def save_checkpoint(self, val_loss, model):\n",
    "    '''Saves model when validation loss decrease.'''\n",
    "    print(f\"Attempting to save checkpoint at: {self.file_path}\")\n",
    "    print(f\"Write permission for path: {os.access(os.path.dirname(self.file_path), os.W_OK)}\")\n",
    "    torch.save(model.state_dict(), self.file_path)\n",
    "    torch.save(model.state_dict(), self.latest_file_path)\n",
    "    self.val_loss_min = val_loss"
   ]
  },
  {
   "cell_type": "code",
   "execution_count": 14,
   "id": "1f3b891c",
   "metadata": {},
   "outputs": [],
   "source": [
    "class ClassificationTrainer:\n",
    "  # 클래스 초기화 (매개변수 받아 인스턴스 변수로 저장)\n",
    "  def __init__(\n",
    "    self, project_name, model, optimizer, train_data_loader, validation_data_loader, transforms,\n",
    "    run_time_str, wandb, device, checkpoint_file_path\n",
    "  ):\n",
    "    self.project_name = project_name\n",
    "    self.model = model\n",
    "    self.optimizer = optimizer\n",
    "    self.train_data_loader = train_data_loader\n",
    "    self.validation_data_loader = validation_data_loader\n",
    "    self.transforms = transforms\n",
    "    self.run_time_str = run_time_str\n",
    "    self.wandb = wandb\n",
    "    self.device = device\n",
    "    self.checkpoint_file_path = checkpoint_file_path\n",
    "    \n",
    "    # 쓰기 권한 확인\n",
    "    print(f\"Checkpoint directory: {self.checkpoint_file_path}\")\n",
    "    print(f\"Write permission for path: {os.access(self.checkpoint_file_path, os.W_OK)}\")\n",
    "\n",
    "    # Use a built-in loss function\n",
    "    self.loss_fn = nn.CrossEntropyLoss()\n",
    "\n",
    "  # 모델 학습시키는 메소드\n",
    "  def do_train(self):\n",
    "    self.model.train()\n",
    "\n",
    "    loss_train = 0.0  #손실\n",
    "    num_corrects_train = 0  #올바르게 예측된 샘플 수\n",
    "    num_trained_samples = 0 # 처리한 학습 샘플 수\n",
    "    num_trains = 0 #배치 수\n",
    "\n",
    "    for train_batch in self.train_data_loader:\n",
    "      input_train, target_train = train_batch\n",
    "      input_train = input_train.to(device=self.device)\n",
    "      target_train = target_train.to(device=self.device)\n",
    "\n",
    "      if self.transforms: # 전처리 변환 지정 되면 입력데이터 전처리 변환\n",
    "        input_train = self.transforms(input_train)\n",
    "\n",
    "      output_train = self.model(input_train)\n",
    "\n",
    "      loss = self.loss_fn(output_train, target_train) # 손실계산\n",
    "      loss_train += loss.item()\n",
    "\n",
    "      predicted_train = torch.argmax(output_train, dim=1) #예측 클래스 계산\n",
    "      num_corrects_train += torch.sum(torch.eq(predicted_train, target_train)).item()\n",
    "\n",
    "      num_trained_samples += len(input_train) #처리한 샘플 수 누적\n",
    "      num_trains += 1\n",
    "\n",
    "      self.optimizer.zero_grad() #그래디언트 초기화\n",
    "      loss.backward()\n",
    "      self.optimizer.step() #파라미터 업데이트\n",
    "\n",
    "    train_loss = loss_train / num_trains\n",
    "    train_accuracy = 100.0 * num_corrects_train / num_trained_samples\n",
    "\n",
    "    return train_loss, train_accuracy  # 평균 훈련 손실과 훈련 정확도를 반환\n",
    "\n",
    "  def do_validation(self):\n",
    "    self.model.eval()   # 모델을 평가 모드로 설정\n",
    "\n",
    "    loss_validation = 0.0\n",
    "    num_corrects_validation = 0\n",
    "    num_validated_samples = 0\n",
    "    num_validations = 0\n",
    "\n",
    "    with torch.no_grad():\n",
    "      for validation_batch in self.validation_data_loader:\n",
    "        input_validation, target_validation = validation_batch\n",
    "        input_validation = input_validation.to(device=self.device)\n",
    "        target_validation = target_validation.to(device=self.device)\n",
    "\n",
    "        if self.transforms:\n",
    "          input_validation = self.transforms(input_validation)\n",
    "\n",
    "        output_validation = self.model(input_validation)\n",
    "        loss_validation += self.loss_fn(output_validation, target_validation).item()\n",
    "\n",
    "        predicted_validation = torch.argmax(output_validation, dim=1)\n",
    "        num_corrects_validation += torch.sum(torch.eq(predicted_validation, target_validation)).item()\n",
    "\n",
    "        num_validated_samples += len(input_validation)\n",
    "        num_validations += 1\n",
    "\n",
    "    validation_loss = loss_validation / num_validations\n",
    "    validation_accuracy = 100.0 * num_corrects_validation / num_validated_samples\n",
    "\n",
    "    return validation_loss, validation_accuracy\n",
    "\n",
    "  def train_loop(self):\n",
    "    early_stopping = EarlyStopping(\n",
    "      patience=self.wandb.config.early_stop_patience,\n",
    "      project_name=self.project_name,\n",
    "      checkpoint_file_path=self.checkpoint_file_path,\n",
    "      run_time_str=self.run_time_str\n",
    "    )\n",
    "    \n",
    "    print(\"CHECKPOINT_FILE_PATH:\", self.checkpoint_file_path)  # 추가된 코드\n",
    "    \n",
    "    \n",
    "    n_epochs = self.wandb.config.epochs\n",
    "    training_start_time = datetime.now()\n",
    "\n",
    "    for epoch in range(1, n_epochs + 1):\n",
    "      train_loss, train_accuracy = self.do_train()\n",
    "\n",
    "      if epoch == 1 or epoch % self.wandb.config.validation_intervals == 0:\n",
    "        validation_loss, validation_accuracy = self.do_validation()\n",
    "\n",
    "        elapsed_time = datetime.now() - training_start_time\n",
    "        epoch_per_second = 0 if elapsed_time.seconds == 0 else epoch / elapsed_time.seconds\n",
    "\n",
    "        message, early_stop = early_stopping.check_and_save(validation_loss, self.model)\n",
    "\n",
    "        print(\n",
    "          f\"[Epoch {epoch:>3}] \"\n",
    "          f\"T_loss: {train_loss:6.4f}, \"\n",
    "          f\"T_accuracy: {train_accuracy:6.4f} | \"\n",
    "          f\"V_loss: {validation_loss:6.4f}, \"\n",
    "          f\"V_accuracy: {validation_accuracy:6.4f} | \"\n",
    "          f\"{message} | \"\n",
    "          f\"T_time: {strfdelta(elapsed_time, '%H:%M:%S')}, \"\n",
    "          f\"T_speed: {epoch_per_second:4.3f}\"\n",
    "        )\n",
    "\n",
    "        self.wandb.log({\n",
    "          \"Epoch\": epoch,\n",
    "          \"Training loss\": train_loss,\n",
    "          \"Training accuracy (%)\": train_accuracy,\n",
    "          \"Validation loss\": validation_loss,\n",
    "          \"Validation accuracy (%)\": validation_accuracy,\n",
    "          \"Training speed (epochs/sec.)\": epoch_per_second,\n",
    "        })\n",
    "\n",
    "        if early_stop:\n",
    "          break\n",
    "\n",
    "    elapsed_time = datetime.now() - training_start_time\n",
    "    print(f\"Final training time: {strfdelta(elapsed_time, '%H:%M:%S')}\")"
   ]
  },
  {
   "cell_type": "markdown",
   "id": "0ec6712c",
   "metadata": {},
   "source": [
    "### get_cnn_model"
   ]
  },
  {
   "cell_type": "code",
   "execution_count": null,
   "id": "12afe010",
   "metadata": {},
   "outputs": [],
   "source": [
    "def get_cnn_model():\n",
    "  class MyModel(nn.Module):\n",
    "    def __init__(self, in_channels, n_output):\n",
    "      super().__init__()\n",
    "\n",
    "      self.model = nn.Sequential(\n",
    "        # B x 1 x 28 x 28 --> B x 6 x (28 - 5 + 1) x (28 - 5 + 1) = B x 6 x 24 x 24\n",
    "        nn.Conv2d(in_channels=in_channels, out_channels=6, kernel_size=(5, 5), stride=(1, 1)),\n",
    "        # B x 6 x 24 x 24 --> B x 6 x 12 x 12\n",
    "        nn.MaxPool2d(kernel_size=2, stride=2),\n",
    "        nn.ReLU(),\n",
    "        # B x 6 x 12 x 12 --> B x 16 x (12 - 5 + 1) x (12 - 5 + 1) = B x 16 x 8 x 8\n",
    "        nn.Conv2d(in_channels=6, out_channels=16, kernel_size=(5, 5), stride=(1, 1)),\n",
    "        # B x 16 x 8 x 8 --> B x 16 x 4 x 4\n",
    "        nn.MaxPool2d(kernel_size=2, stride=2),\n",
    "        nn.ReLU(),\n",
    "        nn.Flatten(),\n",
    "        nn.Linear(256, 128),\n",
    "        nn.ReLU(),\n",
    "        nn.Linear(128, n_output),\n",
    "      )\n",
    "\n",
    "    def forward(self, x):\n",
    "      x = self.model(x)\n",
    "      return x\n",
    "\n",
    "  # 1 * 28 * 28\n",
    "  my_model = MyModel(in_channels=1, n_output=10)\n",
    "\n",
    "  return my_model"
   ]
  },
  {
   "cell_type": "code",
   "execution_count": null,
   "id": "86cb1d51",
   "metadata": {},
   "outputs": [],
   "source": [
    "def get_cnn_model_with_dropout():\n",
    "  class MyModel(nn.Module):\n",
    "    def __init__(self, in_channels, n_output):\n",
    "      super().__init__()\n",
    "\n",
    "      self.model = nn.Sequential(\n",
    "        # B x 1 x 28 x 28 --> B x 6 x (28 - 5 + 1) x (28 - 5 + 1) = B x 6 x 24 x 24\n",
    "        nn.Conv2d(in_channels=in_channels, out_channels=6, kernel_size=(5, 5), stride=(1, 1)),\n",
    "        # B x 6 x 24 x 24 --> B x 6 x 12 x 12\n",
    "        nn.MaxPool2d(kernel_size=2, stride=2),\n",
    "        nn.ReLU(),\n",
    "        # B x 6 x 12 x 12 --> B x 16 x (12 - 5 + 1) x (12 - 5 + 1) = B x 16 x 8 x 8\n",
    "        nn.Conv2d(in_channels=6, out_channels=16, kernel_size=(5, 5), stride=(1, 1)),\n",
    "        # B x 16 x 8 x 8 --> B x 16 x 4 x 4\n",
    "        nn.MaxPool2d(kernel_size=2, stride=2),\n",
    "        nn.ReLU(),\n",
    "        nn.Flatten(),\n",
    "        nn.Linear(256, 128),\n",
    "        nn.ReLU(),\n",
    "        nn.Dropout(p=0.3),      # p: dropout probability\n",
    "        nn.Linear(128, n_output),\n",
    "      )\n",
    "\n",
    "    def forward(self, x):\n",
    "      x = self.model(x)\n",
    "      return x\n",
    "\n",
    "  # 3 * 32 * 32\n",
    "  my_model = MyModel(in_channels=1, n_output=10)\n",
    "\n",
    "  return my_model"
   ]
  },
  {
   "cell_type": "code",
   "execution_count": null,
   "id": "87e229c0",
   "metadata": {},
   "outputs": [],
   "source": [
    "def get_cnn_model_with_batch_normalization():\n",
    "  class MyModel(nn.Module):\n",
    "    def __init__(self, in_channels, n_output):\n",
    "      super().__init__()\n",
    "\n",
    "      self.model = nn.Sequential(\n",
    "        # B x 1 x 28 x 28 --> B x 6 x (28 - 5 + 1) x (28 - 5 + 1) = B x 6 x 24 x 24\n",
    "        nn.Conv2d(in_channels=in_channels, out_channels=6, kernel_size=(5, 5), stride=(1, 1)),\n",
    "        # B x 6 x 24 x 24 --> B x 6 x 12 x 12\n",
    "        nn.MaxPool2d(kernel_size=2, stride=2),\n",
    "        nn.BatchNorm2d(num_features=6, eps=1e-04, momentum=0.1),\n",
    "        nn.ReLU(),\n",
    "        # B x 6 x 12 x 12 --> B x 16 x (12 - 5 + 1) x (12 - 5 + 1) = B x 16 x 8 x 8\n",
    "        nn.Conv2d(in_channels=6, out_channels=16, kernel_size=(5, 5), stride=(1, 1)),\n",
    "        # B x 16 x 8 x 8 --> B x 16 x 4 x 4\n",
    "        nn.MaxPool2d(kernel_size=2, stride=2),\n",
    "        nn.BatchNorm2d(num_features=16, eps=1e-05, momentum=0.1),\n",
    "        nn.ReLU(),\n",
    "        nn.Flatten(),\n",
    "        nn.Linear(256, 128),\n",
    "        nn.BatchNorm1d(num_features=128, eps=1e-05, momentum=0.1),\n",
    "        nn.ReLU(),\n",
    "        nn.Linear(128, n_output),\n",
    "      )\n",
    "\n",
    "    def forward(self, x):\n",
    "      x = self.model(x)\n",
    "      return x\n",
    "\n",
    "  # 3 * 32 * 32\n",
    "  my_model = MyModel(in_channels=1, n_output=10)\n",
    "\n",
    "  return my_model"
   ]
  },
  {
   "cell_type": "code",
   "execution_count": null,
   "id": "b9875100",
   "metadata": {},
   "outputs": [],
   "source": [
    "def get_cnn_model_with_layer_normalization():\n",
    "  class MyModel(nn.Module):\n",
    "    def __init__(self, in_channels, n_output):\n",
    "      super().__init__()\n",
    "\n",
    "      self.model = nn.Sequential(\n",
    "        # B x 1 x 28 x 28 --> B x 6 x (28 - 5 + 1) x (28 - 5 + 1) = B x 6 x 24 x 24\n",
    "        nn.Conv2d(in_channels=in_channels, out_channels=6, kernel_size=(5, 5), stride=(1, 1)),\n",
    "        # B x 6 x 24 x 24 --> B x 6 x 12 x 12\n",
    "        nn.MaxPool2d(kernel_size=2, stride=2),\n",
    "        nn.LayerNorm(normalized_shape=[6, 12, 12]),\n",
    "        nn.ReLU(),\n",
    "        # B x 6 x 12 x 12 --> B x 16 x (12 - 5 + 1) x (12 - 5 + 1) = B x 16 x 8 x 8\n",
    "        nn.Conv2d(in_channels=6, out_channels=16, kernel_size=(5, 5), stride=(1, 1)),\n",
    "        # B x 16 x 8 x 8 --> B x 16 x 4 x 4\n",
    "        nn.MaxPool2d(kernel_size=2, stride=2),\n",
    "        nn.LayerNorm(normalized_shape=[16, 4, 4]),\n",
    "        nn.ReLU(),\n",
    "        nn.Flatten(),\n",
    "        nn.Linear(256, 128),\n",
    "        nn.LayerNorm(normalized_shape=[128]),\n",
    "        nn.ReLU(),\n",
    "        nn.Linear(128, n_output),\n",
    "      )\n",
    "\n",
    "    def forward(self, x):\n",
    "      x = self.model(x)\n",
    "      return x\n",
    "\n",
    "  # 3 * 32 * 32\n",
    "  my_model = MyModel(in_channels=1, n_output=10)\n",
    "\n",
    "  return my_model"
   ]
  },
  {
   "cell_type": "code",
   "execution_count": null,
   "id": "1deb3174",
   "metadata": {},
   "outputs": [],
   "source": [
    "def get_cnn_model_with_dropout_and_layer_normalization():\n",
    "  class MyModel(nn.Module):\n",
    "    def __init__(self, in_channels, n_output):\n",
    "      super().__init__()\n",
    "\n",
    "      self.model = nn.Sequential(\n",
    "        # B x 1 x 28 x 28 --> B x 6 x (28 - 5 + 1) x (28 - 5 + 1) = B x 6 x 24 x 24\n",
    "        nn.Conv2d(in_channels=in_channels, out_channels=6, kernel_size=(5, 5), stride=(1, 1)),\n",
    "        # B x 6 x 24 x 24 --> B x 6 x 12 x 12\n",
    "        nn.MaxPool2d(kernel_size=2, stride=2),\n",
    "        nn.LayerNorm(normalized_shape=[6, 12, 12]),\n",
    "        nn.ReLU(),\n",
    "        # B x 6 x 12 x 12 --> B x 16 x (12 - 5 + 1) x (12 - 5 + 1) = B x 16 x 8 x 8\n",
    "        nn.Conv2d(in_channels=6, out_channels=16, kernel_size=(5, 5), stride=(1, 1)),\n",
    "        # B x 16 x 8 x 8 --> B x 16 x 4 x 4\n",
    "        nn.MaxPool2d(kernel_size=2, stride=2),\n",
    "        nn.LayerNorm(normalized_shape=[16, 4, 4]),\n",
    "        nn.ReLU(),\n",
    "        nn.Flatten(),\n",
    "        nn.Dropout(p=0.3),      # p: dropout probability\n",
    "        nn.Linear(256, 128),\n",
    "        nn.LayerNorm(normalized_shape=[128]),\n",
    "        nn.ReLU(),\n",
    "        nn.Dropout(p=0.3),      # p: dropout probability\n",
    "        nn.Linear(128, n_output),\n",
    "      )\n",
    "\n",
    "    def forward(self, x):\n",
    "      x = self.model(x)\n",
    "      return x\n",
    "\n",
    "  # 3 * 32 * 32\n",
    "  my_model = MyModel(in_channels=1, n_output=10)\n",
    "\n",
    "  return my_model"
   ]
  },
  {
   "cell_type": "code",
   "execution_count": 15,
   "id": "f8610580",
   "metadata": {},
   "outputs": [],
   "source": [
    "def get_cnn_model_with_dropout_and_batch_normalization():\n",
    "    class MyModel(nn.Module):\n",
    "        def __init__(self, in_channels, n_output):\n",
    "            super().__init__()\n",
    "\n",
    "            self.model = nn.Sequential(\n",
    "                # Conv1: B x 1 x 28 x 28 --> B x 16 x 28 x 28\n",
    "                nn.Conv2d(in_channels=in_channels, out_channels=16, kernel_size=(3, 3), stride=(1, 1), padding=1),\n",
    "                nn.BatchNorm2d(16),\n",
    "                nn.LeakyReLU(negative_slope=0.01),\n",
    "\n",
    "                # Conv2: B x 16 x 28 x 28 --> B x 32 x 14 x 14\n",
    "                nn.Conv2d(in_channels=16, out_channels=32, kernel_size=(3, 3), stride=(1, 1), padding=1),\n",
    "                nn.BatchNorm2d(32),\n",
    "                nn.LeakyReLU(negative_slope=0.01),\n",
    "                nn.MaxPool2d(kernel_size=2, stride=2),\n",
    "                nn.Dropout(p=0.3),  \n",
    "\n",
    "                # Conv3: B x 32 x 14 x 14 --> B x 64 x 7 x 7\n",
    "                nn.Conv2d(in_channels=32, out_channels=64, kernel_size=(3, 3), stride=(1, 1), padding=1),\n",
    "                nn.BatchNorm2d(64),\n",
    "                nn.LeakyReLU(negative_slope=0.01),\n",
    "                nn.MaxPool2d(kernel_size=2, stride=2),\n",
    "                nn.Dropout(p=0.3),\n",
    "\n",
    "                # Flatten: B x 64 x 7 x 7 --> B x 3136\n",
    "                nn.Flatten(),\n",
    "\n",
    "                # FC1: B x 3136 --> B x 256\n",
    "                nn.Linear(64 * 7 * 7, 256),\n",
    "                nn.BatchNorm1d(256),\n",
    "                nn.LeakyReLU(negative_slope=0.01),\n",
    "                nn.Dropout(p=0.3),\n",
    "\n",
    "                # FC2: B x 256 --> B x 128\n",
    "                nn.Linear(256, 128),\n",
    "                nn.BatchNorm1d(128),\n",
    "                nn.LeakyReLU(negative_slope=0.01),\n",
    "                nn.Dropout(p=0.3),\n",
    "\n",
    "                # Output Layer: B x 128 --> B x n_output\n",
    "                nn.Linear(128, n_output),\n",
    "            )\n",
    "\n",
    "        def forward(self, x):\n",
    "            return self.model(x)\n",
    "\n",
    "    return MyModel(in_channels=1, n_output=10)\n"
   ]
  },
  {
   "cell_type": "code",
   "execution_count": 16,
   "id": "29258e56",
   "metadata": {},
   "outputs": [],
   "source": [
    "import argparse\n",
    "\n",
    "\n",
    "def get_parser():\n",
    "  parser = argparse.ArgumentParser()\n",
    "\n",
    "  parser.add_argument(\n",
    "    \"--wandb\", action=argparse.BooleanOptionalAction, default=False, help=\"Wandb: True or False\"\n",
    "  )\n",
    "\n",
    "  parser.add_argument(\n",
    "    \"-b\", \"--batch_size\", type=int, default=2_048, help=\"Batch size (int, default: 2_048)\"\n",
    "  )\n",
    "\n",
    "  parser.add_argument(\n",
    "    \"-e\", \"--epochs\", type=int, default=500, help=\"Number of training epochs (int, default:10_000)\"\n",
    "  )\n",
    "\n",
    "  parser.add_argument(\n",
    "    \"-r\", \"--learning_rate\", type=float, default=1e-3, help=\"Learning rate (float, default: 1e-3)\"\n",
    "  )\n",
    "\n",
    "  parser.add_argument(\n",
    "    \"-v\", \"--validation_intervals\", type=int, default=10,\n",
    "    help=\"Number of training epochs between validations (int, default: 10)\"\n",
    "  )\n",
    "\n",
    "  parser.add_argument(\n",
    "    \"-p\", \"--early_stop_patience\", type=int, default=10,\n",
    "    help=\"Number of early stop patience (int, default: 10)\"\n",
    "  )\n",
    "\n",
    "  parser.add_argument(\n",
    "    \"-o\", \"--optimizer\", type=int, default=0,\n",
    "    help=\"Optimizers (0: SGD, 1: Momentum, 2: RMSProp, 3: Adam, default: 0)\"\n",
    "  )\n",
    "\n",
    "  parser.add_argument(\n",
    "    \"-w\", \"--weight_decay\", type=float, default=0.0, help=\"Weight decay (float, default: 0.0)\"\n",
    "  )\n",
    "\n",
    "  parser.add_argument(\n",
    "    \"--dropout\", action=argparse.BooleanOptionalAction, default=False, help=\"Dropout: True or False\"\n",
    "  )\n",
    "\n",
    "  parser.add_argument(\n",
    "    \"-n\", \"--normalization\", type=int, default=0,\n",
    "    help=\"Normalization (0: No Normalization, 1: BatchNorm, 2: LayerNorm, default: 0)\"\n",
    "  )\n",
    "\n",
    "  parser.add_argument(\n",
    "    \"--augment\", action=argparse.BooleanOptionalAction, default=False, help=\"Image Augment: True or False\"\n",
    "  )\n",
    "\n",
    "  return parser"
   ]
  },
  {
   "cell_type": "code",
   "execution_count": 17,
   "id": "07d86592",
   "metadata": {},
   "outputs": [],
   "source": [
    "CURRENT_FILE_PATH = os.path.dirname(os.path.abspath(\"__file__\"))\n",
    "CHECKPOINT_FILE_PATH = os.path.join(CURRENT_FILE_PATH, \"checkpoints\")\n",
    "if not os.path.isdir(CHECKPOINT_FILE_PATH):\n",
    "  os.makedirs(os.path.join(CURRENT_FILE_PATH, \"checkpoints\"))"
   ]
  },
  {
   "cell_type": "code",
   "execution_count": 18,
   "id": "5bc46679",
   "metadata": {},
   "outputs": [],
   "source": [
    "def main(args):\n",
    "  config = {\n",
    "    'epochs': args.epochs,\n",
    "    'batch_size': args.batch_size,\n",
    "    'validation_intervals': args.validation_intervals,\n",
    "    'learning_rate': args.learning_rate,\n",
    "    'early_stop_patience': args.early_stop_patience,\n",
    "    'augment' : args.augment,\n",
    "  }\n",
    "    \n",
    "    # CHECKPOINT_FILE_PATH 확인\n",
    "  print(f\"Directory exists: {os.path.exists(CHECKPOINT_FILE_PATH)}\")\n",
    "  print(f\"Checkpoint directory: {CHECKPOINT_FILE_PATH}\")\n",
    "\n",
    "  optimizer_names = [\"SGD\", \"Momentum\", \"RMSProp\", \"Adam\"]\n",
    "  run_time_str = datetime.now().astimezone().strftime('%Y-%m-%d_%H-%M-%S')\n",
    "  name = \"{0}_{1}\".format(optimizer_names[args.optimizer], run_time_str)\n",
    "\n",
    "  project_name = \"fmnist experiment for homework\"\n",
    "  wandb.init(\n",
    "    mode= \"online\" if args.wandb else \"disabled\",\n",
    "    project=project_name,\n",
    "    notes=\"fmnist experiment for homework\",\n",
    "    tags=[\"cnn\", \"fmnist\", \"hw3\"],\n",
    "    name=name,\n",
    "    config=config\n",
    "  )\n",
    "  print(args)\n",
    "  print(wandb.config)\n",
    "\n",
    "  device = torch.device(\"cuda:0\" if torch.cuda.is_available() else \"cpu\")\n",
    "  print(f\"Training on device {device}.\")\n",
    "\n",
    "  train_data_loader, validation_data_loader, mnist_transforms = get_fashion_mnist_data()\n",
    "\n",
    "  if args.normalization == 0:\n",
    "    model = get_cnn_model_with_dropout()\n",
    "  elif args.normalization == 1:\n",
    "    model = get_cnn_model_with_dropout_and_batch_normalization()\n",
    "  elif args.normalization == 2:\n",
    "    model = get_cnn_model_with_dropout_and_layer_normalization()\n",
    "  elif args.normalization == 3:\n",
    "    model = get_cnn_model_with_batch_normalization()\n",
    "  elif args.normalization == 4:\n",
    "    model = get_cnn_model_with_layer_normalization()\n",
    "  else:\n",
    "    raise ValueError()\n",
    "\n",
    "  model.to(device)\n",
    "  wandb.watch(model)\n",
    "\n",
    "  optimizers = [\n",
    "    optim.SGD(model.parameters(), lr=wandb.config.learning_rate, weight_decay=args.weight_decay),\n",
    "    optim.SGD(model.parameters(), lr=wandb.config.learning_rate, momentum=0.9, weight_decay=args.weight_decay),\n",
    "    optim.RMSprop(model.parameters(), lr=wandb.config.learning_rate, weight_decay=args.weight_decay),\n",
    "    optim.Adam(model.parameters(), lr=wandb.config.learning_rate, weight_decay=args.weight_decay),\n",
    "  ]\n",
    "\n",
    "  print(\"Optimizer:\", optimizers[args.optimizer])\n",
    "\n",
    "  classification_trainer = ClassificationTrainer(\n",
    "    project_name, model, optimizers[args.optimizer],\n",
    "    train_data_loader, validation_data_loader, f_mnist_transforms,\n",
    "    run_time_str, wandb, device, CHECKPOINT_FILE_PATH\n",
    "  )\n",
    "  classification_trainer.train_loop()\n",
    "\n",
    "  wandb.finish()"
   ]
  },
  {
   "cell_type": "code",
   "execution_count": 19,
   "id": "5c51c213",
   "metadata": {},
   "outputs": [
    {
     "name": "stdout",
     "output_type": "stream",
     "text": [
      "Defaulting to user installation because normal site-packages is not writeable\n",
      "Looking in indexes: https://pypi.org/simple, https://pypi.ngc.nvidia.com\n",
      "Requirement already satisfied: torchinfo in /home/work/.local/lib/python3.10/site-packages (1.8.0)\n",
      "\u001b[33mDEPRECATION: devscripts 2.22.1ubuntu1 has a non-standard version number. pip 24.1 will enforce this behaviour change. A possible replacement is to upgrade to a newer version of devscripts or contact the author to suggest that they release a version with a conforming version number. Discussion can be found at https://github.com/pypa/pip/issues/12063\u001b[0m\u001b[33m\n",
      "\u001b[0m\n",
      "\u001b[1m[\u001b[0m\u001b[34;49mnotice\u001b[0m\u001b[1;39;49m]\u001b[0m\u001b[39;49m A new release of pip is available: \u001b[0m\u001b[31;49m24.0\u001b[0m\u001b[39;49m -> \u001b[0m\u001b[32;49m24.3.1\u001b[0m\n",
      "\u001b[1m[\u001b[0m\u001b[34;49mnotice\u001b[0m\u001b[1;39;49m]\u001b[0m\u001b[39;49m To update, run: \u001b[0m\u001b[32;49mpython -m pip install --upgrade pip\u001b[0m\n"
     ]
    },
    {
     "data": {
      "text/plain": [
       "==========================================================================================\n",
       "Layer (type:depth-idx)                   Output Shape              Param #\n",
       "==========================================================================================\n",
       "MyModel                                  [1, 10]                   --\n",
       "├─Sequential: 1-1                        [1, 10]                   --\n",
       "│    └─Conv2d: 2-1                       [1, 16, 28, 28]           160\n",
       "│    └─BatchNorm2d: 2-2                  [1, 16, 28, 28]           32\n",
       "│    └─LeakyReLU: 2-3                    [1, 16, 28, 28]           --\n",
       "│    └─Conv2d: 2-4                       [1, 32, 28, 28]           4,640\n",
       "│    └─BatchNorm2d: 2-5                  [1, 32, 28, 28]           64\n",
       "│    └─LeakyReLU: 2-6                    [1, 32, 28, 28]           --\n",
       "│    └─MaxPool2d: 2-7                    [1, 32, 14, 14]           --\n",
       "│    └─Dropout: 2-8                      [1, 32, 14, 14]           --\n",
       "│    └─Conv2d: 2-9                       [1, 64, 14, 14]           18,496\n",
       "│    └─BatchNorm2d: 2-10                 [1, 64, 14, 14]           128\n",
       "│    └─LeakyReLU: 2-11                   [1, 64, 14, 14]           --\n",
       "│    └─MaxPool2d: 2-12                   [1, 64, 7, 7]             --\n",
       "│    └─Dropout: 2-13                     [1, 64, 7, 7]             --\n",
       "│    └─Flatten: 2-14                     [1, 3136]                 --\n",
       "│    └─Linear: 2-15                      [1, 256]                  803,072\n",
       "│    └─BatchNorm1d: 2-16                 [1, 256]                  512\n",
       "│    └─LeakyReLU: 2-17                   [1, 256]                  --\n",
       "│    └─Dropout: 2-18                     [1, 256]                  --\n",
       "│    └─Linear: 2-19                      [1, 128]                  32,896\n",
       "│    └─BatchNorm1d: 2-20                 [1, 128]                  256\n",
       "│    └─LeakyReLU: 2-21                   [1, 128]                  --\n",
       "│    └─Dropout: 2-22                     [1, 128]                  --\n",
       "│    └─Linear: 2-23                      [1, 10]                   1,290\n",
       "==========================================================================================\n",
       "Total params: 861,546\n",
       "Trainable params: 861,546\n",
       "Non-trainable params: 0\n",
       "Total mult-adds (M): 8.23\n",
       "==========================================================================================\n",
       "Input size (MB): 0.00\n",
       "Forward/backward pass size (MB): 0.81\n",
       "Params size (MB): 3.45\n",
       "Estimated Total Size (MB): 4.26\n",
       "=========================================================================================="
      ]
     },
     "execution_count": 19,
     "metadata": {},
     "output_type": "execute_result"
    }
   ],
   "source": [
    "!pip install torchinfo\n",
    "from torchinfo import summary\n",
    "\n",
    "model = get_cnn_model_with_dropout_and_batch_normalization()\n",
    "summary(model=model, input_size=(1, 1, 28, 28))"
   ]
  },
  {
   "cell_type": "code",
   "execution_count": 21,
   "id": "bdff81bc",
   "metadata": {},
   "outputs": [
    {
     "name": "stdout",
     "output_type": "stream",
     "text": [
      "Directory exists: True\n",
      "Checkpoint directory: /home/work/DL/link_dl/_02_homeworks/homework_3/checkpoints\n"
     ]
    },
    {
     "data": {
      "text/html": [
       "Tracking run with wandb version 0.18.7"
      ],
      "text/plain": [
       "<IPython.core.display.HTML object>"
      ]
     },
     "metadata": {},
     "output_type": "display_data"
    },
    {
     "data": {
      "text/html": [
       "Run data is saved locally in <code>/home/work/DL/link_dl/_02_homeworks/homework_3/wandb/run-20241122_164648-q2ighqvr</code>"
      ],
      "text/plain": [
       "<IPython.core.display.HTML object>"
      ]
     },
     "metadata": {},
     "output_type": "display_data"
    },
    {
     "data": {
      "text/html": [
       "Syncing run <strong><a href='https://wandb.ai/jissu02/fmnist%20experiment%20for%20homework/runs/q2ighqvr' target=\"_blank\">Adam_2024-11-22_16-46-48</a></strong> to <a href='https://wandb.ai/jissu02/fmnist%20experiment%20for%20homework' target=\"_blank\">Weights & Biases</a> (<a href='https://wandb.me/developer-guide' target=\"_blank\">docs</a>)<br/>"
      ],
      "text/plain": [
       "<IPython.core.display.HTML object>"
      ]
     },
     "metadata": {},
     "output_type": "display_data"
    },
    {
     "data": {
      "text/html": [
       " View project at <a href='https://wandb.ai/jissu02/fmnist%20experiment%20for%20homework' target=\"_blank\">https://wandb.ai/jissu02/fmnist%20experiment%20for%20homework</a>"
      ],
      "text/plain": [
       "<IPython.core.display.HTML object>"
      ]
     },
     "metadata": {},
     "output_type": "display_data"
    },
    {
     "data": {
      "text/html": [
       " View run at <a href='https://wandb.ai/jissu02/fmnist%20experiment%20for%20homework/runs/q2ighqvr' target=\"_blank\">https://wandb.ai/jissu02/fmnist%20experiment%20for%20homework/runs/q2ighqvr</a>"
      ],
      "text/plain": [
       "<IPython.core.display.HTML object>"
      ]
     },
     "metadata": {},
     "output_type": "display_data"
    },
    {
     "name": "stdout",
     "output_type": "stream",
     "text": [
      "Namespace(wandb=True, batch_size=1024, epochs=500, learning_rate=5e-05, validation_intervals=5, early_stop_patience=5, optimizer=3, weight_decay=0.001, dropout=True, normalization=1, augment=True)\n",
      "{'epochs': 500, 'batch_size': 1024, 'validation_intervals': 5, 'learning_rate': 5e-05, 'early_stop_patience': 5, 'augment': True}\n",
      "Training on device cuda:0.\n",
      "Num Train Samples:  55000\n",
      "Num Validation Samples:  5000\n",
      "Sample Shape:  torch.Size([1, 28, 28])\n",
      "Number of Data Loading Workers: 2\n",
      "Optimizer: Adam (\n",
      "Parameter Group 0\n",
      "    amsgrad: False\n",
      "    betas: (0.9, 0.999)\n",
      "    capturable: False\n",
      "    differentiable: False\n",
      "    eps: 1e-08\n",
      "    foreach: None\n",
      "    fused: None\n",
      "    lr: 5e-05\n",
      "    maximize: False\n",
      "    weight_decay: 0.001\n",
      ")\n",
      "Checkpoint directory: /home/work/DL/link_dl/_02_homeworks/homework_3/checkpoints\n",
      "Write permission for path: True\n",
      "CHECKPOINT_FILE_PATH: /home/work/DL/link_dl/_02_homeworks/homework_3/checkpoints\n",
      "[Epoch   1] T_loss: 1.6331, T_accuracy: 50.0600 | V_loss: 1.2074, V_accuracy: 72.9000 | Early stopping is stated! | T_time: 00:00:05, T_speed: 0.200\n",
      "Attempting to save checkpoint at: /home/work/DL/link_dl/_02_homeworks/homework_3/checkpoints/fmnist experiment for homework_checkpoint_2024-11-22_16-46-48.pt\n",
      "Write permission for path: True\n",
      "[Epoch   5] T_loss: 0.7489, T_accuracy: 79.2509 | V_loss: 0.6181, V_accuracy: 82.0800 | V_loss decreased ( 1.207 -->  0.618). Saving model... | T_time: 00:00:24, T_speed: 0.208\n",
      "Attempting to save checkpoint at: /home/work/DL/link_dl/_02_homeworks/homework_3/checkpoints/fmnist experiment for homework_checkpoint_2024-11-22_16-46-48.pt\n",
      "Write permission for path: True\n",
      "[Epoch  10] T_loss: 0.5385, T_accuracy: 84.2036 | V_loss: 0.4345, V_accuracy: 86.2000 | V_loss decreased ( 0.618 -->  0.434). Saving model... | T_time: 00:00:48, T_speed: 0.208\n",
      "Attempting to save checkpoint at: /home/work/DL/link_dl/_02_homeworks/homework_3/checkpoints/fmnist experiment for homework_checkpoint_2024-11-22_16-46-48.pt\n",
      "Write permission for path: True\n",
      "[Epoch  15] T_loss: 0.4422, T_accuracy: 86.4073 | V_loss: 0.3483, V_accuracy: 88.5200 | V_loss decreased ( 0.434 -->  0.348). Saving model... | T_time: 00:01:13, T_speed: 0.205\n",
      "Attempting to save checkpoint at: /home/work/DL/link_dl/_02_homeworks/homework_3/checkpoints/fmnist experiment for homework_checkpoint_2024-11-22_16-46-48.pt\n",
      "Write permission for path: True\n",
      "[Epoch  20] T_loss: 0.3867, T_accuracy: 87.5655 | V_loss: 0.3061, V_accuracy: 89.6400 | V_loss decreased ( 0.348 -->  0.306). Saving model... | T_time: 00:01:37, T_speed: 0.206\n",
      "Attempting to save checkpoint at: /home/work/DL/link_dl/_02_homeworks/homework_3/checkpoints/fmnist experiment for homework_checkpoint_2024-11-22_16-46-48.pt\n",
      "Write permission for path: True\n",
      "[Epoch  25] T_loss: 0.3491, T_accuracy: 88.5218 | V_loss: 0.2755, V_accuracy: 90.4200 | V_loss decreased ( 0.306 -->  0.275). Saving model... | T_time: 00:02:01, T_speed: 0.207\n",
      "Attempting to save checkpoint at: /home/work/DL/link_dl/_02_homeworks/homework_3/checkpoints/fmnist experiment for homework_checkpoint_2024-11-22_16-46-48.pt\n",
      "Write permission for path: True\n",
      "[Epoch  30] T_loss: 0.3239, T_accuracy: 89.2273 | V_loss: 0.2570, V_accuracy: 90.9000 | V_loss decreased ( 0.275 -->  0.257). Saving model... | T_time: 00:02:25, T_speed: 0.207\n",
      "Attempting to save checkpoint at: /home/work/DL/link_dl/_02_homeworks/homework_3/checkpoints/fmnist experiment for homework_checkpoint_2024-11-22_16-46-48.pt\n",
      "Write permission for path: True\n",
      "[Epoch  35] T_loss: 0.3066, T_accuracy: 89.6909 | V_loss: 0.2436, V_accuracy: 91.3000 | V_loss decreased ( 0.257 -->  0.244). Saving model... | T_time: 00:02:49, T_speed: 0.207\n",
      "Attempting to save checkpoint at: /home/work/DL/link_dl/_02_homeworks/homework_3/checkpoints/fmnist experiment for homework_checkpoint_2024-11-22_16-46-48.pt\n",
      "Write permission for path: True\n",
      "[Epoch  40] T_loss: 0.2907, T_accuracy: 90.1200 | V_loss: 0.2315, V_accuracy: 91.8400 | V_loss decreased ( 0.244 -->  0.231). Saving model... | T_time: 00:03:12, T_speed: 0.208\n",
      "Attempting to save checkpoint at: /home/work/DL/link_dl/_02_homeworks/homework_3/checkpoints/fmnist experiment for homework_checkpoint_2024-11-22_16-46-48.pt\n",
      "Write permission for path: True\n",
      "[Epoch  45] T_loss: 0.2732, T_accuracy: 90.5945 | V_loss: 0.2251, V_accuracy: 92.0800 | V_loss decreased ( 0.231 -->  0.225). Saving model... | T_time: 00:03:36, T_speed: 0.208\n",
      "Attempting to save checkpoint at: /home/work/DL/link_dl/_02_homeworks/homework_3/checkpoints/fmnist experiment for homework_checkpoint_2024-11-22_16-46-48.pt\n",
      "Write permission for path: True\n",
      "[Epoch  50] T_loss: 0.2618, T_accuracy: 90.8818 | V_loss: 0.2167, V_accuracy: 92.3000 | V_loss decreased ( 0.225 -->  0.217). Saving model... | T_time: 00:03:59, T_speed: 0.209\n",
      "Attempting to save checkpoint at: /home/work/DL/link_dl/_02_homeworks/homework_3/checkpoints/fmnist experiment for homework_checkpoint_2024-11-22_16-46-48.pt\n",
      "Write permission for path: True\n",
      "[Epoch  55] T_loss: 0.2533, T_accuracy: 91.2036 | V_loss: 0.2124, V_accuracy: 92.1800 | V_loss decreased ( 0.217 -->  0.212). Saving model... | T_time: 00:04:23, T_speed: 0.209\n",
      "Attempting to save checkpoint at: /home/work/DL/link_dl/_02_homeworks/homework_3/checkpoints/fmnist experiment for homework_checkpoint_2024-11-22_16-46-48.pt\n",
      "Write permission for path: True\n",
      "[Epoch  60] T_loss: 0.2448, T_accuracy: 91.4436 | V_loss: 0.2057, V_accuracy: 92.4000 | V_loss decreased ( 0.212 -->  0.206). Saving model... | T_time: 00:04:47, T_speed: 0.209\n",
      "Attempting to save checkpoint at: /home/work/DL/link_dl/_02_homeworks/homework_3/checkpoints/fmnist experiment for homework_checkpoint_2024-11-22_16-46-48.pt\n",
      "Write permission for path: True\n",
      "[Epoch  65] T_loss: 0.2360, T_accuracy: 91.7418 | V_loss: 0.2008, V_accuracy: 92.5400 | V_loss decreased ( 0.206 -->  0.201). Saving model... | T_time: 00:05:10, T_speed: 0.210\n",
      "Attempting to save checkpoint at: /home/work/DL/link_dl/_02_homeworks/homework_3/checkpoints/fmnist experiment for homework_checkpoint_2024-11-22_16-46-48.pt\n",
      "Write permission for path: True\n",
      "[Epoch  70] T_loss: 0.2301, T_accuracy: 91.9382 | V_loss: 0.1983, V_accuracy: 92.5000 | V_loss decreased ( 0.201 -->  0.198). Saving model... | T_time: 00:05:33, T_speed: 0.210\n",
      "Attempting to save checkpoint at: /home/work/DL/link_dl/_02_homeworks/homework_3/checkpoints/fmnist experiment for homework_checkpoint_2024-11-22_16-46-48.pt\n",
      "Write permission for path: True\n",
      "[Epoch  75] T_loss: 0.2214, T_accuracy: 92.2564 | V_loss: 0.1930, V_accuracy: 92.8200 | V_loss decreased ( 0.198 -->  0.193). Saving model... | T_time: 00:05:56, T_speed: 0.211\n",
      "Attempting to save checkpoint at: /home/work/DL/link_dl/_02_homeworks/homework_3/checkpoints/fmnist experiment for homework_checkpoint_2024-11-22_16-46-48.pt\n",
      "Write permission for path: True\n",
      "[Epoch  80] T_loss: 0.2154, T_accuracy: 92.4109 | V_loss: 0.1876, V_accuracy: 93.0400 | V_loss decreased ( 0.193 -->  0.188). Saving model... | T_time: 00:06:19, T_speed: 0.211\n",
      "Attempting to save checkpoint at: /home/work/DL/link_dl/_02_homeworks/homework_3/checkpoints/fmnist experiment for homework_checkpoint_2024-11-22_16-46-48.pt\n",
      "Write permission for path: True\n",
      "[Epoch  85] T_loss: 0.2082, T_accuracy: 92.6709 | V_loss: 0.1848, V_accuracy: 93.0800 | V_loss decreased ( 0.188 -->  0.185). Saving model... | T_time: 00:06:43, T_speed: 0.211\n",
      "Attempting to save checkpoint at: /home/work/DL/link_dl/_02_homeworks/homework_3/checkpoints/fmnist experiment for homework_checkpoint_2024-11-22_16-46-48.pt\n",
      "Write permission for path: True\n",
      "[Epoch  90] T_loss: 0.2030, T_accuracy: 92.7964 | V_loss: 0.1846, V_accuracy: 93.0600 | V_loss decreased ( 0.185 -->  0.185). Saving model... | T_time: 00:07:06, T_speed: 0.211\n",
      "Attempting to save checkpoint at: /home/work/DL/link_dl/_02_homeworks/homework_3/checkpoints/fmnist experiment for homework_checkpoint_2024-11-22_16-46-48.pt\n",
      "Write permission for path: True\n",
      "[Epoch  95] T_loss: 0.1971, T_accuracy: 92.9473 | V_loss: 0.1782, V_accuracy: 93.2800 | V_loss decreased ( 0.185 -->  0.178). Saving model... | T_time: 00:07:29, T_speed: 0.212\n",
      "[Epoch 100] T_loss: 0.1939, T_accuracy: 93.2127 | V_loss: 0.1824, V_accuracy: 93.3600 | Early stopping counter: 1 out of 5 | T_time: 00:07:52, T_speed: 0.212\n"
     ]
    },
    {
     "name": "stdout",
     "output_type": "stream",
     "text": [
      "Attempting to save checkpoint at: /home/work/DL/link_dl/_02_homeworks/homework_3/checkpoints/fmnist experiment for homework_checkpoint_2024-11-22_16-46-48.pt\n",
      "Write permission for path: True\n",
      "[Epoch 105] T_loss: 0.1870, T_accuracy: 93.4455 | V_loss: 0.1766, V_accuracy: 93.3200 | V_loss decreased ( 0.178 -->  0.177). Saving model... | T_time: 00:08:15, T_speed: 0.212\n",
      "[Epoch 110] T_loss: 0.1807, T_accuracy: 93.5327 | V_loss: 0.1780, V_accuracy: 93.3600 | Early stopping counter: 1 out of 5 | T_time: 00:08:38, T_speed: 0.212\n",
      "Attempting to save checkpoint at: /home/work/DL/link_dl/_02_homeworks/homework_3/checkpoints/fmnist experiment for homework_checkpoint_2024-11-22_16-46-48.pt\n",
      "Write permission for path: True\n",
      "[Epoch 115] T_loss: 0.1776, T_accuracy: 93.7073 | V_loss: 0.1750, V_accuracy: 93.5200 | V_loss decreased ( 0.177 -->  0.175). Saving model... | T_time: 00:09:01, T_speed: 0.213\n",
      "Attempting to save checkpoint at: /home/work/DL/link_dl/_02_homeworks/homework_3/checkpoints/fmnist experiment for homework_checkpoint_2024-11-22_16-46-48.pt\n",
      "Write permission for path: True\n",
      "[Epoch 120] T_loss: 0.1731, T_accuracy: 93.8418 | V_loss: 0.1723, V_accuracy: 93.6400 | V_loss decreased ( 0.175 -->  0.172). Saving model... | T_time: 00:09:24, T_speed: 0.213\n",
      "Attempting to save checkpoint at: /home/work/DL/link_dl/_02_homeworks/homework_3/checkpoints/fmnist experiment for homework_checkpoint_2024-11-22_16-46-48.pt\n",
      "Write permission for path: True\n",
      "[Epoch 125] T_loss: 0.1692, T_accuracy: 94.0909 | V_loss: 0.1719, V_accuracy: 93.7000 | V_loss decreased ( 0.172 -->  0.172). Saving model... | T_time: 00:09:48, T_speed: 0.213\n",
      "Attempting to save checkpoint at: /home/work/DL/link_dl/_02_homeworks/homework_3/checkpoints/fmnist experiment for homework_checkpoint_2024-11-22_16-46-48.pt\n",
      "Write permission for path: True\n",
      "[Epoch 130] T_loss: 0.1633, T_accuracy: 94.2182 | V_loss: 0.1704, V_accuracy: 93.7400 | V_loss decreased ( 0.172 -->  0.170). Saving model... | T_time: 00:10:11, T_speed: 0.213\n",
      "[Epoch 135] T_loss: 0.1596, T_accuracy: 94.4073 | V_loss: 0.1715, V_accuracy: 93.8800 | Early stopping counter: 1 out of 5 | T_time: 00:10:35, T_speed: 0.213\n",
      "Attempting to save checkpoint at: /home/work/DL/link_dl/_02_homeworks/homework_3/checkpoints/fmnist experiment for homework_checkpoint_2024-11-22_16-46-48.pt\n",
      "Write permission for path: True\n",
      "[Epoch 140] T_loss: 0.1586, T_accuracy: 94.3455 | V_loss: 0.1675, V_accuracy: 93.9000 | V_loss decreased ( 0.170 -->  0.168). Saving model... | T_time: 00:10:58, T_speed: 0.213\n",
      "Attempting to save checkpoint at: /home/work/DL/link_dl/_02_homeworks/homework_3/checkpoints/fmnist experiment for homework_checkpoint_2024-11-22_16-46-48.pt\n",
      "Write permission for path: True\n",
      "[Epoch 145] T_loss: 0.1516, T_accuracy: 94.7236 | V_loss: 0.1666, V_accuracy: 93.9000 | V_loss decreased ( 0.168 -->  0.167). Saving model... | T_time: 00:11:22, T_speed: 0.213\n",
      "Attempting to save checkpoint at: /home/work/DL/link_dl/_02_homeworks/homework_3/checkpoints/fmnist experiment for homework_checkpoint_2024-11-22_16-46-48.pt\n",
      "Write permission for path: True\n",
      "[Epoch 150] T_loss: 0.1467, T_accuracy: 94.7909 | V_loss: 0.1634, V_accuracy: 93.9600 | V_loss decreased ( 0.167 -->  0.163). Saving model... | T_time: 00:11:46, T_speed: 0.212\n",
      "[Epoch 155] T_loss: 0.1445, T_accuracy: 94.9273 | V_loss: 0.1662, V_accuracy: 93.9400 | Early stopping counter: 1 out of 5 | T_time: 00:12:09, T_speed: 0.213\n",
      "[Epoch 160] T_loss: 0.1421, T_accuracy: 94.9491 | V_loss: 0.1663, V_accuracy: 93.7800 | Early stopping counter: 2 out of 5 | T_time: 00:12:32, T_speed: 0.213\n",
      "[Epoch 165] T_loss: 0.1407, T_accuracy: 95.1327 | V_loss: 0.1657, V_accuracy: 93.9400 | Early stopping counter: 3 out of 5 | T_time: 00:12:56, T_speed: 0.213\n",
      "[Epoch 170] T_loss: 0.1367, T_accuracy: 95.3036 | V_loss: 0.1646, V_accuracy: 93.9800 | Early stopping counter: 4 out of 5 | T_time: 00:13:19, T_speed: 0.213\n",
      "Attempting to save checkpoint at: /home/work/DL/link_dl/_02_homeworks/homework_3/checkpoints/fmnist experiment for homework_checkpoint_2024-11-22_16-46-48.pt\n",
      "Write permission for path: True\n",
      "[Epoch 175] T_loss: 0.1314, T_accuracy: 95.4491 | V_loss: 0.1630, V_accuracy: 94.1800 | V_loss decreased ( 0.163 -->  0.163). Saving model... | T_time: 00:13:43, T_speed: 0.213\n",
      "[Epoch 180] T_loss: 0.1285, T_accuracy: 95.4509 | V_loss: 0.1667, V_accuracy: 94.2200 | Early stopping counter: 1 out of 5 | T_time: 00:14:07, T_speed: 0.213\n",
      "[Epoch 185] T_loss: 0.1263, T_accuracy: 95.5782 | V_loss: 0.1643, V_accuracy: 94.1000 | Early stopping counter: 2 out of 5 | T_time: 00:14:30, T_speed: 0.213\n",
      "[Epoch 190] T_loss: 0.1217, T_accuracy: 95.7509 | V_loss: 0.1635, V_accuracy: 94.3200 | Early stopping counter: 3 out of 5 | T_time: 00:14:54, T_speed: 0.213\n",
      "[Epoch 195] T_loss: 0.1222, T_accuracy: 95.7800 | V_loss: 0.1657, V_accuracy: 94.0800 | Early stopping counter: 4 out of 5 | T_time: 00:15:17, T_speed: 0.213\n",
      "[Epoch 200] T_loss: 0.1185, T_accuracy: 95.8836 | V_loss: 0.1671, V_accuracy: 94.1600 | Early stopping counter: 5 out of 5 *** TRAIN EARLY STOPPED! *** | T_time: 00:15:41, T_speed: 0.213\n",
      "Final training time: 00:15:41\n"
     ]
    },
    {
     "data": {
      "text/html": [
       "\n",
       "    <style>\n",
       "        .wandb-row {\n",
       "            display: flex;\n",
       "            flex-direction: row;\n",
       "            flex-wrap: wrap;\n",
       "            justify-content: flex-start;\n",
       "            width: 100%;\n",
       "        }\n",
       "        .wandb-col {\n",
       "            display: flex;\n",
       "            flex-direction: column;\n",
       "            flex-basis: 100%;\n",
       "            flex: 1;\n",
       "            padding: 10px;\n",
       "        }\n",
       "    </style>\n",
       "<div class=\"wandb-row\"><div class=\"wandb-col\"><h3>Run history:</h3><br/><table class=\"wandb\"><tr><td>Epoch</td><td>▁▁▁▁▂▂▂▂▂▃▃▃▃▃▃▄▄▄▄▄▄▅▅▅▅▅▆▆▆▆▆▆▇▇▇▇▇▇██</td></tr><tr><td>Training accuracy (%)</td><td>▁▅▆▇▇▇▇▇▇▇▇▇▇▇▇▇▇███████████████████████</td></tr><tr><td>Training loss</td><td>█▄▃▂▂▂▂▂▂▂▂▂▂▂▂▁▁▁▁▁▁▁▁▁▁▁▁▁▁▁▁▁▁▁▁▁▁▁▁▁</td></tr><tr><td>Training speed (epochs/sec.)</td><td>▁▆▆▄▄▅▅▅▆▆▆▆▆▆▇▇▇▇▇▇████████████████████</td></tr><tr><td>Validation accuracy (%)</td><td>▁▄▅▆▆▇▇▇▇▇▇▇▇▇▇█████████████████████████</td></tr><tr><td>Validation loss</td><td>█▄▃▂▂▂▂▂▁▁▁▁▁▁▁▁▁▁▁▁▁▁▁▁▁▁▁▁▁▁▁▁▁▁▁▁▁▁▁▁</td></tr></table><br/></div><div class=\"wandb-col\"><h3>Run summary:</h3><br/><table class=\"wandb\"><tr><td>Epoch</td><td>200</td></tr><tr><td>Training accuracy (%)</td><td>95.88364</td></tr><tr><td>Training loss</td><td>0.11852</td></tr><tr><td>Training speed (epochs/sec.)</td><td>0.21254</td></tr><tr><td>Validation accuracy (%)</td><td>94.16</td></tr><tr><td>Validation loss</td><td>0.16713</td></tr></table><br/></div></div>"
      ],
      "text/plain": [
       "<IPython.core.display.HTML object>"
      ]
     },
     "metadata": {},
     "output_type": "display_data"
    },
    {
     "data": {
      "text/html": [
       " View run <strong style=\"color:#cdcd00\">Adam_2024-11-22_16-46-48</strong> at: <a href='https://wandb.ai/jissu02/fmnist%20experiment%20for%20homework/runs/q2ighqvr' target=\"_blank\">https://wandb.ai/jissu02/fmnist%20experiment%20for%20homework/runs/q2ighqvr</a><br/> View project at: <a href='https://wandb.ai/jissu02/fmnist%20experiment%20for%20homework' target=\"_blank\">https://wandb.ai/jissu02/fmnist%20experiment%20for%20homework</a><br/>Synced 5 W&B file(s), 0 media file(s), 0 artifact file(s) and 0 other file(s)"
      ],
      "text/plain": [
       "<IPython.core.display.HTML object>"
      ]
     },
     "metadata": {},
     "output_type": "display_data"
    },
    {
     "data": {
      "text/html": [
       "Find logs at: <code>./wandb/run-20241122_164648-q2ighqvr/logs</code>"
      ],
      "text/plain": [
       "<IPython.core.display.HTML object>"
      ]
     },
     "metadata": {},
     "output_type": "display_data"
    }
   ],
   "source": [
    "# \"--wandb -r 1e-4 -v 5 -b 1024 -p 10 -o 3 -w 0.0001 --dropout -n 1 --augment\"\n",
    "args_str = \"--wandb -r 5e-5 -v 5 -b 1024 -p 5 -o 3 -w 0.001 --dropout -n 1 --augment\"\n",
    "args_list = args_str.split()\n",
    "\n",
    "parser = get_parser()\n",
    "args = parser.parse_args(args_list)\n",
    "main(args)"
   ]
  },
  {
   "cell_type": "markdown",
   "id": "01b46ce1",
   "metadata": {},
   "source": [
    "learning rate : 5e-5\n",
    "\n",
    "batch size : 1024\n",
    "\n",
    "early stop patience : 5\n",
    "\n",
    "weight decay value : 0.001\n",
    "\n",
    "normalization type : get_cnn_model_with_dropout_and_batch_normalization\n",
    "\n",
    "dropout rate : 0.3"
   ]
  },
  {
   "cell_type": "markdown",
   "id": "ea2d4812",
   "metadata": {},
   "source": [
    "# [문제 4] 샘플 테스트 데이터 분류 예측 결과 확인하기"
   ]
  },
  {
   "cell_type": "code",
   "execution_count": 22,
   "id": "814a4b87",
   "metadata": {},
   "outputs": [],
   "source": [
    "class ClassificationTester:\n",
    "  def __init__(self, project_name, model, test_data_loader, transforms, checkpoint_file_path):\n",
    "    self.project_name = project_name\n",
    "    self.model = model\n",
    "    self.test_data_loader = test_data_loader\n",
    "    self.transforms = transforms\n",
    "\n",
    "    self.latest_file_path = os.path.join(\n",
    "      checkpoint_file_path, f\"{project_name}_checkpoint_latest.pt\"\n",
    "    )\n",
    "\n",
    "    print(\"MODEL FILE: {0}\".format(self.latest_file_path))\n",
    "    \n",
    "    model.load_state_dict(torch.load('/home/work/DL/link_dl/_02_homeworks/homework_3/checkpoints/fmnist experiment for homework_checkpoint_2024-11-22_13-29-50.pt'))\n",
    "    print(\"Checkpoint loaded successfully!\")\n",
    "\n",
    "  def test(self):\n",
    "    self.model.eval()    \n",
    "    print(\"Start testing...\")\n",
    "\n",
    "    num_corrects_test = 0\n",
    "    num_tested_samples = 0\n",
    "\n",
    "    with torch.no_grad():\n",
    "        # 테스트 데이터를 작은 배치 단위로 처리\n",
    "        for idx, test_batch in enumerate(self.test_data_loader):\n",
    "            input_test, target_test = test_batch\n",
    "\n",
    "            # Apply transformations if needed\n",
    "            input_test = self.transforms(input_test)\n",
    "\n",
    "            # Move data to the model device\n",
    "            model_device = next(self.model.parameters()).device\n",
    "            input_test = input_test.to(model_device)\n",
    "            target_test = target_test.to(model_device)\n",
    "\n",
    "            try:\n",
    "                # Forward pass\n",
    "                output_test = self.model(input_test)\n",
    "                predicted_test = torch.argmax(output_test, dim=1)\n",
    "\n",
    "                # Compute accuracy\n",
    "                num_corrects_test += torch.sum(torch.eq(predicted_test, target_test))\n",
    "                num_tested_samples += len(input_test)\n",
    "            except Exception as e:\n",
    "                print(f\"Error during model forward pass: {e}\")\n",
    "                raise\n",
    "\n",
    "        test_accuracy = 100.0 * num_corrects_test / num_tested_samples\n",
    "        print(f\"TEST RESULTS: {test_accuracy:6.3f}%\")\n",
    "\n",
    "\n",
    "\n",
    "  def test_single(self, input_test):\n",
    "    self.model.eval()    \n",
    "\n",
    "    with torch.no_grad():\n",
    "      input_test = self.transforms(input_test)\n",
    "\n",
    "      output_test = self.model(input_test)\n",
    "      predicted_test = torch.argmax(output_test, dim=1)\n",
    "\n",
    "    return predicted_test.item()\n"
   ]
  },
  {
   "cell_type": "code",
   "execution_count": 23,
   "id": "57fd2441",
   "metadata": {},
   "outputs": [
    {
     "name": "stdout",
     "output_type": "stream",
     "text": [
      "Num Test Samples:  10000\n",
      "Sample Shape:  torch.Size([1, 28, 28])\n",
      "MODEL FILE: /home/work/DL/link_dl/_02_homeworks/homework_3/checkpoints/fashion mnist_checkpoint_latest.pt\n",
      "Checkpoint loaded successfully!\n",
      "Start testing...\n",
      "TEST RESULTS: 93.370%\n",
      "\n",
      "IMAGE 1\n",
      "     LABEL: 9\n"
     ]
    },
    {
     "data": {
      "image/png": "[encoded data removed]",
      "text/plain": [
       "<Figure size 640x480 with 1 Axes>"
      ]
     },
     "metadata": {},
     "output_type": "display_data"
    },
    {
     "name": "stdout",
     "output_type": "stream",
     "text": [
      "IMAGE 2\n",
      "     LABEL: 2\n"
     ]
    },
    {
     "data": {
      "image/png": "[encoded data removed]",
      "text/plain": [
       "<Figure size 640x480 with 1 Axes>"
      ]
     },
     "metadata": {},
     "output_type": "display_data"
    },
    {
     "name": "stdout",
     "output_type": "stream",
     "text": [
      "IMAGE 3\n",
      "     LABEL: 1\n"
     ]
    },
    {
     "data": {
      "image/png": "[encoded data removed]",
      "text/plain": [
       "<Figure size 640x480 with 1 Axes>"
      ]
     },
     "metadata": {},
     "output_type": "display_data"
    },
    {
     "name": "stdout",
     "output_type": "stream",
     "text": [
      "IMAGE 4\n",
      "     LABEL: 1\n"
     ]
    },
    {
     "data": {
      "image/png": "[encoded data removed]",
      "text/plain": [
       "<Figure size 640x480 with 1 Axes>"
      ]
     },
     "metadata": {},
     "output_type": "display_data"
    },
    {
     "name": "stdout",
     "output_type": "stream",
     "text": [
      "IMAGE 5\n",
      "     LABEL: 6\n"
     ]
    },
    {
     "data": {
      "image/png": "[encoded data removed]",
      "text/plain": [
       "<Figure size 640x480 with 1 Axes>"
      ]
     },
     "metadata": {},
     "output_type": "display_data"
    },
    {
     "name": "stdout",
     "output_type": "stream",
     "text": [
      "IMAGE 6\n",
      "     LABEL: 1\n"
     ]
    },
    {
     "data": {
      "image/png": "[encoded data removed]",
      "text/plain": [
       "<Figure size 640x480 with 1 Axes>"
      ]
     },
     "metadata": {},
     "output_type": "display_data"
    },
    {
     "name": "stdout",
     "output_type": "stream",
     "text": [
      "IMAGE 7\n",
      "     LABEL: 4\n"
     ]
    },
    {
     "data": {
      "image/png": "[encoded data removed]",
      "text/plain": [
       "<Figure size 640x480 with 1 Axes>"
      ]
     },
     "metadata": {},
     "output_type": "display_data"
    },
    {
     "name": "stdout",
     "output_type": "stream",
     "text": [
      "IMAGE 8\n",
      "     LABEL: 6\n"
     ]
    },
    {
     "data": {
      "image/png": "[encoded data removed]",
      "text/plain": [
       "<Figure size 640x480 with 1 Axes>"
      ]
     },
     "metadata": {},
     "output_type": "display_data"
    },
    {
     "name": "stdout",
     "output_type": "stream",
     "text": [
      "IMAGE 9\n",
      "     LABEL: 5\n"
     ]
    },
    {
     "data": {
      "image/png": "[encoded data removed]",
      "text/plain": [
       "<Figure size 640x480 with 1 Axes>"
      ]
     },
     "metadata": {},
     "output_type": "display_data"
    },
    {
     "name": "stdout",
     "output_type": "stream",
     "text": [
      "IMAGE 10\n",
      "     LABEL: 7\n"
     ]
    },
    {
     "data": {
      "image/png": "[encoded data removed]",
      "text/plain": [
       "<Figure size 640x480 with 1 Axes>"
      ]
     },
     "metadata": {},
     "output_type": "display_data"
    }
   ],
   "source": [
    "from matplotlib import pyplot as plt\n",
    "\n",
    "f_mnist_test_images, test_data_loader, f_mnist_transforms =  get_fashion_mnist_test_data()\n",
    "test_model = get_cnn_model_with_dropout_and_batch_normalization()\n",
    "\n",
    "classification_tester = ClassificationTester(\n",
    "  \"fashion mnist\", test_model, test_data_loader, f_mnist_transforms, CHECKPOINT_FILE_PATH\n",
    ")\n",
    "classification_tester.test()\n",
    "\n",
    "print()\n",
    "\n",
    "# 이미지 10개 출력\n",
    "for i in range(10):\n",
    "    img, label = f_mnist_test_images[i]\n",
    "    print(\"IMAGE\", i+1)\n",
    "    print(\"     LABEL:\", label)\n",
    "    plt.imshow(img)\n",
    "    plt.show()"
   ]
  },
  {
   "cell_type": "markdown",
   "id": "4c69792f",
   "metadata": {},
   "source": [
    "[예측결과]\n",
    "\n",
    "pullover와 coat의 경우, 두 가지 모두 상의이며, 비슷한 형태와 패턴을 가진 제품이 있다. 특히 일부 pullover는 coat와 유사한 디자인을 가지고 있어 이 두 카테고리간의 이미지 분류 예측을 어렵게 했다고 생각한다."
   ]
  },
  {
   "cell_type": "markdown",
   "id": "cbf7054f",
   "metadata": {},
   "source": [
    "[숙제후기]\n",
    "\n",
    "이번 과제를 하면서, 제일 먼저 modern cnn 모델로 작성하면 좀 더 좋은 validation_accuracy와 test_accuracy가 나올거라고 생각했다. 그러나, googlenet을 사용하면서, test_accuracy가 100에 가까울 정도로 좋은 결과를 내지만, 반대로 validation_accuracy 같은 경우에는 급상승하다가 중간지점에 validation_loss가 급상승하면서 떨어지는 현상을 보였다. overfitting 현상이 생겨서 그런 결과가 나오는 것이라고 생각하고, learning rate, batch size, early stop patience, weight decay value 등 과적합을 줄이기 위해 노력했지만, 오히려 더 좋지 않은 결과를 보였다. 그래서 googlenet이 아닌 cnn 모델을 학습시키는 방향으로 전환하게 되었다. model을 총 5개의 모델로 두고, 데이터를 학습시켜본 결과, 가장 좋은 결과를 가져온 모델은 get_cnn_model_with_dropout_and_batch_normalization 모델이였다. 그래서 이 모델을 바탕으로, learning rate, batch size, validation interval, optimizer, weight decay, dropout 등의 값을 조절시켜 결과를 냈다. 또한, 처음에는 get_fashion_mnist_test_data의 batch size를 모든 데이터를 다 살펴보도록 하였는데, 그렇게 하니 이미지를 출력하는 과정에서 kernel이 자꾸 죽는 현상이 발생하여 batch size를 128로 조정하여 결과를 내렸다. 그러나 모델이 test accurary가 validation accurary보다 높다는 점에서 어떠한 이유에서 이러한 결과가 나오는지 조금 더 생각해봐야갰다고 생각했다."
   ]
  }
 ],
 "metadata": {
  "kernelspec": {
   "display_name": "PyTorch 2.3 (NGC 24.03/Python 3.10) on Backend.AI",
   "language": "python",
   "name": "python3"
  },
  "language_info": {
   "codemirror_mode": {
    "name": "ipython",
    "version": 3
   },
   "file_extension": ".py",
   "mimetype": "text/x-python",
   "name": "python",
   "nbconvert_exporter": "python",
   "pygments_lexer": "ipython3",
   "version": "3.10.12"
  }
 },
 "nbformat": 4,
 "nbformat_minor": 5
}
